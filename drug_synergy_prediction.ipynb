{
 "cells": [
  {
   "cell_type": "code",
   "execution_count": 56,
   "id": "12c7a4ba-4057-455f-b974-4716f56361d6",
   "metadata": {},
   "outputs": [],
   "source": [
    "import pandas as pd\n",
    "import numpy as np\n",
    "from sklearn.metrics.pairwise import cosine_similarity\n",
    "import torch\n",
    "import torch.nn as nn\n",
    "import torch.nn.functional as F\n",
    "from sklearn.metrics import roc_auc_score, average_precision_score\n",
    "import numpy as np"
   ]
  },
  {
   "cell_type": "code",
   "execution_count": 2,
   "id": "e68d3e6c-86dc-4d79-b211-e356b9a1e79a",
   "metadata": {},
   "outputs": [],
   "source": [
    "drug_interaction=pd.read_csv(\"drug_interaction_drugcomb.csv\",low_memory=False)\n",
    "drug_feature=pd.read_csv(\"drug_feature.csv\",index_col=0)\n",
    "cell_feature=pd.read_csv(\"final_cell_line_feature.csv\",index_col=0)"
   ]
  },
  {
   "cell_type": "code",
   "execution_count": 3,
   "id": "5f652fd8-f1ad-46d7-8a90-7c2b70610f92",
   "metadata": {},
   "outputs": [
    {
     "data": {
      "text/plain": [
       "(1048575, 18)"
      ]
     },
     "execution_count": 3,
     "metadata": {},
     "output_type": "execute_result"
    }
   ],
   "source": [
    "drug_interaction.shape"
   ]
  },
  {
   "cell_type": "code",
   "execution_count": 4,
   "id": "580887b6-039a-46cf-9455-f81ede6e813e",
   "metadata": {},
   "outputs": [
    {
     "data": {
      "text/html": [
       "<div>\n",
       "<style scoped>\n",
       "    .dataframe tbody tr th:only-of-type {\n",
       "        vertical-align: middle;\n",
       "    }\n",
       "\n",
       "    .dataframe tbody tr th {\n",
       "        vertical-align: top;\n",
       "    }\n",
       "\n",
       "    .dataframe thead th {\n",
       "        text-align: right;\n",
       "    }\n",
       "</style>\n",
       "<table border=\"1\" class=\"dataframe\">\n",
       "  <thead>\n",
       "    <tr style=\"text-align: right;\">\n",
       "      <th></th>\n",
       "      <th>block_id</th>\n",
       "      <th>drug_row</th>\n",
       "      <th>drug_col</th>\n",
       "      <th>cell_line_name</th>\n",
       "      <th>conc_r_unit</th>\n",
       "      <th>conc_c_unit</th>\n",
       "      <th>css</th>\n",
       "      <th>synergy_zip</th>\n",
       "      <th>synergy_bliss</th>\n",
       "      <th>synergy_loewe</th>\n",
       "      <th>synergy_hsa</th>\n",
       "      <th>ic50_row</th>\n",
       "      <th>ic50_col</th>\n",
       "      <th>ri_row</th>\n",
       "      <th>ri_col</th>\n",
       "      <th>css_row</th>\n",
       "      <th>css_col</th>\n",
       "      <th>S</th>\n",
       "    </tr>\n",
       "  </thead>\n",
       "  <tbody>\n",
       "    <tr>\n",
       "      <th>0</th>\n",
       "      <td>1</td>\n",
       "      <td>5-FU</td>\n",
       "      <td>ABT-888</td>\n",
       "      <td>A2058</td>\n",
       "      <td>uM</td>\n",
       "      <td>uM</td>\n",
       "      <td>30.869</td>\n",
       "      <td>3.865915</td>\n",
       "      <td>6.256584</td>\n",
       "      <td>-2.951386</td>\n",
       "      <td>5.536903</td>\n",
       "      <td>5.126836</td>\n",
       "      <td>3.267734</td>\n",
       "      <td>11.471</td>\n",
       "      <td>-0.441</td>\n",
       "      <td>22.545</td>\n",
       "      <td>39.193</td>\n",
       "      <td>19.839</td>\n",
       "    </tr>\n",
       "    <tr>\n",
       "      <th>1</th>\n",
       "      <td>2</td>\n",
       "      <td>5-FU</td>\n",
       "      <td>ABT-888</td>\n",
       "      <td>A2058</td>\n",
       "      <td>uM</td>\n",
       "      <td>uM</td>\n",
       "      <td>27.460</td>\n",
       "      <td>8.247403</td>\n",
       "      <td>12.333896</td>\n",
       "      <td>3.125927</td>\n",
       "      <td>11.614215</td>\n",
       "      <td>5.126836</td>\n",
       "      <td>3.267734</td>\n",
       "      <td>11.471</td>\n",
       "      <td>-0.441</td>\n",
       "      <td>24.135</td>\n",
       "      <td>30.785</td>\n",
       "      <td>16.430</td>\n",
       "    </tr>\n",
       "    <tr>\n",
       "      <th>2</th>\n",
       "      <td>3</td>\n",
       "      <td>5-FU</td>\n",
       "      <td>ABT-888</td>\n",
       "      <td>A2058</td>\n",
       "      <td>uM</td>\n",
       "      <td>uM</td>\n",
       "      <td>29.901</td>\n",
       "      <td>6.063440</td>\n",
       "      <td>11.660209</td>\n",
       "      <td>2.452239</td>\n",
       "      <td>10.940528</td>\n",
       "      <td>5.126836</td>\n",
       "      <td>3.267734</td>\n",
       "      <td>11.471</td>\n",
       "      <td>-0.441</td>\n",
       "      <td>25.561</td>\n",
       "      <td>34.241</td>\n",
       "      <td>18.871</td>\n",
       "    </tr>\n",
       "    <tr>\n",
       "      <th>3</th>\n",
       "      <td>4</td>\n",
       "      <td>5-FU</td>\n",
       "      <td>ABT-888</td>\n",
       "      <td>A2058</td>\n",
       "      <td>uM</td>\n",
       "      <td>uM</td>\n",
       "      <td>24.016</td>\n",
       "      <td>-4.280231</td>\n",
       "      <td>5.145209</td>\n",
       "      <td>-4.062761</td>\n",
       "      <td>4.425528</td>\n",
       "      <td>5.126836</td>\n",
       "      <td>3.267734</td>\n",
       "      <td>11.471</td>\n",
       "      <td>-0.441</td>\n",
       "      <td>16.661</td>\n",
       "      <td>31.371</td>\n",
       "      <td>12.986</td>\n",
       "    </tr>\n",
       "    <tr>\n",
       "      <th>4</th>\n",
       "      <td>5</td>\n",
       "      <td>5-FU</td>\n",
       "      <td>AZD1775</td>\n",
       "      <td>A2058</td>\n",
       "      <td>uM</td>\n",
       "      <td>uM</td>\n",
       "      <td>66.847</td>\n",
       "      <td>12.284698</td>\n",
       "      <td>15.765467</td>\n",
       "      <td>10.409407</td>\n",
       "      <td>18.656340</td>\n",
       "      <td>5.126836</td>\n",
       "      <td>0.266027</td>\n",
       "      <td>11.471</td>\n",
       "      <td>25.164</td>\n",
       "      <td>76.501</td>\n",
       "      <td>57.193</td>\n",
       "      <td>30.212</td>\n",
       "    </tr>\n",
       "  </tbody>\n",
       "</table>\n",
       "</div>"
      ],
      "text/plain": [
       "   block_id drug_row drug_col cell_line_name conc_r_unit conc_c_unit     css  \\\n",
       "0         1     5-FU  ABT-888          A2058          uM          uM  30.869   \n",
       "1         2     5-FU  ABT-888          A2058          uM          uM  27.460   \n",
       "2         3     5-FU  ABT-888          A2058          uM          uM  29.901   \n",
       "3         4     5-FU  ABT-888          A2058          uM          uM  24.016   \n",
       "4         5     5-FU  AZD1775          A2058          uM          uM  66.847   \n",
       "\n",
       "   synergy_zip  synergy_bliss  synergy_loewe  synergy_hsa  ic50_row  ic50_col  \\\n",
       "0     3.865915       6.256584      -2.951386     5.536903  5.126836  3.267734   \n",
       "1     8.247403      12.333896       3.125927    11.614215  5.126836  3.267734   \n",
       "2     6.063440      11.660209       2.452239    10.940528  5.126836  3.267734   \n",
       "3    -4.280231       5.145209      -4.062761     4.425528  5.126836  3.267734   \n",
       "4    12.284698      15.765467      10.409407    18.656340  5.126836  0.266027   \n",
       "\n",
       "   ri_row  ri_col  css_row  css_col       S  \n",
       "0  11.471  -0.441   22.545   39.193  19.839  \n",
       "1  11.471  -0.441   24.135   30.785  16.430  \n",
       "2  11.471  -0.441   25.561   34.241  18.871  \n",
       "3  11.471  -0.441   16.661   31.371  12.986  \n",
       "4  11.471  25.164   76.501   57.193  30.212  "
      ]
     },
     "execution_count": 4,
     "metadata": {},
     "output_type": "execute_result"
    }
   ],
   "source": [
    "drug_interaction.head()"
   ]
  },
  {
   "cell_type": "code",
   "execution_count": 5,
   "id": "0e4de8cd-7262-4425-a4c2-809203e43b9a",
   "metadata": {},
   "outputs": [],
   "source": [
    "drug_interaction.dropna(inplace=True)"
   ]
  },
  {
   "cell_type": "code",
   "execution_count": 6,
   "id": "a3e74392-f7df-47ba-9174-5c3dc61b7ac9",
   "metadata": {},
   "outputs": [
    {
     "data": {
      "text/plain": [
       "(466033, 18)"
      ]
     },
     "execution_count": 6,
     "metadata": {},
     "output_type": "execute_result"
    }
   ],
   "source": [
    "drug_interaction.shape"
   ]
  },
  {
   "cell_type": "code",
   "execution_count": 7,
   "id": "94759494-2d8b-490d-b9d5-bcbb735674c7",
   "metadata": {},
   "outputs": [],
   "source": [
    "drug_interaction['synergistic_status'] = drug_interaction['synergy_zip'].apply(lambda x: 1 if x > 0 else 0)"
   ]
  },
  {
   "cell_type": "code",
   "execution_count": 8,
   "id": "b3bc6af5-3d5e-44df-936d-ad5edd5365c7",
   "metadata": {},
   "outputs": [],
   "source": [
    "drug_interaction=drug_interaction[['drug_row','drug_col','cell_line_name','synergistic_status']]"
   ]
  },
  {
   "cell_type": "code",
   "execution_count": 9,
   "id": "27799bd2-d60f-4c62-9026-6521fa99613b",
   "metadata": {},
   "outputs": [
    {
     "data": {
      "text/html": [
       "<div>\n",
       "<style scoped>\n",
       "    .dataframe tbody tr th:only-of-type {\n",
       "        vertical-align: middle;\n",
       "    }\n",
       "\n",
       "    .dataframe tbody tr th {\n",
       "        vertical-align: top;\n",
       "    }\n",
       "\n",
       "    .dataframe thead th {\n",
       "        text-align: right;\n",
       "    }\n",
       "</style>\n",
       "<table border=\"1\" class=\"dataframe\">\n",
       "  <thead>\n",
       "    <tr style=\"text-align: right;\">\n",
       "      <th></th>\n",
       "      <th>drug_row</th>\n",
       "      <th>drug_col</th>\n",
       "      <th>cell_line_name</th>\n",
       "      <th>synergistic_status</th>\n",
       "    </tr>\n",
       "  </thead>\n",
       "  <tbody>\n",
       "    <tr>\n",
       "      <th>0</th>\n",
       "      <td>5-FU</td>\n",
       "      <td>ABT-888</td>\n",
       "      <td>A2058</td>\n",
       "      <td>1</td>\n",
       "    </tr>\n",
       "    <tr>\n",
       "      <th>1</th>\n",
       "      <td>5-FU</td>\n",
       "      <td>ABT-888</td>\n",
       "      <td>A2058</td>\n",
       "      <td>1</td>\n",
       "    </tr>\n",
       "    <tr>\n",
       "      <th>2</th>\n",
       "      <td>5-FU</td>\n",
       "      <td>ABT-888</td>\n",
       "      <td>A2058</td>\n",
       "      <td>1</td>\n",
       "    </tr>\n",
       "    <tr>\n",
       "      <th>3</th>\n",
       "      <td>5-FU</td>\n",
       "      <td>ABT-888</td>\n",
       "      <td>A2058</td>\n",
       "      <td>0</td>\n",
       "    </tr>\n",
       "    <tr>\n",
       "      <th>4</th>\n",
       "      <td>5-FU</td>\n",
       "      <td>AZD1775</td>\n",
       "      <td>A2058</td>\n",
       "      <td>1</td>\n",
       "    </tr>\n",
       "  </tbody>\n",
       "</table>\n",
       "</div>"
      ],
      "text/plain": [
       "  drug_row drug_col cell_line_name  synergistic_status\n",
       "0     5-FU  ABT-888          A2058                   1\n",
       "1     5-FU  ABT-888          A2058                   1\n",
       "2     5-FU  ABT-888          A2058                   1\n",
       "3     5-FU  ABT-888          A2058                   0\n",
       "4     5-FU  AZD1775          A2058                   1"
      ]
     },
     "execution_count": 9,
     "metadata": {},
     "output_type": "execute_result"
    }
   ],
   "source": [
    "drug_interaction.head()"
   ]
  },
  {
   "cell_type": "code",
   "execution_count": 10,
   "id": "c710118d-0448-46e6-8681-8f77cf7ee050",
   "metadata": {},
   "outputs": [
    {
     "data": {
      "text/plain": [
       "synergistic_status\n",
       "0    258510\n",
       "1    207523\n",
       "Name: count, dtype: int64"
      ]
     },
     "execution_count": 10,
     "metadata": {},
     "output_type": "execute_result"
    }
   ],
   "source": [
    "drug_interaction.synergistic_status.value_counts()"
   ]
  },
  {
   "cell_type": "code",
   "execution_count": 11,
   "id": "d045cb1b-8974-4247-bf4f-ff6c9d876377",
   "metadata": {},
   "outputs": [],
   "source": [
    "interaction_drug= set(drug_interaction['drug_row']).union(set(drug_interaction['drug_col']))"
   ]
  },
  {
   "cell_type": "code",
   "execution_count": 12,
   "id": "6134d266-0aaa-49cb-ae34-e0718da439ad",
   "metadata": {},
   "outputs": [
    {
     "data": {
      "text/plain": [
       "4150"
      ]
     },
     "execution_count": 12,
     "metadata": {},
     "output_type": "execute_result"
    }
   ],
   "source": [
    "len(interaction_drug)"
   ]
  },
  {
   "cell_type": "code",
   "execution_count": 13,
   "id": "906e4294-274e-436d-be6b-fef433bee90c",
   "metadata": {},
   "outputs": [
    {
     "data": {
      "text/html": [
       "<div>\n",
       "<style scoped>\n",
       "    .dataframe tbody tr th:only-of-type {\n",
       "        vertical-align: middle;\n",
       "    }\n",
       "\n",
       "    .dataframe tbody tr th {\n",
       "        vertical-align: top;\n",
       "    }\n",
       "\n",
       "    .dataframe thead th {\n",
       "        text-align: right;\n",
       "    }\n",
       "</style>\n",
       "<table border=\"1\" class=\"dataframe\">\n",
       "  <thead>\n",
       "    <tr style=\"text-align: right;\">\n",
       "      <th></th>\n",
       "      <th>drug</th>\n",
       "      <th>0</th>\n",
       "      <th>1</th>\n",
       "      <th>2</th>\n",
       "      <th>3</th>\n",
       "      <th>4</th>\n",
       "      <th>5</th>\n",
       "      <th>6</th>\n",
       "      <th>7</th>\n",
       "      <th>8</th>\n",
       "      <th>...</th>\n",
       "      <th>2038</th>\n",
       "      <th>2039</th>\n",
       "      <th>2040</th>\n",
       "      <th>2041</th>\n",
       "      <th>2042</th>\n",
       "      <th>2043</th>\n",
       "      <th>2044</th>\n",
       "      <th>2045</th>\n",
       "      <th>2046</th>\n",
       "      <th>2047</th>\n",
       "    </tr>\n",
       "  </thead>\n",
       "  <tbody>\n",
       "    <tr>\n",
       "      <th>0</th>\n",
       "      <td>5-FU</td>\n",
       "      <td>0</td>\n",
       "      <td>0</td>\n",
       "      <td>0</td>\n",
       "      <td>0</td>\n",
       "      <td>0</td>\n",
       "      <td>0</td>\n",
       "      <td>0</td>\n",
       "      <td>0</td>\n",
       "      <td>0</td>\n",
       "      <td>...</td>\n",
       "      <td>0</td>\n",
       "      <td>0</td>\n",
       "      <td>0</td>\n",
       "      <td>0</td>\n",
       "      <td>0</td>\n",
       "      <td>0</td>\n",
       "      <td>0</td>\n",
       "      <td>0</td>\n",
       "      <td>0</td>\n",
       "      <td>0</td>\n",
       "    </tr>\n",
       "    <tr>\n",
       "      <th>1</th>\n",
       "      <td>ABT-888</td>\n",
       "      <td>0</td>\n",
       "      <td>0</td>\n",
       "      <td>0</td>\n",
       "      <td>1</td>\n",
       "      <td>0</td>\n",
       "      <td>0</td>\n",
       "      <td>0</td>\n",
       "      <td>0</td>\n",
       "      <td>0</td>\n",
       "      <td>...</td>\n",
       "      <td>0</td>\n",
       "      <td>0</td>\n",
       "      <td>0</td>\n",
       "      <td>0</td>\n",
       "      <td>0</td>\n",
       "      <td>0</td>\n",
       "      <td>0</td>\n",
       "      <td>0</td>\n",
       "      <td>0</td>\n",
       "      <td>0</td>\n",
       "    </tr>\n",
       "    <tr>\n",
       "      <th>2</th>\n",
       "      <td>AZD1775</td>\n",
       "      <td>0</td>\n",
       "      <td>0</td>\n",
       "      <td>0</td>\n",
       "      <td>0</td>\n",
       "      <td>0</td>\n",
       "      <td>0</td>\n",
       "      <td>0</td>\n",
       "      <td>0</td>\n",
       "      <td>0</td>\n",
       "      <td>...</td>\n",
       "      <td>0</td>\n",
       "      <td>0</td>\n",
       "      <td>0</td>\n",
       "      <td>0</td>\n",
       "      <td>0</td>\n",
       "      <td>0</td>\n",
       "      <td>0</td>\n",
       "      <td>0</td>\n",
       "      <td>0</td>\n",
       "      <td>0</td>\n",
       "    </tr>\n",
       "    <tr>\n",
       "      <th>3</th>\n",
       "      <td>BEZ-235</td>\n",
       "      <td>0</td>\n",
       "      <td>0</td>\n",
       "      <td>0</td>\n",
       "      <td>0</td>\n",
       "      <td>0</td>\n",
       "      <td>0</td>\n",
       "      <td>0</td>\n",
       "      <td>0</td>\n",
       "      <td>0</td>\n",
       "      <td>...</td>\n",
       "      <td>0</td>\n",
       "      <td>0</td>\n",
       "      <td>0</td>\n",
       "      <td>0</td>\n",
       "      <td>0</td>\n",
       "      <td>0</td>\n",
       "      <td>0</td>\n",
       "      <td>0</td>\n",
       "      <td>0</td>\n",
       "      <td>0</td>\n",
       "    </tr>\n",
       "    <tr>\n",
       "      <th>4</th>\n",
       "      <td>BORTEZOMIB</td>\n",
       "      <td>0</td>\n",
       "      <td>1</td>\n",
       "      <td>0</td>\n",
       "      <td>0</td>\n",
       "      <td>0</td>\n",
       "      <td>0</td>\n",
       "      <td>0</td>\n",
       "      <td>0</td>\n",
       "      <td>0</td>\n",
       "      <td>...</td>\n",
       "      <td>0</td>\n",
       "      <td>0</td>\n",
       "      <td>0</td>\n",
       "      <td>0</td>\n",
       "      <td>0</td>\n",
       "      <td>0</td>\n",
       "      <td>0</td>\n",
       "      <td>0</td>\n",
       "      <td>0</td>\n",
       "      <td>0</td>\n",
       "    </tr>\n",
       "  </tbody>\n",
       "</table>\n",
       "<p>5 rows × 2049 columns</p>\n",
       "</div>"
      ],
      "text/plain": [
       "         drug  0  1  2  3  4  5  6  7  8  ...  2038  2039  2040  2041  2042  \\\n",
       "0        5-FU  0  0  0  0  0  0  0  0  0  ...     0     0     0     0     0   \n",
       "1     ABT-888  0  0  0  1  0  0  0  0  0  ...     0     0     0     0     0   \n",
       "2     AZD1775  0  0  0  0  0  0  0  0  0  ...     0     0     0     0     0   \n",
       "3     BEZ-235  0  0  0  0  0  0  0  0  0  ...     0     0     0     0     0   \n",
       "4  BORTEZOMIB  0  1  0  0  0  0  0  0  0  ...     0     0     0     0     0   \n",
       "\n",
       "   2043  2044  2045  2046  2047  \n",
       "0     0     0     0     0     0  \n",
       "1     0     0     0     0     0  \n",
       "2     0     0     0     0     0  \n",
       "3     0     0     0     0     0  \n",
       "4     0     0     0     0     0  \n",
       "\n",
       "[5 rows x 2049 columns]"
      ]
     },
     "execution_count": 13,
     "metadata": {},
     "output_type": "execute_result"
    }
   ],
   "source": [
    "drug_feature.head()"
   ]
  },
  {
   "cell_type": "code",
   "execution_count": 14,
   "id": "50d248d6-cf64-407a-8dcb-9124b71c6ae5",
   "metadata": {},
   "outputs": [],
   "source": [
    "all_drug_with_feature=set(drug_feature['drug'].unique())"
   ]
  },
  {
   "cell_type": "code",
   "execution_count": 15,
   "id": "92a62def-c25d-49e5-b6ad-f56a029d20f1",
   "metadata": {},
   "outputs": [
    {
     "data": {
      "text/plain": [
       "4051"
      ]
     },
     "execution_count": 15,
     "metadata": {},
     "output_type": "execute_result"
    }
   ],
   "source": [
    "len(all_drug_with_feature)"
   ]
  },
  {
   "cell_type": "markdown",
   "id": "0f2edb47-6b08-4186-a82f-b741fcbcbce0",
   "metadata": {},
   "source": [
    "##### if all interaction drug has feature or not"
   ]
  },
  {
   "cell_type": "code",
   "execution_count": 16,
   "id": "d25cdeaf-9805-441a-99db-aa2d33ac3567",
   "metadata": {},
   "outputs": [
    {
     "name": "stdout",
     "output_type": "stream",
     "text": [
      " Some interaction drugs are missing in the feature set.\n",
      "Missing drugs: {'ZINC17545571', \"3',4'-Diacetylafzelin\", 'ACMC-20mj2l', 'CTK8F0346', 'MOLPORT-042-665-727', 'AC1OFCJY', 'TETRAETHYLENEPENTAMINE 5HCL', 'KS-00001D5I', 'DSSTox_CID_28582', 'AC1L1EUK', 'ZINC44963243', 'AC1LIMNP', 'AK174336', 'AK160201', 'QCR-20', 'AK-77283', 'ZINC208949883', 'PIFITHRIN-A (PFTA)', 'ZINC3881972', 'Vincristine Sulfate, Apocynaceae sp.', 'ZINC139045355', 'ZINC208951860', 'AC1OFCEV', 'Triciribinephosphate', 'ZINC250325905', 'AC1OF340', 'AC1NUNML', 'ZINC896472', 'AC1MWLHC', 'ZINC11616261', 'ZINC97975747', 'AC1O7H3F', 'Curcumin, Curcuma longa L.', 'ZINC43163828', 'ERK 11e', 'AK198640', 'ONO-4059 analog', 'ZINC101112865', 'ZINC18182079', 'ZINC11616871', 'AC1LCZJT', 'AC1L9B3J', 'AC1L1KJK', 'KS-00001CUZ', 'Pd-1/pd-l1 inhibitor 1', 'KGBPLKOPSFDBOX-UHFFFAOYSA-N', 'DSSTox_CID_31408', 'ZINC21999985', 'AC1LAYFC', \"Phloretin 2'-galactoside\", 'ZINC84688828', '1beta-Methylimipenem', 'ZINC3831133', 'AC1L21NN', 'AC1M4BZH', 'GYNOSTEMMA EXTRACT', '04/04/7218', 'AC1L2QK3', 'AC1L9B2S', 'AC1O7GND', 'AC1O41R4', 'AC1OF33F', 'Ergosterine', 'AC1NRBJE', 'ZINC101426918', 'AC1L1DW2', 'ZINC34894448', 'AC1OFCEP', 'CTK8E8456', 'AC1LAKOZ', '(6-)E-<U+200B>AMINOCAPROIC ACID', 'METHYL-HESPERIDIN', 'Provitamin A1', 'C10H10O4', 'ZINC38139483', 'ZINC100015731', 'ZINC117147304', 'AC1OFCD4', 'PLURISIN #1 (NSC 14613)', 'ZINC103939005', 'TIC10 isomer', 'AK176003', 'ZINC242723022', 'AC1LU7HW', 'AC1O53DL', 'ZINC22059945', 'ZD7288 HYDRATE', 'AK170455', 'ZINC28538988', 'AC1Q29DP', 'AC1L34YQ', 'AGN-PC-0MU5N5', 'AC1NPCOI', 'AC1L1IJY', 'AC1Q4OOX', 'KS-00000Y5E', 'ZINC208012538', 'AC1OF4NF', 'Bacitracin (Zinc)'}\n"
     ]
    }
   ],
   "source": [
    "if interaction_drug.issubset(all_drug_with_feature):\n",
    "    print(\"All interaction drugs are present in the feature set.\")\n",
    "else:\n",
    "    print(\" Some interaction drugs are missing in the feature set.\")\n",
    "    missing = interaction_drug - all_drug_with_feature\n",
    "    print(\"Missing drugs:\", missing)\n"
   ]
  },
  {
   "cell_type": "code",
   "execution_count": 17,
   "id": "c66bb575-92d6-4408-bb2f-f53c49879140",
   "metadata": {},
   "outputs": [],
   "source": [
    "drug_interaction = drug_interaction[\n",
    "    ~drug_interaction['drug_row'].isin(missing) &\n",
    "    ~drug_interaction['drug_col'].isin(missing)\n",
    "].reset_index(drop=True)"
   ]
  },
  {
   "cell_type": "code",
   "execution_count": 18,
   "id": "7d023579-ef00-48f6-87b6-397db43e01e9",
   "metadata": {},
   "outputs": [
    {
     "data": {
      "text/plain": [
       "(464744, 4)"
      ]
     },
     "execution_count": 18,
     "metadata": {},
     "output_type": "execute_result"
    }
   ],
   "source": [
    "drug_interaction.shape"
   ]
  },
  {
   "cell_type": "code",
   "execution_count": 19,
   "id": "a9f6efa8-9bc0-4034-ba0e-3dcb58ae05bd",
   "metadata": {},
   "outputs": [
    {
     "name": "stdout",
     "output_type": "stream",
     "text": [
      "Number of unique drugs before: 4051\n",
      "Number of unique drugs after: 4051\n",
      "Drugs removed: 0\n",
      "Drugs removed list: set()\n"
     ]
    }
   ],
   "source": [
    "all_drugs_before = set(drug_interaction['drug_row']) | set(drug_interaction['drug_col'])\n",
    "all_drugs_after = set(drug_interaction['drug_row']) | set(drug_interaction['drug_col'])\n",
    "\n",
    "removed_drugs = all_drugs_before - all_drugs_after\n",
    "print(f\"Number of unique drugs before: {len(all_drugs_before)}\")\n",
    "print(f\"Number of unique drugs after: {len(all_drugs_after)}\")\n",
    "print(f\"Drugs removed: {len(removed_drugs)}\")\n",
    "print(f\"Drugs removed list: {removed_drugs}\")"
   ]
  },
  {
   "cell_type": "code",
   "execution_count": 20,
   "id": "9b6a64d3-15b2-4653-b1c0-2372d70f1e6f",
   "metadata": {},
   "outputs": [],
   "source": [
    "interaction_drug= set(drug_interaction['drug_row']).union(set(drug_interaction['drug_col']))"
   ]
  },
  {
   "cell_type": "code",
   "execution_count": 21,
   "id": "4e06aa63-5ab7-4bd0-8c02-461ffc69baf3",
   "metadata": {},
   "outputs": [],
   "source": [
    "interaction_drug_new= set(drug_interaction['drug_row']).union(set(drug_interaction['drug_col']))"
   ]
  },
  {
   "cell_type": "code",
   "execution_count": 22,
   "id": "df414fbc-af5f-4559-bae5-deb48194c42c",
   "metadata": {},
   "outputs": [
    {
     "data": {
      "text/plain": [
       "(4051, 4051)"
      ]
     },
     "execution_count": 22,
     "metadata": {},
     "output_type": "execute_result"
    }
   ],
   "source": [
    "len(interaction_drug),len(interaction_drug_new)"
   ]
  },
  {
   "cell_type": "code",
   "execution_count": 23,
   "id": "801e8f98-11ed-4aa0-832c-7c76cdb180c4",
   "metadata": {},
   "outputs": [
    {
     "data": {
      "text/plain": [
       "True"
      ]
     },
     "execution_count": 23,
     "metadata": {},
     "output_type": "execute_result"
    }
   ],
   "source": [
    "all_drug_with_feature==interaction_drug_new"
   ]
  },
  {
   "cell_type": "code",
   "execution_count": 24,
   "id": "136e265a-1f8e-4d04-adf3-a81f043d22bf",
   "metadata": {},
   "outputs": [],
   "source": [
    "drug_feature['drug_id'] = range(len(drug_feature))"
   ]
  },
  {
   "cell_type": "code",
   "execution_count": 25,
   "id": "7ba49dc2-6341-4cde-855e-ae82054ee4e5",
   "metadata": {},
   "outputs": [],
   "source": [
    "drug_to_id = dict(zip(drug_feature['drug'], drug_feature['drug_id']))"
   ]
  },
  {
   "cell_type": "code",
   "execution_count": 26,
   "id": "6b95d1be-4ad7-4a43-a111-d6afdad1746c",
   "metadata": {},
   "outputs": [],
   "source": [
    "drug_feature.drop(columns=['drug_id','drug'],inplace=True)"
   ]
  },
  {
   "cell_type": "code",
   "execution_count": 27,
   "id": "fe252837-bb43-43b9-a0e4-2998a3228ea4",
   "metadata": {},
   "outputs": [
    {
     "data": {
      "text/html": [
       "<div>\n",
       "<style scoped>\n",
       "    .dataframe tbody tr th:only-of-type {\n",
       "        vertical-align: middle;\n",
       "    }\n",
       "\n",
       "    .dataframe tbody tr th {\n",
       "        vertical-align: top;\n",
       "    }\n",
       "\n",
       "    .dataframe thead th {\n",
       "        text-align: right;\n",
       "    }\n",
       "</style>\n",
       "<table border=\"1\" class=\"dataframe\">\n",
       "  <thead>\n",
       "    <tr style=\"text-align: right;\">\n",
       "      <th></th>\n",
       "      <th>0</th>\n",
       "      <th>1</th>\n",
       "      <th>2</th>\n",
       "      <th>3</th>\n",
       "      <th>4</th>\n",
       "      <th>5</th>\n",
       "      <th>6</th>\n",
       "      <th>7</th>\n",
       "      <th>8</th>\n",
       "      <th>9</th>\n",
       "      <th>...</th>\n",
       "      <th>2038</th>\n",
       "      <th>2039</th>\n",
       "      <th>2040</th>\n",
       "      <th>2041</th>\n",
       "      <th>2042</th>\n",
       "      <th>2043</th>\n",
       "      <th>2044</th>\n",
       "      <th>2045</th>\n",
       "      <th>2046</th>\n",
       "      <th>2047</th>\n",
       "    </tr>\n",
       "  </thead>\n",
       "  <tbody>\n",
       "    <tr>\n",
       "      <th>0</th>\n",
       "      <td>0</td>\n",
       "      <td>0</td>\n",
       "      <td>0</td>\n",
       "      <td>0</td>\n",
       "      <td>0</td>\n",
       "      <td>0</td>\n",
       "      <td>0</td>\n",
       "      <td>0</td>\n",
       "      <td>0</td>\n",
       "      <td>0</td>\n",
       "      <td>...</td>\n",
       "      <td>0</td>\n",
       "      <td>0</td>\n",
       "      <td>0</td>\n",
       "      <td>0</td>\n",
       "      <td>0</td>\n",
       "      <td>0</td>\n",
       "      <td>0</td>\n",
       "      <td>0</td>\n",
       "      <td>0</td>\n",
       "      <td>0</td>\n",
       "    </tr>\n",
       "    <tr>\n",
       "      <th>1</th>\n",
       "      <td>0</td>\n",
       "      <td>0</td>\n",
       "      <td>0</td>\n",
       "      <td>1</td>\n",
       "      <td>0</td>\n",
       "      <td>0</td>\n",
       "      <td>0</td>\n",
       "      <td>0</td>\n",
       "      <td>0</td>\n",
       "      <td>0</td>\n",
       "      <td>...</td>\n",
       "      <td>0</td>\n",
       "      <td>0</td>\n",
       "      <td>0</td>\n",
       "      <td>0</td>\n",
       "      <td>0</td>\n",
       "      <td>0</td>\n",
       "      <td>0</td>\n",
       "      <td>0</td>\n",
       "      <td>0</td>\n",
       "      <td>0</td>\n",
       "    </tr>\n",
       "    <tr>\n",
       "      <th>2</th>\n",
       "      <td>0</td>\n",
       "      <td>0</td>\n",
       "      <td>0</td>\n",
       "      <td>0</td>\n",
       "      <td>0</td>\n",
       "      <td>0</td>\n",
       "      <td>0</td>\n",
       "      <td>0</td>\n",
       "      <td>0</td>\n",
       "      <td>0</td>\n",
       "      <td>...</td>\n",
       "      <td>0</td>\n",
       "      <td>0</td>\n",
       "      <td>0</td>\n",
       "      <td>0</td>\n",
       "      <td>0</td>\n",
       "      <td>0</td>\n",
       "      <td>0</td>\n",
       "      <td>0</td>\n",
       "      <td>0</td>\n",
       "      <td>0</td>\n",
       "    </tr>\n",
       "    <tr>\n",
       "      <th>3</th>\n",
       "      <td>0</td>\n",
       "      <td>0</td>\n",
       "      <td>0</td>\n",
       "      <td>0</td>\n",
       "      <td>0</td>\n",
       "      <td>0</td>\n",
       "      <td>0</td>\n",
       "      <td>0</td>\n",
       "      <td>0</td>\n",
       "      <td>0</td>\n",
       "      <td>...</td>\n",
       "      <td>0</td>\n",
       "      <td>0</td>\n",
       "      <td>0</td>\n",
       "      <td>0</td>\n",
       "      <td>0</td>\n",
       "      <td>0</td>\n",
       "      <td>0</td>\n",
       "      <td>0</td>\n",
       "      <td>0</td>\n",
       "      <td>0</td>\n",
       "    </tr>\n",
       "    <tr>\n",
       "      <th>4</th>\n",
       "      <td>0</td>\n",
       "      <td>1</td>\n",
       "      <td>0</td>\n",
       "      <td>0</td>\n",
       "      <td>0</td>\n",
       "      <td>0</td>\n",
       "      <td>0</td>\n",
       "      <td>0</td>\n",
       "      <td>0</td>\n",
       "      <td>0</td>\n",
       "      <td>...</td>\n",
       "      <td>0</td>\n",
       "      <td>0</td>\n",
       "      <td>0</td>\n",
       "      <td>0</td>\n",
       "      <td>0</td>\n",
       "      <td>0</td>\n",
       "      <td>0</td>\n",
       "      <td>0</td>\n",
       "      <td>0</td>\n",
       "      <td>0</td>\n",
       "    </tr>\n",
       "  </tbody>\n",
       "</table>\n",
       "<p>5 rows × 2048 columns</p>\n",
       "</div>"
      ],
      "text/plain": [
       "   0  1  2  3  4  5  6  7  8  9  ...  2038  2039  2040  2041  2042  2043  \\\n",
       "0  0  0  0  0  0  0  0  0  0  0  ...     0     0     0     0     0     0   \n",
       "1  0  0  0  1  0  0  0  0  0  0  ...     0     0     0     0     0     0   \n",
       "2  0  0  0  0  0  0  0  0  0  0  ...     0     0     0     0     0     0   \n",
       "3  0  0  0  0  0  0  0  0  0  0  ...     0     0     0     0     0     0   \n",
       "4  0  1  0  0  0  0  0  0  0  0  ...     0     0     0     0     0     0   \n",
       "\n",
       "   2044  2045  2046  2047  \n",
       "0     0     0     0     0  \n",
       "1     0     0     0     0  \n",
       "2     0     0     0     0  \n",
       "3     0     0     0     0  \n",
       "4     0     0     0     0  \n",
       "\n",
       "[5 rows x 2048 columns]"
      ]
     },
     "execution_count": 27,
     "metadata": {},
     "output_type": "execute_result"
    }
   ],
   "source": [
    "drug_feature.head()"
   ]
  },
  {
   "cell_type": "code",
   "execution_count": 28,
   "id": "05bbcb81-c98e-45e4-b8d2-e1b98c8a63b9",
   "metadata": {},
   "outputs": [
    {
     "data": {
      "text/plain": [
       "(4051, 2048)"
      ]
     },
     "execution_count": 28,
     "metadata": {},
     "output_type": "execute_result"
    }
   ],
   "source": [
    "drug_feature.shape"
   ]
  },
  {
   "cell_type": "code",
   "execution_count": 29,
   "id": "a85ea992-1129-4746-8c92-0d29ba347b9f",
   "metadata": {},
   "outputs": [],
   "source": [
    "drug_interaction['drug_row_id'] = drug_interaction['drug_row'].map(drug_to_id)\n",
    "drug_interaction['drug_col_id'] = drug_interaction['drug_col'].map(drug_to_id)"
   ]
  },
  {
   "cell_type": "code",
   "execution_count": 30,
   "id": "4f6534b8-5458-46fd-9e28-8d54bd1c8796",
   "metadata": {},
   "outputs": [],
   "source": [
    "drug_interaction = drug_interaction.drop(columns=['drug_row', 'drug_col'])"
   ]
  },
  {
   "cell_type": "code",
   "execution_count": 31,
   "id": "63b5b903-386f-47a6-8d8a-bd2844549dca",
   "metadata": {},
   "outputs": [],
   "source": [
    "cols = ['drug_row_id', 'drug_col_id'] + [col for col in drug_interaction.columns if col not in ['drug_row_id', 'drug_col_id']]\n",
    "drug_interaction = drug_interaction[cols]"
   ]
  },
  {
   "cell_type": "code",
   "execution_count": 32,
   "id": "29e9c950-7b79-4467-9e62-c7465558670e",
   "metadata": {},
   "outputs": [
    {
     "data": {
      "text/html": [
       "<div>\n",
       "<style scoped>\n",
       "    .dataframe tbody tr th:only-of-type {\n",
       "        vertical-align: middle;\n",
       "    }\n",
       "\n",
       "    .dataframe tbody tr th {\n",
       "        vertical-align: top;\n",
       "    }\n",
       "\n",
       "    .dataframe thead th {\n",
       "        text-align: right;\n",
       "    }\n",
       "</style>\n",
       "<table border=\"1\" class=\"dataframe\">\n",
       "  <thead>\n",
       "    <tr style=\"text-align: right;\">\n",
       "      <th></th>\n",
       "      <th>drug_row_id</th>\n",
       "      <th>drug_col_id</th>\n",
       "      <th>cell_line_name</th>\n",
       "      <th>synergistic_status</th>\n",
       "    </tr>\n",
       "  </thead>\n",
       "  <tbody>\n",
       "    <tr>\n",
       "      <th>0</th>\n",
       "      <td>0</td>\n",
       "      <td>1</td>\n",
       "      <td>A2058</td>\n",
       "      <td>1</td>\n",
       "    </tr>\n",
       "    <tr>\n",
       "      <th>1</th>\n",
       "      <td>0</td>\n",
       "      <td>1</td>\n",
       "      <td>A2058</td>\n",
       "      <td>1</td>\n",
       "    </tr>\n",
       "    <tr>\n",
       "      <th>2</th>\n",
       "      <td>0</td>\n",
       "      <td>1</td>\n",
       "      <td>A2058</td>\n",
       "      <td>1</td>\n",
       "    </tr>\n",
       "    <tr>\n",
       "      <th>3</th>\n",
       "      <td>0</td>\n",
       "      <td>1</td>\n",
       "      <td>A2058</td>\n",
       "      <td>0</td>\n",
       "    </tr>\n",
       "    <tr>\n",
       "      <th>4</th>\n",
       "      <td>0</td>\n",
       "      <td>2</td>\n",
       "      <td>A2058</td>\n",
       "      <td>1</td>\n",
       "    </tr>\n",
       "  </tbody>\n",
       "</table>\n",
       "</div>"
      ],
      "text/plain": [
       "   drug_row_id  drug_col_id cell_line_name  synergistic_status\n",
       "0            0            1          A2058                   1\n",
       "1            0            1          A2058                   1\n",
       "2            0            1          A2058                   1\n",
       "3            0            1          A2058                   0\n",
       "4            0            2          A2058                   1"
      ]
     },
     "execution_count": 32,
     "metadata": {},
     "output_type": "execute_result"
    }
   ],
   "source": [
    "drug_interaction.head()"
   ]
  },
  {
   "cell_type": "code",
   "execution_count": 33,
   "id": "c58cf1fc-f2f8-411a-995d-e371bf16a100",
   "metadata": {},
   "outputs": [
    {
     "data": {
      "text/html": [
       "<div>\n",
       "<style scoped>\n",
       "    .dataframe tbody tr th:only-of-type {\n",
       "        vertical-align: middle;\n",
       "    }\n",
       "\n",
       "    .dataframe tbody tr th {\n",
       "        vertical-align: top;\n",
       "    }\n",
       "\n",
       "    .dataframe thead th {\n",
       "        text-align: right;\n",
       "    }\n",
       "</style>\n",
       "<table border=\"1\" class=\"dataframe\">\n",
       "  <thead>\n",
       "    <tr style=\"text-align: right;\">\n",
       "      <th></th>\n",
       "      <th>0</th>\n",
       "      <th>1</th>\n",
       "      <th>2</th>\n",
       "      <th>3</th>\n",
       "      <th>4</th>\n",
       "      <th>5</th>\n",
       "      <th>6</th>\n",
       "      <th>7</th>\n",
       "      <th>8</th>\n",
       "      <th>9</th>\n",
       "      <th>...</th>\n",
       "      <th>2038</th>\n",
       "      <th>2039</th>\n",
       "      <th>2040</th>\n",
       "      <th>2041</th>\n",
       "      <th>2042</th>\n",
       "      <th>2043</th>\n",
       "      <th>2044</th>\n",
       "      <th>2045</th>\n",
       "      <th>2046</th>\n",
       "      <th>2047</th>\n",
       "    </tr>\n",
       "  </thead>\n",
       "  <tbody>\n",
       "    <tr>\n",
       "      <th>0</th>\n",
       "      <td>0</td>\n",
       "      <td>0</td>\n",
       "      <td>0</td>\n",
       "      <td>0</td>\n",
       "      <td>0</td>\n",
       "      <td>0</td>\n",
       "      <td>0</td>\n",
       "      <td>0</td>\n",
       "      <td>0</td>\n",
       "      <td>0</td>\n",
       "      <td>...</td>\n",
       "      <td>0</td>\n",
       "      <td>0</td>\n",
       "      <td>0</td>\n",
       "      <td>0</td>\n",
       "      <td>0</td>\n",
       "      <td>0</td>\n",
       "      <td>0</td>\n",
       "      <td>0</td>\n",
       "      <td>0</td>\n",
       "      <td>0</td>\n",
       "    </tr>\n",
       "    <tr>\n",
       "      <th>1</th>\n",
       "      <td>0</td>\n",
       "      <td>0</td>\n",
       "      <td>0</td>\n",
       "      <td>1</td>\n",
       "      <td>0</td>\n",
       "      <td>0</td>\n",
       "      <td>0</td>\n",
       "      <td>0</td>\n",
       "      <td>0</td>\n",
       "      <td>0</td>\n",
       "      <td>...</td>\n",
       "      <td>0</td>\n",
       "      <td>0</td>\n",
       "      <td>0</td>\n",
       "      <td>0</td>\n",
       "      <td>0</td>\n",
       "      <td>0</td>\n",
       "      <td>0</td>\n",
       "      <td>0</td>\n",
       "      <td>0</td>\n",
       "      <td>0</td>\n",
       "    </tr>\n",
       "    <tr>\n",
       "      <th>2</th>\n",
       "      <td>0</td>\n",
       "      <td>0</td>\n",
       "      <td>0</td>\n",
       "      <td>0</td>\n",
       "      <td>0</td>\n",
       "      <td>0</td>\n",
       "      <td>0</td>\n",
       "      <td>0</td>\n",
       "      <td>0</td>\n",
       "      <td>0</td>\n",
       "      <td>...</td>\n",
       "      <td>0</td>\n",
       "      <td>0</td>\n",
       "      <td>0</td>\n",
       "      <td>0</td>\n",
       "      <td>0</td>\n",
       "      <td>0</td>\n",
       "      <td>0</td>\n",
       "      <td>0</td>\n",
       "      <td>0</td>\n",
       "      <td>0</td>\n",
       "    </tr>\n",
       "    <tr>\n",
       "      <th>3</th>\n",
       "      <td>0</td>\n",
       "      <td>0</td>\n",
       "      <td>0</td>\n",
       "      <td>0</td>\n",
       "      <td>0</td>\n",
       "      <td>0</td>\n",
       "      <td>0</td>\n",
       "      <td>0</td>\n",
       "      <td>0</td>\n",
       "      <td>0</td>\n",
       "      <td>...</td>\n",
       "      <td>0</td>\n",
       "      <td>0</td>\n",
       "      <td>0</td>\n",
       "      <td>0</td>\n",
       "      <td>0</td>\n",
       "      <td>0</td>\n",
       "      <td>0</td>\n",
       "      <td>0</td>\n",
       "      <td>0</td>\n",
       "      <td>0</td>\n",
       "    </tr>\n",
       "    <tr>\n",
       "      <th>4</th>\n",
       "      <td>0</td>\n",
       "      <td>1</td>\n",
       "      <td>0</td>\n",
       "      <td>0</td>\n",
       "      <td>0</td>\n",
       "      <td>0</td>\n",
       "      <td>0</td>\n",
       "      <td>0</td>\n",
       "      <td>0</td>\n",
       "      <td>0</td>\n",
       "      <td>...</td>\n",
       "      <td>0</td>\n",
       "      <td>0</td>\n",
       "      <td>0</td>\n",
       "      <td>0</td>\n",
       "      <td>0</td>\n",
       "      <td>0</td>\n",
       "      <td>0</td>\n",
       "      <td>0</td>\n",
       "      <td>0</td>\n",
       "      <td>0</td>\n",
       "    </tr>\n",
       "  </tbody>\n",
       "</table>\n",
       "<p>5 rows × 2048 columns</p>\n",
       "</div>"
      ],
      "text/plain": [
       "   0  1  2  3  4  5  6  7  8  9  ...  2038  2039  2040  2041  2042  2043  \\\n",
       "0  0  0  0  0  0  0  0  0  0  0  ...     0     0     0     0     0     0   \n",
       "1  0  0  0  1  0  0  0  0  0  0  ...     0     0     0     0     0     0   \n",
       "2  0  0  0  0  0  0  0  0  0  0  ...     0     0     0     0     0     0   \n",
       "3  0  0  0  0  0  0  0  0  0  0  ...     0     0     0     0     0     0   \n",
       "4  0  1  0  0  0  0  0  0  0  0  ...     0     0     0     0     0     0   \n",
       "\n",
       "   2044  2045  2046  2047  \n",
       "0     0     0     0     0  \n",
       "1     0     0     0     0  \n",
       "2     0     0     0     0  \n",
       "3     0     0     0     0  \n",
       "4     0     0     0     0  \n",
       "\n",
       "[5 rows x 2048 columns]"
      ]
     },
     "execution_count": 33,
     "metadata": {},
     "output_type": "execute_result"
    }
   ],
   "source": [
    "drug_feature.head()"
   ]
  },
  {
   "cell_type": "code",
   "execution_count": 34,
   "id": "0fd19542-2a96-402d-a577-607eee58a88a",
   "metadata": {},
   "outputs": [],
   "source": [
    "cos_sim_matrix = cosine_similarity(drug_feature)"
   ]
  },
  {
   "cell_type": "code",
   "execution_count": 35,
   "id": "4fba54fd-284f-43da-aba7-428120b16207",
   "metadata": {},
   "outputs": [
    {
     "data": {
      "text/plain": [
       "array([[1.        , 0.17699808, 0.11211037, ..., 0.11646819, 0.09727208,\n",
       "        0.14808722],\n",
       "       [0.17699808, 1.        , 0.2073627 , ..., 0.28200837, 0.22898571,\n",
       "        0.21912525],\n",
       "       [0.11211037, 0.2073627 , 1.        , ..., 0.17366199, 0.20719896,\n",
       "        0.34698416],\n",
       "       ...,\n",
       "       [0.11646819, 0.28200837, 0.17366199, ..., 1.        , 0.21525296,\n",
       "        0.27526932],\n",
       "       [0.09727208, 0.22898571, 0.20719896, ..., 0.21525296, 1.        ,\n",
       "        0.26000576],\n",
       "       [0.14808722, 0.21912525, 0.34698416, ..., 0.27526932, 0.26000576,\n",
       "        1.        ]], shape=(4051, 4051))"
      ]
     },
     "execution_count": 35,
     "metadata": {},
     "output_type": "execute_result"
    }
   ],
   "source": [
    "cos_sim_matrix"
   ]
  },
  {
   "cell_type": "code",
   "execution_count": 36,
   "id": "e2186a46-b8f7-4b9f-9913-7a4263fa6a98",
   "metadata": {},
   "outputs": [
    {
     "data": {
      "text/plain": [
       "(4051, 4051)"
      ]
     },
     "execution_count": 36,
     "metadata": {},
     "output_type": "execute_result"
    }
   ],
   "source": [
    "cos_sim_matrix.shape"
   ]
  },
  {
   "cell_type": "code",
   "execution_count": null,
   "id": "6c4d6839-5217-482c-89ca-d11a687b4405",
   "metadata": {},
   "outputs": [],
   "source": []
  },
  {
   "cell_type": "code",
   "execution_count": 37,
   "id": "f280cb30-26ee-40aa-8ce7-2ec87fb0560d",
   "metadata": {},
   "outputs": [],
   "source": [
    "interaction_drug= set(drug_interaction['drug_row_id']).union(set(drug_interaction['drug_col_id']))"
   ]
  },
  {
   "cell_type": "code",
   "execution_count": 38,
   "id": "7b1d76f3-ba23-4984-aeb8-99121d566572",
   "metadata": {},
   "outputs": [
    {
     "data": {
      "text/plain": [
       "4051"
      ]
     },
     "execution_count": 38,
     "metadata": {},
     "output_type": "execute_result"
    }
   ],
   "source": [
    "len(interaction_drug)"
   ]
  },
  {
   "cell_type": "code",
   "execution_count": 39,
   "id": "66d79f89-58e6-42c1-ae9b-a9686dd55105",
   "metadata": {},
   "outputs": [
    {
     "data": {
      "text/plain": [
       "(4051, 2048)"
      ]
     },
     "execution_count": 39,
     "metadata": {},
     "output_type": "execute_result"
    }
   ],
   "source": [
    "drug_feature.shape"
   ]
  },
  {
   "cell_type": "code",
   "execution_count": 40,
   "id": "3117e32f-4958-415a-9fef-af6bcb51b518",
   "metadata": {},
   "outputs": [],
   "source": [
    "df_synergy = drug_interaction[drug_interaction['synergistic_status'] == 1]\n"
   ]
  },
  {
   "cell_type": "code",
   "execution_count": 41,
   "id": "aaac6bc3-bd9a-44e6-9b9d-8db77709b155",
   "metadata": {},
   "outputs": [
    {
     "data": {
      "text/html": [
       "<div>\n",
       "<style scoped>\n",
       "    .dataframe tbody tr th:only-of-type {\n",
       "        vertical-align: middle;\n",
       "    }\n",
       "\n",
       "    .dataframe tbody tr th {\n",
       "        vertical-align: top;\n",
       "    }\n",
       "\n",
       "    .dataframe thead th {\n",
       "        text-align: right;\n",
       "    }\n",
       "</style>\n",
       "<table border=\"1\" class=\"dataframe\">\n",
       "  <thead>\n",
       "    <tr style=\"text-align: right;\">\n",
       "      <th></th>\n",
       "      <th>drug_row_id</th>\n",
       "      <th>drug_col_id</th>\n",
       "      <th>cell_line_name</th>\n",
       "      <th>synergistic_status</th>\n",
       "    </tr>\n",
       "  </thead>\n",
       "  <tbody>\n",
       "    <tr>\n",
       "      <th>0</th>\n",
       "      <td>0</td>\n",
       "      <td>1</td>\n",
       "      <td>A2058</td>\n",
       "      <td>1</td>\n",
       "    </tr>\n",
       "    <tr>\n",
       "      <th>1</th>\n",
       "      <td>0</td>\n",
       "      <td>1</td>\n",
       "      <td>A2058</td>\n",
       "      <td>1</td>\n",
       "    </tr>\n",
       "    <tr>\n",
       "      <th>2</th>\n",
       "      <td>0</td>\n",
       "      <td>1</td>\n",
       "      <td>A2058</td>\n",
       "      <td>1</td>\n",
       "    </tr>\n",
       "    <tr>\n",
       "      <th>4</th>\n",
       "      <td>0</td>\n",
       "      <td>2</td>\n",
       "      <td>A2058</td>\n",
       "      <td>1</td>\n",
       "    </tr>\n",
       "    <tr>\n",
       "      <th>5</th>\n",
       "      <td>0</td>\n",
       "      <td>2</td>\n",
       "      <td>A2058</td>\n",
       "      <td>1</td>\n",
       "    </tr>\n",
       "    <tr>\n",
       "      <th>...</th>\n",
       "      <td>...</td>\n",
       "      <td>...</td>\n",
       "      <td>...</td>\n",
       "      <td>...</td>\n",
       "    </tr>\n",
       "    <tr>\n",
       "      <th>464739</th>\n",
       "      <td>4046</td>\n",
       "      <td>1823</td>\n",
       "      <td>KB-ChR-8-5-11</td>\n",
       "      <td>1</td>\n",
       "    </tr>\n",
       "    <tr>\n",
       "      <th>464740</th>\n",
       "      <td>4047</td>\n",
       "      <td>1823</td>\n",
       "      <td>KB-ChR-8-5-11</td>\n",
       "      <td>1</td>\n",
       "    </tr>\n",
       "    <tr>\n",
       "      <th>464741</th>\n",
       "      <td>4048</td>\n",
       "      <td>1823</td>\n",
       "      <td>KB-ChR-8-5-11</td>\n",
       "      <td>1</td>\n",
       "    </tr>\n",
       "    <tr>\n",
       "      <th>464742</th>\n",
       "      <td>4049</td>\n",
       "      <td>1823</td>\n",
       "      <td>KB-ChR-8-5-11</td>\n",
       "      <td>1</td>\n",
       "    </tr>\n",
       "    <tr>\n",
       "      <th>464743</th>\n",
       "      <td>4050</td>\n",
       "      <td>1823</td>\n",
       "      <td>KB-ChR-8-5-11</td>\n",
       "      <td>1</td>\n",
       "    </tr>\n",
       "  </tbody>\n",
       "</table>\n",
       "<p>206499 rows × 4 columns</p>\n",
       "</div>"
      ],
      "text/plain": [
       "        drug_row_id  drug_col_id cell_line_name  synergistic_status\n",
       "0                 0            1          A2058                   1\n",
       "1                 0            1          A2058                   1\n",
       "2                 0            1          A2058                   1\n",
       "4                 0            2          A2058                   1\n",
       "5                 0            2          A2058                   1\n",
       "...             ...          ...            ...                 ...\n",
       "464739         4046         1823  KB-ChR-8-5-11                   1\n",
       "464740         4047         1823  KB-ChR-8-5-11                   1\n",
       "464741         4048         1823  KB-ChR-8-5-11                   1\n",
       "464742         4049         1823  KB-ChR-8-5-11                   1\n",
       "464743         4050         1823  KB-ChR-8-5-11                   1\n",
       "\n",
       "[206499 rows x 4 columns]"
      ]
     },
     "execution_count": 41,
     "metadata": {},
     "output_type": "execute_result"
    }
   ],
   "source": [
    "df_synergy"
   ]
  },
  {
   "cell_type": "code",
   "execution_count": 42,
   "id": "3852f4d0-281e-4146-9a46-f4a43bb3afb2",
   "metadata": {},
   "outputs": [],
   "source": [
    "num_drugs = max(drug_interaction['drug_row_id'].max(), drug_interaction['drug_col_id'].max()) + 1\n"
   ]
  },
  {
   "cell_type": "code",
   "execution_count": 43,
   "id": "8c20fae5-8811-4bb1-b6fa-f9580295ba82",
   "metadata": {},
   "outputs": [
    {
     "data": {
      "text/plain": [
       "np.int64(4051)"
      ]
     },
     "execution_count": 43,
     "metadata": {},
     "output_type": "execute_result"
    }
   ],
   "source": [
    "num_drugs"
   ]
  },
  {
   "cell_type": "code",
   "execution_count": 44,
   "id": "6641f638-e463-41e6-8b30-041c621b3487",
   "metadata": {},
   "outputs": [],
   "source": [
    "adj_matrix = np.zeros((num_drugs, num_drugs))\n"
   ]
  },
  {
   "cell_type": "code",
   "execution_count": 45,
   "id": "c040cef2-801a-47a1-b43b-27c521ad901f",
   "metadata": {},
   "outputs": [
    {
     "data": {
      "text/plain": [
       "array([[0., 0., 0., ..., 0., 0., 0.],\n",
       "       [0., 0., 0., ..., 0., 0., 0.],\n",
       "       [0., 0., 0., ..., 0., 0., 0.],\n",
       "       ...,\n",
       "       [0., 0., 0., ..., 0., 0., 0.],\n",
       "       [0., 0., 0., ..., 0., 0., 0.],\n",
       "       [0., 0., 0., ..., 0., 0., 0.]], shape=(4051, 4051))"
      ]
     },
     "execution_count": 45,
     "metadata": {},
     "output_type": "execute_result"
    }
   ],
   "source": [
    "adj_matrix"
   ]
  },
  {
   "cell_type": "code",
   "execution_count": 46,
   "id": "6391ab24-4ecf-43e8-9057-03490e13594f",
   "metadata": {},
   "outputs": [],
   "source": [
    "for _, row in df_synergy.iterrows():\n",
    "    i = int(row['drug_row_id'])\n",
    "    j = int(row['drug_col_id'])\n",
    "    adj_matrix[i, j] = 1\n",
    "    adj_matrix[j, i] = 1  "
   ]
  },
  {
   "cell_type": "code",
   "execution_count": 47,
   "id": "fbd1defd-794f-4da0-a7a7-b4263b8371a8",
   "metadata": {},
   "outputs": [],
   "source": [
    "np.fill_diagonal(adj_matrix, 0)"
   ]
  },
  {
   "cell_type": "code",
   "execution_count": 48,
   "id": "ccc41794-321b-4ac0-8f43-d27c20207f86",
   "metadata": {},
   "outputs": [
    {
     "data": {
      "text/plain": [
       "(4051, 4051)"
      ]
     },
     "execution_count": 48,
     "metadata": {},
     "output_type": "execute_result"
    }
   ],
   "source": [
    "adj_matrix.shape"
   ]
  },
  {
   "cell_type": "code",
   "execution_count": 49,
   "id": "376d87f0-604e-43f1-85ed-33ce62d701fa",
   "metadata": {},
   "outputs": [
    {
     "data": {
      "text/plain": [
       "array([[0., 1., 1., ..., 0., 0., 0.],\n",
       "       [1., 0., 1., ..., 0., 0., 0.],\n",
       "       [1., 1., 0., ..., 0., 0., 0.],\n",
       "       ...,\n",
       "       [0., 0., 0., ..., 0., 0., 0.],\n",
       "       [0., 0., 0., ..., 0., 0., 0.],\n",
       "       [0., 0., 0., ..., 0., 0., 0.]], shape=(4051, 4051))"
      ]
     },
     "execution_count": 49,
     "metadata": {},
     "output_type": "execute_result"
    }
   ],
   "source": [
    "adj_matrix"
   ]
  },
  {
   "cell_type": "code",
   "execution_count": 50,
   "id": "0248d609-7ead-4c33-bfe4-62a0cfa7d7ad",
   "metadata": {},
   "outputs": [
    {
     "data": {
      "text/plain": [
       "array([[1.        , 0.17699808, 0.11211037, ..., 0.11646819, 0.09727208,\n",
       "        0.14808722],\n",
       "       [0.17699808, 1.        , 0.2073627 , ..., 0.28200837, 0.22898571,\n",
       "        0.21912525],\n",
       "       [0.11211037, 0.2073627 , 1.        , ..., 0.17366199, 0.20719896,\n",
       "        0.34698416],\n",
       "       ...,\n",
       "       [0.11646819, 0.28200837, 0.17366199, ..., 1.        , 0.21525296,\n",
       "        0.27526932],\n",
       "       [0.09727208, 0.22898571, 0.20719896, ..., 0.21525296, 1.        ,\n",
       "        0.26000576],\n",
       "       [0.14808722, 0.21912525, 0.34698416, ..., 0.27526932, 0.26000576,\n",
       "        1.        ]], shape=(4051, 4051))"
      ]
     },
     "execution_count": 50,
     "metadata": {},
     "output_type": "execute_result"
    }
   ],
   "source": [
    "cos_sim_matrix"
   ]
  },
  {
   "cell_type": "code",
   "execution_count": 51,
   "id": "c2f8f9ae-a584-4fbb-a054-8cd756af895d",
   "metadata": {},
   "outputs": [],
   "source": [
    "drug_feature=np.array(drug_feature)"
   ]
  },
  {
   "cell_type": "code",
   "execution_count": 57,
   "id": "54880e72-5157-4a1b-b4b8-f377c28160a7",
   "metadata": {},
   "outputs": [],
   "source": [
    "X = torch.tensor(drug_feature, dtype=torch.float32)        \n",
    "A_label = torch.tensor(adj_matrix, dtype=torch.float32)\n",
    "A_cos = torch.tensor(cos_sim_matrix, dtype=torch.float32)"
   ]
  },
  {
   "cell_type": "code",
   "execution_count": 58,
   "id": "834b9f30-28b8-48b8-9f82-e6a92cbd8e31",
   "metadata": {},
   "outputs": [
    {
     "data": {
      "text/plain": [
       "torch.Size([4051, 4051])"
      ]
     },
     "execution_count": 58,
     "metadata": {},
     "output_type": "execute_result"
    }
   ],
   "source": [
    "A_label.shape"
   ]
  },
  {
   "cell_type": "code",
   "execution_count": 59,
   "id": "f6c61bf2-3f6d-40e8-a3fc-c0e3efadbc07",
   "metadata": {},
   "outputs": [],
   "source": [
    "device = torch.device(\"cuda\" if torch.cuda.is_available() else \"cpu\")\n",
    "X = X.to(device)\n",
    "A_label = A_label.to(device)\n",
    "\n"
   ]
  },
  {
   "cell_type": "code",
   "execution_count": 60,
   "id": "ccc5ecf8-3cf0-41ce-9ec6-ebd5ae773272",
   "metadata": {},
   "outputs": [],
   "source": [
    "def normalize_adj(adj):\n",
    "    adj = adj + torch.eye(adj.shape[0]).to(device)  # Add self-loops\n",
    "    deg = torch.sum(adj, dim=1)\n",
    "    deg_inv_sqrt = torch.pow(deg, -0.5)\n",
    "    deg_inv_sqrt[deg_inv_sqrt == float('inf')] = 0.0\n",
    "    D_inv_sqrt = torch.diag(deg_inv_sqrt)\n",
    "    return D_inv_sqrt @ adj @ D_inv_sqrt\n",
    "\n",
    "norm_adj = normalize_adj(A_label)"
   ]
  },
  {
   "cell_type": "markdown",
   "id": "73a5fb36-e3d0-4c76-b83c-385011bfa311",
   "metadata": {},
   "source": [
    "# INITIAL MODEL"
   ]
  },
  {
   "cell_type": "code",
   "execution_count": 62,
   "id": "1b8c389b-8b01-46a1-976a-52d8dc4bb73e",
   "metadata": {},
   "outputs": [],
   "source": [
    "class GAE(nn.Module):\n",
    "    def __init__(self, in_dim, hidden_dim):\n",
    "        super(GAE, self).__init__()\n",
    "        self.W = nn.Parameter(torch.randn(in_dim, hidden_dim) * 0.01)\n",
    "\n",
    "    def encode(self, X, norm_adj):\n",
    "        return torch.relu(norm_adj @ X @ self.W)  # GCN layer\n",
    "\n",
    "    def decode(self, Z):\n",
    "        return torch.sigmoid(Z @ Z.T)  # Inner-product decoder\n",
    "\n",
    "    def forward(self, X, norm_adj):\n",
    "        Z = self.encode(X, norm_adj)\n",
    "        A_pred = self.decode(Z)\n",
    "        return A_pred, Z"
   ]
  },
  {
   "cell_type": "code",
   "execution_count": 63,
   "id": "e1951f37-3783-4023-b015-b3cf39cae5f4",
   "metadata": {},
   "outputs": [],
   "source": [
    "model = GAE(in_dim=2048, hidden_dim=128).to(device)\n",
    "optimizer = torch.optim.Adam(model.parameters(), lr=0.01)\n",
    "criterion = nn.BCELoss()"
   ]
  },
  {
   "cell_type": "code",
   "execution_count": 65,
   "id": "47733703-f674-4dc3-93cc-4c60be2429aa",
   "metadata": {},
   "outputs": [],
   "source": [
    "triu_indices = torch.triu_indices(X.shape[0], X.shape[0], offset=1)\n",
    "true_edges = A_label[triu_indices[0], triu_indices[1]]"
   ]
  },
  {
   "cell_type": "code",
   "execution_count": 69,
   "id": "aee806b2-3a21-4824-80c3-65403f4b63e1",
   "metadata": {},
   "outputs": [
    {
     "name": "stdout",
     "output_type": "stream",
     "text": [
      "Epoch 001 | Loss: 0.6931 | ROC-AUC: 0.5000 | PR-AUC: 0.0035\n",
      "Epoch 002 | Loss: 0.6931 | ROC-AUC: 0.5000 | PR-AUC: 0.0035\n",
      "Epoch 003 | Loss: 0.6931 | ROC-AUC: 0.5000 | PR-AUC: 0.0035\n",
      "Epoch 004 | Loss: 0.6931 | ROC-AUC: 0.5000 | PR-AUC: 0.0035\n",
      "Epoch 005 | Loss: 0.6931 | ROC-AUC: 0.5000 | PR-AUC: 0.0035\n",
      "Epoch 006 | Loss: 0.6931 | ROC-AUC: 0.5000 | PR-AUC: 0.0035\n",
      "Epoch 007 | Loss: 0.6931 | ROC-AUC: 0.5000 | PR-AUC: 0.0035\n",
      "Epoch 008 | Loss: 0.6931 | ROC-AUC: 0.5000 | PR-AUC: 0.0035\n",
      "Epoch 009 | Loss: 0.6931 | ROC-AUC: 0.5000 | PR-AUC: 0.0035\n",
      "Epoch 010 | Loss: 0.6931 | ROC-AUC: 0.5000 | PR-AUC: 0.0035\n",
      "Epoch 011 | Loss: 0.6931 | ROC-AUC: 0.5000 | PR-AUC: 0.0035\n",
      "Epoch 012 | Loss: 0.6931 | ROC-AUC: 0.5000 | PR-AUC: 0.0035\n",
      "Epoch 013 | Loss: 0.6931 | ROC-AUC: 0.5000 | PR-AUC: 0.0035\n",
      "Epoch 014 | Loss: 0.6931 | ROC-AUC: 0.5000 | PR-AUC: 0.0035\n",
      "Epoch 015 | Loss: 0.6931 | ROC-AUC: 0.5000 | PR-AUC: 0.0035\n",
      "Epoch 016 | Loss: 0.6931 | ROC-AUC: 0.5000 | PR-AUC: 0.0035\n",
      "Epoch 017 | Loss: 0.6931 | ROC-AUC: 0.5000 | PR-AUC: 0.0035\n",
      "Epoch 018 | Loss: 0.6931 | ROC-AUC: 0.5000 | PR-AUC: 0.0035\n",
      "Epoch 019 | Loss: 0.6931 | ROC-AUC: 0.5000 | PR-AUC: 0.0035\n",
      "Epoch 020 | Loss: 0.6931 | ROC-AUC: 0.5000 | PR-AUC: 0.0035\n"
     ]
    }
   ],
   "source": [
    "epochs = 20\n",
    "for epoch in range(epochs):\n",
    "    model.train()\n",
    "    optimizer.zero_grad()\n",
    "    \n",
    "    A_pred, Z = model(X, norm_adj)\n",
    "    pred_edges = A_pred[triu_indices[0], triu_indices[1]]\n",
    "    \n",
    "    loss = criterion(pred_edges, true_edges)\n",
    "    loss.backward()\n",
    "    optimizer.step()\n",
    "    \n",
    "    # Evaluation metrics\n",
    "    with torch.no_grad():\n",
    "        pred_np = pred_edges.detach().cpu().numpy()\n",
    "        true_np = true_edges.cpu().numpy()\n",
    "        roc = roc_auc_score(true_np, pred_np)\n",
    "        pr = average_precision_score(true_np, pred_np)\n",
    "\n",
    "    print(f\"Epoch {epoch+1:03d} | Loss: {loss.item():.4f} | ROC-AUC: {roc:.4f} | PR-AUC: {pr:.4f}\")\n",
    "\n"
   ]
  },
  {
   "cell_type": "code",
   "execution_count": 67,
   "id": "766203d5-9b24-452e-823c-07f074d6799b",
   "metadata": {},
   "outputs": [
    {
     "name": "stdout",
     "output_type": "stream",
     "text": [
      "Sparsity: 0.003546\n"
     ]
    }
   ],
   "source": [
    "density = A_label.sum() / (A_label.shape[0] ** 2)\n",
    "print(f\"Sparsity: {density.item():.6f}\")\n"
   ]
  },
  {
   "cell_type": "markdown",
   "id": "a1f77092-e92d-401d-aac5-97cfcab00538",
   "metadata": {},
   "source": [
    "# WITH SELF LOOP"
   ]
  },
  {
   "cell_type": "code",
   "execution_count": 70,
   "id": "92728a80-55e8-4cde-b70e-cd6d36d8bd3f",
   "metadata": {},
   "outputs": [],
   "source": [
    "A_label = A_label + torch.eye(A_label.shape[0]).to(device)\n"
   ]
  },
  {
   "cell_type": "code",
   "execution_count": 73,
   "id": "fbc66106-61ba-4008-a946-ba4c68aac88a",
   "metadata": {},
   "outputs": [],
   "source": [
    "def normalize_adj(adj):\n",
    "    adj = adj + torch.eye(adj.shape[0]).to(device)  # Add self-loops\n",
    "    deg = torch.sum(adj, dim=1)\n",
    "    deg_inv_sqrt = torch.pow(deg, -0.5)\n",
    "    deg_inv_sqrt[deg_inv_sqrt == float('inf')] = 0.0\n",
    "    D_inv_sqrt = torch.diag(deg_inv_sqrt)\n",
    "    return D_inv_sqrt @ adj @ D_inv_sqrt\n",
    "\n",
    "norm_adj = normalize_adj(A_label)"
   ]
  },
  {
   "cell_type": "code",
   "execution_count": 74,
   "id": "c403d9a6-8817-49ad-a3e5-59d2366be56a",
   "metadata": {},
   "outputs": [],
   "source": [
    "\n",
    "true_edges = A_label[triu_indices[0], triu_indices[1]]"
   ]
  },
  {
   "cell_type": "code",
   "execution_count": 75,
   "id": "ced15e2d-7b41-4389-9ed2-3884a9b3e096",
   "metadata": {},
   "outputs": [
    {
     "name": "stdout",
     "output_type": "stream",
     "text": [
      "Epoch 001 | Loss: 0.6931 | ROC-AUC: 0.5000 | PR-AUC: 0.0035\n",
      "Epoch 002 | Loss: 0.6931 | ROC-AUC: 0.5000 | PR-AUC: 0.0035\n",
      "Epoch 003 | Loss: 0.6931 | ROC-AUC: 0.5000 | PR-AUC: 0.0035\n",
      "Epoch 004 | Loss: 0.6931 | ROC-AUC: 0.5000 | PR-AUC: 0.0035\n",
      "Epoch 005 | Loss: 0.6931 | ROC-AUC: 0.5000 | PR-AUC: 0.0035\n",
      "Epoch 006 | Loss: 0.6931 | ROC-AUC: 0.5000 | PR-AUC: 0.0035\n",
      "Epoch 007 | Loss: 0.6931 | ROC-AUC: 0.5000 | PR-AUC: 0.0035\n",
      "Epoch 008 | Loss: 0.6931 | ROC-AUC: 0.5000 | PR-AUC: 0.0035\n",
      "Epoch 009 | Loss: 0.6931 | ROC-AUC: 0.5000 | PR-AUC: 0.0035\n",
      "Epoch 010 | Loss: 0.6931 | ROC-AUC: 0.5000 | PR-AUC: 0.0035\n",
      "Epoch 011 | Loss: 0.6931 | ROC-AUC: 0.5000 | PR-AUC: 0.0035\n",
      "Epoch 012 | Loss: 0.6931 | ROC-AUC: 0.5000 | PR-AUC: 0.0035\n",
      "Epoch 013 | Loss: 0.6931 | ROC-AUC: 0.5000 | PR-AUC: 0.0035\n",
      "Epoch 014 | Loss: 0.6931 | ROC-AUC: 0.5000 | PR-AUC: 0.0035\n",
      "Epoch 015 | Loss: 0.6931 | ROC-AUC: 0.5000 | PR-AUC: 0.0035\n",
      "Epoch 016 | Loss: 0.6931 | ROC-AUC: 0.5000 | PR-AUC: 0.0035\n",
      "Epoch 017 | Loss: 0.6931 | ROC-AUC: 0.5000 | PR-AUC: 0.0035\n",
      "Epoch 018 | Loss: 0.6931 | ROC-AUC: 0.5000 | PR-AUC: 0.0035\n",
      "Epoch 019 | Loss: 0.6931 | ROC-AUC: 0.5000 | PR-AUC: 0.0035\n",
      "Epoch 020 | Loss: 0.6931 | ROC-AUC: 0.5000 | PR-AUC: 0.0035\n"
     ]
    }
   ],
   "source": [
    "epochs = 20\n",
    "for epoch in range(epochs):\n",
    "    model.train()\n",
    "    optimizer.zero_grad()\n",
    "    \n",
    "    A_pred, Z = model(X, norm_adj)\n",
    "    pred_edges = A_pred[triu_indices[0], triu_indices[1]]\n",
    "    \n",
    "    loss = criterion(pred_edges, true_edges)\n",
    "    loss.backward()\n",
    "    optimizer.step()\n",
    "    \n",
    "    # Evaluation metrics\n",
    "    with torch.no_grad():\n",
    "        pred_np = pred_edges.detach().cpu().numpy()\n",
    "        true_np = true_edges.cpu().numpy()\n",
    "        roc = roc_auc_score(true_np, pred_np)\n",
    "        pr = average_precision_score(true_np, pred_np)\n",
    "\n",
    "    print(f\"Epoch {epoch+1:03d} | Loss: {loss.item():.4f} | ROC-AUC: {roc:.4f} | PR-AUC: {pr:.4f}\")\n",
    "\n"
   ]
  },
  {
   "cell_type": "markdown",
   "id": "57feb2c5-89e3-4db8-a60d-2477f4ae4732",
   "metadata": {},
   "source": [
    "# ReLU TO LeakyReLU IN ENCODER"
   ]
  },
  {
   "cell_type": "code",
   "execution_count": 76,
   "id": "92fb48bd-b217-42d0-b951-85e83d8b07c3",
   "metadata": {},
   "outputs": [],
   "source": [
    "class GAE(nn.Module):\n",
    "    def __init__(self, in_dim, hidden_dim):\n",
    "        super(GAE, self).__init__()\n",
    "        self.W = nn.Parameter(torch.randn(in_dim, hidden_dim) * 0.01)\n",
    "\n",
    "    def encode(self, X, norm_adj):\n",
    "        return F.leaky_relu(norm_adj @ X @ self.W, negative_slope=0.01)\n",
    "\n",
    "\n",
    "    def decode(self, Z):\n",
    "        return torch.sigmoid(Z @ Z.T)  # Inner-product decoder\n",
    "\n",
    "    def forward(self, X, norm_adj):\n",
    "        Z = self.encode(X, norm_adj)\n",
    "        A_pred = self.decode(Z)\n",
    "        return A_pred, Z"
   ]
  },
  {
   "cell_type": "code",
   "execution_count": 77,
   "id": "1b69baf8-17b0-43a2-9be0-632b8491f875",
   "metadata": {},
   "outputs": [],
   "source": [
    "model = GAE(in_dim=2048, hidden_dim=128).to(device)\n",
    "optimizer = torch.optim.Adam(model.parameters(), lr=0.01)\n",
    "criterion = nn.BCELoss()"
   ]
  },
  {
   "cell_type": "code",
   "execution_count": 78,
   "id": "e6c1182b-c9f2-46e9-be7e-dadfebd05e48",
   "metadata": {},
   "outputs": [],
   "source": [
    "triu_indices = torch.triu_indices(X.shape[0], X.shape[0], offset=1)\n",
    "true_edges = A_label[triu_indices[0], triu_indices[1]]"
   ]
  },
  {
   "cell_type": "code",
   "execution_count": 79,
   "id": "a18da0d4-b02a-4c4e-99aa-db67ef185e46",
   "metadata": {},
   "outputs": [
    {
     "name": "stdout",
     "output_type": "stream",
     "text": [
      "Epoch 001 | Loss: 0.7170 | ROC-AUC: 0.8058 | PR-AUC: 0.0935\n",
      "Epoch 002 | Loss: 0.6938 | ROC-AUC: 0.9300 | PR-AUC: 0.1327\n",
      "Epoch 003 | Loss: 0.6949 | ROC-AUC: 0.9298 | PR-AUC: 0.1326\n",
      "Epoch 004 | Loss: 0.6960 | ROC-AUC: 0.9297 | PR-AUC: 0.1326\n",
      "Epoch 005 | Loss: 0.6972 | ROC-AUC: 0.9297 | PR-AUC: 0.1326\n",
      "Epoch 006 | Loss: 0.6983 | ROC-AUC: 0.9296 | PR-AUC: 0.1326\n",
      "Epoch 007 | Loss: 0.6993 | ROC-AUC: 0.9296 | PR-AUC: 0.1325\n",
      "Epoch 008 | Loss: 0.7002 | ROC-AUC: 0.9295 | PR-AUC: 0.1325\n",
      "Epoch 009 | Loss: 0.7009 | ROC-AUC: 0.9295 | PR-AUC: 0.1325\n",
      "Epoch 010 | Loss: 0.7018 | ROC-AUC: 0.9273 | PR-AUC: 0.1273\n",
      "Epoch 011 | Loss: 0.7022 | ROC-AUC: 0.9295 | PR-AUC: 0.1325\n",
      "Epoch 012 | Loss: 0.7027 | ROC-AUC: 0.9290 | PR-AUC: 0.1317\n",
      "Epoch 013 | Loss: 0.7032 | ROC-AUC: 0.9270 | PR-AUC: 0.1299\n",
      "Epoch 014 | Loss: 0.7034 | ROC-AUC: 0.9293 | PR-AUC: 0.1320\n",
      "Epoch 015 | Loss: 0.7036 | ROC-AUC: 0.9293 | PR-AUC: 0.1322\n",
      "Epoch 016 | Loss: 0.7038 | ROC-AUC: 0.9293 | PR-AUC: 0.1324\n",
      "Epoch 017 | Loss: 0.7039 | ROC-AUC: 0.9294 | PR-AUC: 0.1324\n",
      "Epoch 018 | Loss: 0.7040 | ROC-AUC: 0.9289 | PR-AUC: 0.1314\n",
      "Epoch 019 | Loss: 0.7041 | ROC-AUC: 0.9284 | PR-AUC: 0.1313\n",
      "Epoch 020 | Loss: 0.7040 | ROC-AUC: 0.9294 | PR-AUC: 0.1325\n"
     ]
    }
   ],
   "source": [
    "epochs = 20\n",
    "for epoch in range(epochs):\n",
    "    model.train()\n",
    "    optimizer.zero_grad()\n",
    "    \n",
    "    A_pred, Z = model(X, norm_adj)\n",
    "    pred_edges = A_pred[triu_indices[0], triu_indices[1]]\n",
    "    \n",
    "    loss = criterion(pred_edges, true_edges)\n",
    "    loss.backward()\n",
    "    optimizer.step()\n",
    "    \n",
    "    # Evaluation metrics\n",
    "    with torch.no_grad():\n",
    "        pred_np = pred_edges.detach().cpu().numpy()\n",
    "        true_np = true_edges.cpu().numpy()\n",
    "        roc = roc_auc_score(true_np, pred_np)\n",
    "        pr = average_precision_score(true_np, pred_np)\n",
    "\n",
    "    print(f\"Epoch {epoch+1:03d} | Loss: {loss.item():.4f} | ROC-AUC: {roc:.4f} | PR-AUC: {pr:.4f}\")\n",
    "\n"
   ]
  },
  {
   "cell_type": "markdown",
   "id": "11fe31fe-74b7-4ca1-92ff-28f2393259ee",
   "metadata": {},
   "source": [
    "# USE BCEWithLogitsLoss"
   ]
  },
  {
   "cell_type": "code",
   "execution_count": 82,
   "id": "d373680d-7763-4691-9298-5d83c6230aa0",
   "metadata": {},
   "outputs": [],
   "source": [
    "class GAE(nn.Module):\n",
    "    def __init__(self, in_dim, hidden_dim):\n",
    "        super(GAE, self).__init__()\n",
    "        self.W = nn.Parameter(torch.randn(in_dim, hidden_dim) * 0.01)\n",
    "\n",
    "    def encode(self, X, norm_adj):\n",
    "        return F.leaky_relu(norm_adj @ X @ self.W, negative_slope=0.01)\n",
    "\n",
    "\n",
    "    def decode(self, Z):\n",
    "        return  Z @ Z.T  # Inner-product decoder\n",
    "  \n",
    "        \n",
    "\n",
    "    def forward(self, X, norm_adj):\n",
    "        Z = self.encode(X, norm_adj)\n",
    "        A_pred = self.decode(Z)\n",
    "        return A_pred, Z"
   ]
  },
  {
   "cell_type": "code",
   "execution_count": 83,
   "id": "d850c239-091a-4640-b06d-dd7a3b4f9418",
   "metadata": {},
   "outputs": [],
   "source": [
    "model = GAE(in_dim=2048, hidden_dim=128).to(device)\n",
    "optimizer = torch.optim.Adam(model.parameters(), lr=0.01)\n",
    "pos_weight = (A_label.numel() - A_label.sum()) / A_label.sum()\n",
    "loss_fn = nn.BCEWithLogitsLoss(pos_weight=pos_weight)"
   ]
  },
  {
   "cell_type": "code",
   "execution_count": 84,
   "id": "c8f7cc71-15c1-4914-a4a0-12e182cccd71",
   "metadata": {},
   "outputs": [],
   "source": [
    "triu_indices = torch.triu_indices(X.shape[0], X.shape[0], offset=1)\n",
    "true_edges = A_label[triu_indices[0], triu_indices[1]]"
   ]
  },
  {
   "cell_type": "code",
   "execution_count": 87,
   "id": "b7eec423-a701-441d-83be-4542ab14dad8",
   "metadata": {},
   "outputs": [
    {
     "name": "stdout",
     "output_type": "stream",
     "text": [
      "Epoch 001 | Loss: 1.1430 | ROC-AUC: 0.9329 | PR-AUC: 0.1354\n",
      "Epoch 002 | Loss: 1.1386 | ROC-AUC: 0.9333 | PR-AUC: 0.1357\n",
      "Epoch 003 | Loss: 1.1351 | ROC-AUC: 0.9337 | PR-AUC: 0.1360\n",
      "Epoch 004 | Loss: 1.1324 | ROC-AUC: 0.9341 | PR-AUC: 0.1363\n",
      "Epoch 005 | Loss: 1.1304 | ROC-AUC: 0.9346 | PR-AUC: 0.1367\n",
      "Epoch 006 | Loss: 1.1290 | ROC-AUC: 0.9352 | PR-AUC: 0.1371\n",
      "Epoch 007 | Loss: 1.1280 | ROC-AUC: 0.9358 | PR-AUC: 0.1375\n",
      "Epoch 008 | Loss: 1.1273 | ROC-AUC: 0.9364 | PR-AUC: 0.1380\n",
      "Epoch 009 | Loss: 1.1268 | ROC-AUC: 0.9371 | PR-AUC: 0.1385\n",
      "Epoch 010 | Loss: 1.1265 | ROC-AUC: 0.9378 | PR-AUC: 0.1391\n",
      "Epoch 011 | Loss: 1.1262 | ROC-AUC: 0.9385 | PR-AUC: 0.1396\n",
      "Epoch 012 | Loss: 1.1259 | ROC-AUC: 0.9393 | PR-AUC: 0.1403\n",
      "Epoch 013 | Loss: 1.1255 | ROC-AUC: 0.9401 | PR-AUC: 0.1409\n",
      "Epoch 014 | Loss: 1.1251 | ROC-AUC: 0.9409 | PR-AUC: 0.1416\n",
      "Epoch 015 | Loss: 1.1245 | ROC-AUC: 0.9418 | PR-AUC: 0.1423\n",
      "Epoch 016 | Loss: 1.1237 | ROC-AUC: 0.9426 | PR-AUC: 0.1431\n",
      "Epoch 017 | Loss: 1.1228 | ROC-AUC: 0.9435 | PR-AUC: 0.1438\n",
      "Epoch 018 | Loss: 1.1217 | ROC-AUC: 0.9444 | PR-AUC: 0.1446\n",
      "Epoch 019 | Loss: 1.1205 | ROC-AUC: 0.9454 | PR-AUC: 0.1455\n",
      "Epoch 020 | Loss: 1.1192 | ROC-AUC: 0.9463 | PR-AUC: 0.1463\n",
      "Epoch 021 | Loss: 1.1177 | ROC-AUC: 0.9472 | PR-AUC: 0.1472\n",
      "Epoch 022 | Loss: 1.1161 | ROC-AUC: 0.9482 | PR-AUC: 0.1481\n",
      "Epoch 023 | Loss: 1.1145 | ROC-AUC: 0.9491 | PR-AUC: 0.1490\n",
      "Epoch 024 | Loss: 1.1129 | ROC-AUC: 0.9501 | PR-AUC: 0.1500\n",
      "Epoch 025 | Loss: 1.1112 | ROC-AUC: 0.9511 | PR-AUC: 0.1509\n",
      "Epoch 026 | Loss: 1.1095 | ROC-AUC: 0.9520 | PR-AUC: 0.1519\n",
      "Epoch 027 | Loss: 1.1078 | ROC-AUC: 0.9530 | PR-AUC: 0.1529\n",
      "Epoch 028 | Loss: 1.1062 | ROC-AUC: 0.9539 | PR-AUC: 0.1540\n",
      "Epoch 029 | Loss: 1.1046 | ROC-AUC: 0.9549 | PR-AUC: 0.1550\n",
      "Epoch 030 | Loss: 1.1030 | ROC-AUC: 0.9558 | PR-AUC: 0.1560\n",
      "Epoch 031 | Loss: 1.1015 | ROC-AUC: 0.9567 | PR-AUC: 0.1571\n",
      "Epoch 032 | Loss: 1.1000 | ROC-AUC: 0.9576 | PR-AUC: 0.1581\n",
      "Epoch 033 | Loss: 1.0986 | ROC-AUC: 0.9584 | PR-AUC: 0.1591\n",
      "Epoch 034 | Loss: 1.0973 | ROC-AUC: 0.9593 | PR-AUC: 0.1601\n",
      "Epoch 035 | Loss: 1.0959 | ROC-AUC: 0.9601 | PR-AUC: 0.1611\n",
      "Epoch 036 | Loss: 1.0946 | ROC-AUC: 0.9609 | PR-AUC: 0.1621\n",
      "Epoch 037 | Loss: 1.0934 | ROC-AUC: 0.9617 | PR-AUC: 0.1630\n",
      "Epoch 038 | Loss: 1.0921 | ROC-AUC: 0.9624 | PR-AUC: 0.1640\n",
      "Epoch 039 | Loss: 1.0909 | ROC-AUC: 0.9631 | PR-AUC: 0.1648\n",
      "Epoch 040 | Loss: 1.0896 | ROC-AUC: 0.9638 | PR-AUC: 0.1657\n",
      "Epoch 041 | Loss: 1.0884 | ROC-AUC: 0.9644 | PR-AUC: 0.1665\n",
      "Epoch 042 | Loss: 1.0871 | ROC-AUC: 0.9650 | PR-AUC: 0.1673\n",
      "Epoch 043 | Loss: 1.0859 | ROC-AUC: 0.9656 | PR-AUC: 0.1681\n",
      "Epoch 044 | Loss: 1.0846 | ROC-AUC: 0.9662 | PR-AUC: 0.1688\n",
      "Epoch 045 | Loss: 1.0834 | ROC-AUC: 0.9667 | PR-AUC: 0.1695\n",
      "Epoch 046 | Loss: 1.0821 | ROC-AUC: 0.9672 | PR-AUC: 0.1702\n",
      "Epoch 047 | Loss: 1.0808 | ROC-AUC: 0.9677 | PR-AUC: 0.1708\n",
      "Epoch 048 | Loss: 1.0795 | ROC-AUC: 0.9681 | PR-AUC: 0.1714\n",
      "Epoch 049 | Loss: 1.0782 | ROC-AUC: 0.9685 | PR-AUC: 0.1720\n",
      "Epoch 050 | Loss: 1.0768 | ROC-AUC: 0.9690 | PR-AUC: 0.1725\n",
      "Epoch 051 | Loss: 1.0755 | ROC-AUC: 0.9693 | PR-AUC: 0.1730\n",
      "Epoch 052 | Loss: 1.0742 | ROC-AUC: 0.9697 | PR-AUC: 0.1735\n",
      "Epoch 053 | Loss: 1.0729 | ROC-AUC: 0.9701 | PR-AUC: 0.1740\n",
      "Epoch 054 | Loss: 1.0716 | ROC-AUC: 0.9704 | PR-AUC: 0.1744\n",
      "Epoch 055 | Loss: 1.0704 | ROC-AUC: 0.9708 | PR-AUC: 0.1749\n",
      "Epoch 056 | Loss: 1.0691 | ROC-AUC: 0.9711 | PR-AUC: 0.1753\n",
      "Epoch 057 | Loss: 1.0678 | ROC-AUC: 0.9714 | PR-AUC: 0.1758\n",
      "Epoch 058 | Loss: 1.0666 | ROC-AUC: 0.9718 | PR-AUC: 0.1762\n",
      "Epoch 059 | Loss: 1.0654 | ROC-AUC: 0.9721 | PR-AUC: 0.1765\n",
      "Epoch 060 | Loss: 1.0641 | ROC-AUC: 0.9724 | PR-AUC: 0.1769\n",
      "Epoch 061 | Loss: 1.0629 | ROC-AUC: 0.9727 | PR-AUC: 0.1773\n",
      "Epoch 062 | Loss: 1.0617 | ROC-AUC: 0.9730 | PR-AUC: 0.1777\n",
      "Epoch 063 | Loss: 1.0605 | ROC-AUC: 0.9733 | PR-AUC: 0.1780\n",
      "Epoch 064 | Loss: 1.0593 | ROC-AUC: 0.9736 | PR-AUC: 0.1784\n",
      "Epoch 065 | Loss: 1.0581 | ROC-AUC: 0.9738 | PR-AUC: 0.1787\n",
      "Epoch 066 | Loss: 1.0570 | ROC-AUC: 0.9741 | PR-AUC: 0.1790\n",
      "Epoch 067 | Loss: 1.0558 | ROC-AUC: 0.9744 | PR-AUC: 0.1793\n",
      "Epoch 068 | Loss: 1.0546 | ROC-AUC: 0.9747 | PR-AUC: 0.1796\n",
      "Epoch 069 | Loss: 1.0535 | ROC-AUC: 0.9749 | PR-AUC: 0.1799\n",
      "Epoch 070 | Loss: 1.0523 | ROC-AUC: 0.9752 | PR-AUC: 0.1802\n",
      "Epoch 071 | Loss: 1.0512 | ROC-AUC: 0.9755 | PR-AUC: 0.1805\n",
      "Epoch 072 | Loss: 1.0500 | ROC-AUC: 0.9757 | PR-AUC: 0.1808\n",
      "Epoch 073 | Loss: 1.0489 | ROC-AUC: 0.9760 | PR-AUC: 0.1810\n",
      "Epoch 074 | Loss: 1.0478 | ROC-AUC: 0.9762 | PR-AUC: 0.1812\n",
      "Epoch 075 | Loss: 1.0467 | ROC-AUC: 0.9764 | PR-AUC: 0.1815\n",
      "Epoch 076 | Loss: 1.0456 | ROC-AUC: 0.9767 | PR-AUC: 0.1817\n",
      "Epoch 077 | Loss: 1.0445 | ROC-AUC: 0.9769 | PR-AUC: 0.1819\n",
      "Epoch 078 | Loss: 1.0434 | ROC-AUC: 0.9771 | PR-AUC: 0.1821\n",
      "Epoch 079 | Loss: 1.0423 | ROC-AUC: 0.9773 | PR-AUC: 0.1822\n",
      "Epoch 080 | Loss: 1.0412 | ROC-AUC: 0.9775 | PR-AUC: 0.1824\n",
      "Epoch 081 | Loss: 1.0402 | ROC-AUC: 0.9777 | PR-AUC: 0.1826\n",
      "Epoch 082 | Loss: 1.0391 | ROC-AUC: 0.9779 | PR-AUC: 0.1827\n",
      "Epoch 083 | Loss: 1.0381 | ROC-AUC: 0.9781 | PR-AUC: 0.1828\n",
      "Epoch 084 | Loss: 1.0371 | ROC-AUC: 0.9783 | PR-AUC: 0.1830\n",
      "Epoch 085 | Loss: 1.0361 | ROC-AUC: 0.9785 | PR-AUC: 0.1831\n",
      "Epoch 086 | Loss: 1.0351 | ROC-AUC: 0.9786 | PR-AUC: 0.1832\n",
      "Epoch 087 | Loss: 1.0341 | ROC-AUC: 0.9788 | PR-AUC: 0.1833\n",
      "Epoch 088 | Loss: 1.0331 | ROC-AUC: 0.9790 | PR-AUC: 0.1833\n",
      "Epoch 089 | Loss: 1.0321 | ROC-AUC: 0.9791 | PR-AUC: 0.1834\n",
      "Epoch 090 | Loss: 1.0311 | ROC-AUC: 0.9793 | PR-AUC: 0.1835\n",
      "Epoch 091 | Loss: 1.0302 | ROC-AUC: 0.9794 | PR-AUC: 0.1836\n",
      "Epoch 092 | Loss: 1.0292 | ROC-AUC: 0.9795 | PR-AUC: 0.1836\n",
      "Epoch 093 | Loss: 1.0283 | ROC-AUC: 0.9797 | PR-AUC: 0.1837\n",
      "Epoch 094 | Loss: 1.0274 | ROC-AUC: 0.9798 | PR-AUC: 0.1837\n",
      "Epoch 095 | Loss: 1.0265 | ROC-AUC: 0.9799 | PR-AUC: 0.1838\n",
      "Epoch 096 | Loss: 1.0255 | ROC-AUC: 0.9800 | PR-AUC: 0.1838\n",
      "Epoch 097 | Loss: 1.0246 | ROC-AUC: 0.9802 | PR-AUC: 0.1838\n",
      "Epoch 098 | Loss: 1.0238 | ROC-AUC: 0.9803 | PR-AUC: 0.1838\n",
      "Epoch 099 | Loss: 1.0229 | ROC-AUC: 0.9804 | PR-AUC: 0.1839\n",
      "Epoch 100 | Loss: 1.0220 | ROC-AUC: 0.9805 | PR-AUC: 0.1839\n",
      "Epoch 101 | Loss: 1.0212 | ROC-AUC: 0.9806 | PR-AUC: 0.1839\n",
      "Epoch 102 | Loss: 1.0203 | ROC-AUC: 0.9806 | PR-AUC: 0.1839\n",
      "Epoch 103 | Loss: 1.0195 | ROC-AUC: 0.9808 | PR-AUC: 0.1840\n",
      "Epoch 104 | Loss: 1.0187 | ROC-AUC: 0.9809 | PR-AUC: 0.1840\n",
      "Epoch 105 | Loss: 1.0179 | ROC-AUC: 0.9810 | PR-AUC: 0.1840\n",
      "Epoch 106 | Loss: 1.0170 | ROC-AUC: 0.9810 | PR-AUC: 0.1840\n",
      "Epoch 107 | Loss: 1.0162 | ROC-AUC: 0.9811 | PR-AUC: 0.1841\n",
      "Epoch 108 | Loss: 1.0154 | ROC-AUC: 0.9812 | PR-AUC: 0.1841\n",
      "Epoch 109 | Loss: 1.0146 | ROC-AUC: 0.9813 | PR-AUC: 0.1841\n",
      "Epoch 110 | Loss: 1.0138 | ROC-AUC: 0.9813 | PR-AUC: 0.1841\n",
      "Epoch 111 | Loss: 1.0129 | ROC-AUC: 0.9814 | PR-AUC: 0.1841\n",
      "Epoch 112 | Loss: 1.0120 | ROC-AUC: 0.9815 | PR-AUC: 0.1841\n",
      "Epoch 113 | Loss: 1.0111 | ROC-AUC: 0.9815 | PR-AUC: 0.1841\n",
      "Epoch 114 | Loss: 1.0103 | ROC-AUC: 0.9816 | PR-AUC: 0.1841\n",
      "Epoch 115 | Loss: 1.0094 | ROC-AUC: 0.9817 | PR-AUC: 0.1840\n",
      "Epoch 116 | Loss: 1.0086 | ROC-AUC: 0.9818 | PR-AUC: 0.1839\n",
      "Epoch 117 | Loss: 1.0078 | ROC-AUC: 0.9818 | PR-AUC: 0.1838\n",
      "Epoch 118 | Loss: 1.0070 | ROC-AUC: 0.9818 | PR-AUC: 0.1838\n",
      "Epoch 119 | Loss: 1.0063 | ROC-AUC: 0.9819 | PR-AUC: 0.1836\n",
      "Epoch 120 | Loss: 1.0056 | ROC-AUC: 0.9819 | PR-AUC: 0.1836\n",
      "Epoch 121 | Loss: 1.0048 | ROC-AUC: 0.9820 | PR-AUC: 0.1835\n",
      "Epoch 122 | Loss: 1.0041 | ROC-AUC: 0.9821 | PR-AUC: 0.1835\n",
      "Epoch 123 | Loss: 1.0033 | ROC-AUC: 0.9821 | PR-AUC: 0.1836\n",
      "Epoch 124 | Loss: 1.0026 | ROC-AUC: 0.9822 | PR-AUC: 0.1836\n",
      "Epoch 125 | Loss: 1.0019 | ROC-AUC: 0.9823 | PR-AUC: 0.1836\n",
      "Epoch 126 | Loss: 1.0012 | ROC-AUC: 0.9824 | PR-AUC: 0.1837\n",
      "Epoch 127 | Loss: 1.0006 | ROC-AUC: 0.9825 | PR-AUC: 0.1837\n",
      "Epoch 128 | Loss: 0.9999 | ROC-AUC: 0.9825 | PR-AUC: 0.1838\n",
      "Epoch 129 | Loss: 0.9993 | ROC-AUC: 0.9826 | PR-AUC: 0.1838\n",
      "Epoch 130 | Loss: 0.9986 | ROC-AUC: 0.9826 | PR-AUC: 0.1838\n",
      "Epoch 131 | Loss: 0.9980 | ROC-AUC: 0.9827 | PR-AUC: 0.1839\n",
      "Epoch 132 | Loss: 0.9973 | ROC-AUC: 0.9827 | PR-AUC: 0.1839\n",
      "Epoch 133 | Loss: 0.9967 | ROC-AUC: 0.9827 | PR-AUC: 0.1839\n",
      "Epoch 134 | Loss: 0.9961 | ROC-AUC: 0.9827 | PR-AUC: 0.1839\n",
      "Epoch 135 | Loss: 0.9954 | ROC-AUC: 0.9828 | PR-AUC: 0.1839\n",
      "Epoch 136 | Loss: 0.9948 | ROC-AUC: 0.9828 | PR-AUC: 0.1839\n",
      "Epoch 137 | Loss: 0.9941 | ROC-AUC: 0.9829 | PR-AUC: 0.1838\n",
      "Epoch 138 | Loss: 0.9934 | ROC-AUC: 0.9830 | PR-AUC: 0.1838\n",
      "Epoch 139 | Loss: 0.9928 | ROC-AUC: 0.9830 | PR-AUC: 0.1837\n",
      "Epoch 140 | Loss: 0.9921 | ROC-AUC: 0.9830 | PR-AUC: 0.1837\n",
      "Epoch 141 | Loss: 0.9915 | ROC-AUC: 0.9830 | PR-AUC: 0.1837\n",
      "Epoch 142 | Loss: 0.9908 | ROC-AUC: 0.9831 | PR-AUC: 0.1837\n",
      "Epoch 143 | Loss: 0.9902 | ROC-AUC: 0.9831 | PR-AUC: 0.1837\n",
      "Epoch 144 | Loss: 0.9896 | ROC-AUC: 0.9832 | PR-AUC: 0.1837\n",
      "Epoch 145 | Loss: 0.9890 | ROC-AUC: 0.9833 | PR-AUC: 0.1837\n",
      "Epoch 146 | Loss: 0.9884 | ROC-AUC: 0.9833 | PR-AUC: 0.1837\n",
      "Epoch 147 | Loss: 0.9878 | ROC-AUC: 0.9834 | PR-AUC: 0.1837\n",
      "Epoch 148 | Loss: 0.9872 | ROC-AUC: 0.9834 | PR-AUC: 0.1837\n",
      "Epoch 149 | Loss: 0.9866 | ROC-AUC: 0.9835 | PR-AUC: 0.1836\n",
      "Epoch 150 | Loss: 0.9860 | ROC-AUC: 0.9836 | PR-AUC: 0.1836\n",
      "Epoch 151 | Loss: 0.9854 | ROC-AUC: 0.9836 | PR-AUC: 0.1836\n",
      "Epoch 152 | Loss: 0.9849 | ROC-AUC: 0.9835 | PR-AUC: 0.1836\n",
      "Epoch 153 | Loss: 0.9844 | ROC-AUC: 0.9836 | PR-AUC: 0.1837\n",
      "Epoch 154 | Loss: 0.9839 | ROC-AUC: 0.9836 | PR-AUC: 0.1837\n",
      "Epoch 155 | Loss: 0.9833 | ROC-AUC: 0.9837 | PR-AUC: 0.1838\n",
      "Epoch 156 | Loss: 0.9828 | ROC-AUC: 0.9838 | PR-AUC: 0.1839\n",
      "Epoch 157 | Loss: 0.9823 | ROC-AUC: 0.9838 | PR-AUC: 0.1840\n",
      "Epoch 158 | Loss: 0.9818 | ROC-AUC: 0.9839 | PR-AUC: 0.1841\n",
      "Epoch 159 | Loss: 0.9813 | ROC-AUC: 0.9840 | PR-AUC: 0.1842\n",
      "Epoch 160 | Loss: 0.9808 | ROC-AUC: 0.9840 | PR-AUC: 0.1842\n",
      "Epoch 161 | Loss: 0.9803 | ROC-AUC: 0.9841 | PR-AUC: 0.1843\n",
      "Epoch 162 | Loss: 0.9798 | ROC-AUC: 0.9841 | PR-AUC: 0.1844\n",
      "Epoch 163 | Loss: 0.9793 | ROC-AUC: 0.9841 | PR-AUC: 0.1844\n",
      "Epoch 164 | Loss: 0.9788 | ROC-AUC: 0.9842 | PR-AUC: 0.1844\n",
      "Epoch 165 | Loss: 0.9783 | ROC-AUC: 0.9842 | PR-AUC: 0.1844\n",
      "Epoch 166 | Loss: 0.9777 | ROC-AUC: 0.9842 | PR-AUC: 0.1844\n",
      "Epoch 167 | Loss: 0.9773 | ROC-AUC: 0.9842 | PR-AUC: 0.1844\n",
      "Epoch 168 | Loss: 0.9768 | ROC-AUC: 0.9842 | PR-AUC: 0.1844\n",
      "Epoch 169 | Loss: 0.9763 | ROC-AUC: 0.9843 | PR-AUC: 0.1845\n",
      "Epoch 170 | Loss: 0.9758 | ROC-AUC: 0.9843 | PR-AUC: 0.1845\n",
      "Epoch 171 | Loss: 0.9754 | ROC-AUC: 0.9844 | PR-AUC: 0.1846\n",
      "Epoch 172 | Loss: 0.9749 | ROC-AUC: 0.9844 | PR-AUC: 0.1846\n",
      "Epoch 173 | Loss: 0.9745 | ROC-AUC: 0.9844 | PR-AUC: 0.1847\n",
      "Epoch 174 | Loss: 0.9740 | ROC-AUC: 0.9844 | PR-AUC: 0.1848\n",
      "Epoch 175 | Loss: 0.9736 | ROC-AUC: 0.9845 | PR-AUC: 0.1849\n",
      "Epoch 176 | Loss: 0.9732 | ROC-AUC: 0.9845 | PR-AUC: 0.1850\n",
      "Epoch 177 | Loss: 0.9727 | ROC-AUC: 0.9846 | PR-AUC: 0.1851\n",
      "Epoch 178 | Loss: 0.9723 | ROC-AUC: 0.9846 | PR-AUC: 0.1852\n",
      "Epoch 179 | Loss: 0.9719 | ROC-AUC: 0.9847 | PR-AUC: 0.1853\n",
      "Epoch 180 | Loss: 0.9714 | ROC-AUC: 0.9847 | PR-AUC: 0.1853\n",
      "Epoch 181 | Loss: 0.9710 | ROC-AUC: 0.9847 | PR-AUC: 0.1854\n",
      "Epoch 182 | Loss: 0.9706 | ROC-AUC: 0.9848 | PR-AUC: 0.1855\n",
      "Epoch 183 | Loss: 0.9702 | ROC-AUC: 0.9848 | PR-AUC: 0.1856\n",
      "Epoch 184 | Loss: 0.9698 | ROC-AUC: 0.9848 | PR-AUC: 0.1856\n",
      "Epoch 185 | Loss: 0.9694 | ROC-AUC: 0.9848 | PR-AUC: 0.1857\n",
      "Epoch 186 | Loss: 0.9690 | ROC-AUC: 0.9848 | PR-AUC: 0.1857\n",
      "Epoch 187 | Loss: 0.9686 | ROC-AUC: 0.9848 | PR-AUC: 0.1857\n",
      "Epoch 188 | Loss: 0.9682 | ROC-AUC: 0.9848 | PR-AUC: 0.1857\n",
      "Epoch 189 | Loss: 0.9678 | ROC-AUC: 0.9848 | PR-AUC: 0.1858\n",
      "Epoch 190 | Loss: 0.9674 | ROC-AUC: 0.9848 | PR-AUC: 0.1859\n",
      "Epoch 191 | Loss: 0.9670 | ROC-AUC: 0.9849 | PR-AUC: 0.1860\n",
      "Epoch 192 | Loss: 0.9666 | ROC-AUC: 0.9850 | PR-AUC: 0.1861\n",
      "Epoch 193 | Loss: 0.9662 | ROC-AUC: 0.9850 | PR-AUC: 0.1862\n",
      "Epoch 194 | Loss: 0.9658 | ROC-AUC: 0.9850 | PR-AUC: 0.1862\n",
      "Epoch 195 | Loss: 0.9654 | ROC-AUC: 0.9851 | PR-AUC: 0.1862\n",
      "Epoch 196 | Loss: 0.9649 | ROC-AUC: 0.9851 | PR-AUC: 0.1862\n",
      "Epoch 197 | Loss: 0.9645 | ROC-AUC: 0.9851 | PR-AUC: 0.1862\n",
      "Epoch 198 | Loss: 0.9641 | ROC-AUC: 0.9851 | PR-AUC: 0.1861\n",
      "Epoch 199 | Loss: 0.9637 | ROC-AUC: 0.9851 | PR-AUC: 0.1860\n",
      "Epoch 200 | Loss: 0.9632 | ROC-AUC: 0.9851 | PR-AUC: 0.1859\n"
     ]
    }
   ],
   "source": [
    "epochs = 200\n",
    "for epoch in range(epochs):\n",
    "    model.train()\n",
    "    optimizer.zero_grad()\n",
    "    \n",
    "    A_pred, Z = model(X, norm_adj)\n",
    "    pred_edges = A_pred[triu_indices[0], triu_indices[1]]\n",
    "    loss = loss_fn(pred_edges, true_edges)\n",
    "\n",
    "    \n",
    "    # loss = criterion(pred_edges, true_edges)\n",
    "    loss.backward()\n",
    "    optimizer.step()\n",
    "    \n",
    "    # Evaluation metrics\n",
    "    with torch.no_grad():\n",
    "        pred_np = pred_edges.detach().cpu().numpy()\n",
    "        true_np = true_edges.cpu().numpy()\n",
    "        roc = roc_auc_score(true_np, pred_np)\n",
    "        pr = average_precision_score(true_np, pred_np)\n",
    "\n",
    "    print(f\"Epoch {epoch+1:03d} | Loss: {loss.item():.4f} | ROC-AUC: {roc:.4f} | PR-AUC: {pr:.4f}\")\n",
    "\n"
   ]
  },
  {
   "cell_type": "code",
   "execution_count": null,
   "id": "e1867156-aafb-4675-b535-ab06d631479f",
   "metadata": {},
   "outputs": [],
   "source": []
  },
  {
   "cell_type": "code",
   "execution_count": null,
   "id": "3477e32c-6fbe-4846-b753-f5cf470b34d6",
   "metadata": {},
   "outputs": [],
   "source": [
    "Learnig=ng rate adj"
   ]
  },
  {
   "cell_type": "code",
   "execution_count": null,
   "id": "bbcf2935-733a-440f-88c2-4f8cf42dd115",
   "metadata": {},
   "outputs": [],
   "source": [
    "class GAE(nn.Module):\n",
    "    def __init__(self, in_dim, hidden_dim):\n",
    "        super(GAE, self).__init__()\n",
    "        self.W = nn.Parameter(torch.empty(in_dim, hidden_dim))\n",
    "        nn.init.xavier_uniform_(self.W)\n",
    "\n",
    "    def encode(self, X, norm_adj):\n",
    "        return F.leaky_relu(norm_adj @ X @ self.W, negative_slope=0.01)\n",
    "\n",
    "\n",
    "    def decode(self, Z):\n",
    "        return Z @ Z.T  # Inner-product decoder\n",
    "  \n",
    "        \n",
    "\n",
    "    def forward(self, X, norm_adj):\n",
    "        Z = self.encode(X, norm_adj)\n",
    "        A_pred = self.decode(Z)\n",
    "        return A_pred, Z"
   ]
  },
  {
   "cell_type": "code",
   "execution_count": null,
   "id": "3b8b0486-1e1b-4b27-887b-56dd384d55b8",
   "metadata": {},
   "outputs": [],
   "source": [
    "model = GAE(in_dim=2048, hidden_dim=128).to(device)\n",
    "optimizer = torch.optim.Adam(model.parameters(), lr=0.01)\n",
    "pos_weight = (A_label.numel() - A_label.sum()) / A_label.sum()\n",
    "loss_fn = nn.BCEWithLogitsLoss(pos_weight=pos_weight)"
   ]
  },
  {
   "cell_type": "code",
   "execution_count": 88,
   "id": "8e995623-0ffe-45e6-a7b3-d2fc761723d1",
   "metadata": {},
   "outputs": [],
   "source": [
    "triu_indices = torch.triu_indices(X.shape[0], X.shape[0], offset=1)\n",
    "true_edges = A_label[triu_indices[0], triu_indices[1]]"
   ]
  },
  {
   "cell_type": "code",
   "execution_count": 89,
   "id": "0dac2aea-27b9-4d60-9e50-bd6d022d02be",
   "metadata": {},
   "outputs": [
    {
     "name": "stdout",
     "output_type": "stream",
     "text": [
      "Epoch 001 | Loss: 0.9628 | ROC-AUC: 0.9851 | PR-AUC: 0.1859\n",
      "Epoch 002 | Loss: 0.9624 | ROC-AUC: 0.9851 | PR-AUC: 0.1859\n",
      "Epoch 003 | Loss: 0.9620 | ROC-AUC: 0.9851 | PR-AUC: 0.1860\n",
      "Epoch 004 | Loss: 0.9616 | ROC-AUC: 0.9852 | PR-AUC: 0.1861\n",
      "Epoch 005 | Loss: 0.9612 | ROC-AUC: 0.9852 | PR-AUC: 0.1861\n",
      "Epoch 006 | Loss: 0.9608 | ROC-AUC: 0.9853 | PR-AUC: 0.1861\n",
      "Epoch 007 | Loss: 0.9604 | ROC-AUC: 0.9853 | PR-AUC: 0.1861\n",
      "Epoch 008 | Loss: 0.9600 | ROC-AUC: 0.9853 | PR-AUC: 0.1861\n",
      "Epoch 009 | Loss: 0.9596 | ROC-AUC: 0.9853 | PR-AUC: 0.1861\n",
      "Epoch 010 | Loss: 0.9592 | ROC-AUC: 0.9853 | PR-AUC: 0.1861\n",
      "Epoch 011 | Loss: 0.9588 | ROC-AUC: 0.9854 | PR-AUC: 0.1860\n",
      "Epoch 012 | Loss: 0.9584 | ROC-AUC: 0.9854 | PR-AUC: 0.1860\n",
      "Epoch 013 | Loss: 0.9581 | ROC-AUC: 0.9854 | PR-AUC: 0.1860\n",
      "Epoch 014 | Loss: 0.9577 | ROC-AUC: 0.9854 | PR-AUC: 0.1861\n",
      "Epoch 015 | Loss: 0.9574 | ROC-AUC: 0.9854 | PR-AUC: 0.1861\n",
      "Epoch 016 | Loss: 0.9570 | ROC-AUC: 0.9854 | PR-AUC: 0.1860\n",
      "Epoch 017 | Loss: 0.9567 | ROC-AUC: 0.9855 | PR-AUC: 0.1861\n",
      "Epoch 018 | Loss: 0.9564 | ROC-AUC: 0.9855 | PR-AUC: 0.1861\n",
      "Epoch 019 | Loss: 0.9560 | ROC-AUC: 0.9856 | PR-AUC: 0.1862\n",
      "Epoch 020 | Loss: 0.9557 | ROC-AUC: 0.9855 | PR-AUC: 0.1862\n",
      "Epoch 021 | Loss: 0.9554 | ROC-AUC: 0.9855 | PR-AUC: 0.1862\n",
      "Epoch 022 | Loss: 0.9551 | ROC-AUC: 0.9854 | PR-AUC: 0.1863\n",
      "Epoch 023 | Loss: 0.9547 | ROC-AUC: 0.9855 | PR-AUC: 0.1864\n",
      "Epoch 024 | Loss: 0.9544 | ROC-AUC: 0.9856 | PR-AUC: 0.1865\n",
      "Epoch 025 | Loss: 0.9541 | ROC-AUC: 0.9856 | PR-AUC: 0.1866\n",
      "Epoch 026 | Loss: 0.9538 | ROC-AUC: 0.9856 | PR-AUC: 0.1866\n",
      "Epoch 027 | Loss: 0.9534 | ROC-AUC: 0.9856 | PR-AUC: 0.1867\n",
      "Epoch 028 | Loss: 0.9531 | ROC-AUC: 0.9857 | PR-AUC: 0.1867\n",
      "Epoch 029 | Loss: 0.9528 | ROC-AUC: 0.9857 | PR-AUC: 0.1867\n",
      "Epoch 030 | Loss: 0.9525 | ROC-AUC: 0.9857 | PR-AUC: 0.1868\n",
      "Epoch 031 | Loss: 0.9522 | ROC-AUC: 0.9858 | PR-AUC: 0.1868\n",
      "Epoch 032 | Loss: 0.9519 | ROC-AUC: 0.9858 | PR-AUC: 0.1869\n",
      "Epoch 033 | Loss: 0.9516 | ROC-AUC: 0.9858 | PR-AUC: 0.1869\n",
      "Epoch 034 | Loss: 0.9513 | ROC-AUC: 0.9858 | PR-AUC: 0.1869\n",
      "Epoch 035 | Loss: 0.9509 | ROC-AUC: 0.9858 | PR-AUC: 0.1870\n",
      "Epoch 036 | Loss: 0.9506 | ROC-AUC: 0.9858 | PR-AUC: 0.1870\n",
      "Epoch 037 | Loss: 0.9503 | ROC-AUC: 0.9858 | PR-AUC: 0.1871\n",
      "Epoch 038 | Loss: 0.9500 | ROC-AUC: 0.9859 | PR-AUC: 0.1872\n",
      "Epoch 039 | Loss: 0.9497 | ROC-AUC: 0.9859 | PR-AUC: 0.1873\n",
      "Epoch 040 | Loss: 0.9494 | ROC-AUC: 0.9859 | PR-AUC: 0.1872\n",
      "Epoch 041 | Loss: 0.9491 | ROC-AUC: 0.9859 | PR-AUC: 0.1873\n",
      "Epoch 042 | Loss: 0.9488 | ROC-AUC: 0.9859 | PR-AUC: 0.1873\n",
      "Epoch 043 | Loss: 0.9485 | ROC-AUC: 0.9860 | PR-AUC: 0.1873\n",
      "Epoch 044 | Loss: 0.9482 | ROC-AUC: 0.9860 | PR-AUC: 0.1873\n",
      "Epoch 045 | Loss: 0.9479 | ROC-AUC: 0.9859 | PR-AUC: 0.1873\n",
      "Epoch 046 | Loss: 0.9476 | ROC-AUC: 0.9860 | PR-AUC: 0.1874\n",
      "Epoch 047 | Loss: 0.9473 | ROC-AUC: 0.9861 | PR-AUC: 0.1875\n",
      "Epoch 048 | Loss: 0.9471 | ROC-AUC: 0.9861 | PR-AUC: 0.1875\n",
      "Epoch 049 | Loss: 0.9468 | ROC-AUC: 0.9860 | PR-AUC: 0.1875\n",
      "Epoch 050 | Loss: 0.9465 | ROC-AUC: 0.9861 | PR-AUC: 0.1875\n",
      "Epoch 051 | Loss: 0.9462 | ROC-AUC: 0.9861 | PR-AUC: 0.1876\n",
      "Epoch 052 | Loss: 0.9460 | ROC-AUC: 0.9861 | PR-AUC: 0.1877\n",
      "Epoch 053 | Loss: 0.9457 | ROC-AUC: 0.9862 | PR-AUC: 0.1877\n",
      "Epoch 054 | Loss: 0.9454 | ROC-AUC: 0.9862 | PR-AUC: 0.1877\n",
      "Epoch 055 | Loss: 0.9452 | ROC-AUC: 0.9862 | PR-AUC: 0.1878\n",
      "Epoch 056 | Loss: 0.9449 | ROC-AUC: 0.9862 | PR-AUC: 0.1878\n",
      "Epoch 057 | Loss: 0.9447 | ROC-AUC: 0.9862 | PR-AUC: 0.1879\n",
      "Epoch 058 | Loss: 0.9444 | ROC-AUC: 0.9862 | PR-AUC: 0.1880\n",
      "Epoch 059 | Loss: 0.9441 | ROC-AUC: 0.9862 | PR-AUC: 0.1881\n",
      "Epoch 060 | Loss: 0.9439 | ROC-AUC: 0.9862 | PR-AUC: 0.1881\n",
      "Epoch 061 | Loss: 0.9436 | ROC-AUC: 0.9862 | PR-AUC: 0.1882\n",
      "Epoch 062 | Loss: 0.9433 | ROC-AUC: 0.9862 | PR-AUC: 0.1883\n",
      "Epoch 063 | Loss: 0.9430 | ROC-AUC: 0.9863 | PR-AUC: 0.1884\n",
      "Epoch 064 | Loss: 0.9428 | ROC-AUC: 0.9863 | PR-AUC: 0.1885\n",
      "Epoch 065 | Loss: 0.9425 | ROC-AUC: 0.9863 | PR-AUC: 0.1885\n",
      "Epoch 066 | Loss: 0.9423 | ROC-AUC: 0.9863 | PR-AUC: 0.1886\n",
      "Epoch 067 | Loss: 0.9420 | ROC-AUC: 0.9864 | PR-AUC: 0.1888\n",
      "Epoch 068 | Loss: 0.9417 | ROC-AUC: 0.9864 | PR-AUC: 0.1889\n",
      "Epoch 069 | Loss: 0.9415 | ROC-AUC: 0.9864 | PR-AUC: 0.1889\n",
      "Epoch 070 | Loss: 0.9412 | ROC-AUC: 0.9864 | PR-AUC: 0.1889\n",
      "Epoch 071 | Loss: 0.9410 | ROC-AUC: 0.9864 | PR-AUC: 0.1890\n",
      "Epoch 072 | Loss: 0.9408 | ROC-AUC: 0.9864 | PR-AUC: 0.1891\n",
      "Epoch 073 | Loss: 0.9405 | ROC-AUC: 0.9864 | PR-AUC: 0.1891\n",
      "Epoch 074 | Loss: 0.9403 | ROC-AUC: 0.9864 | PR-AUC: 0.1892\n",
      "Epoch 075 | Loss: 0.9401 | ROC-AUC: 0.9865 | PR-AUC: 0.1893\n",
      "Epoch 076 | Loss: 0.9398 | ROC-AUC: 0.9864 | PR-AUC: 0.1893\n",
      "Epoch 077 | Loss: 0.9396 | ROC-AUC: 0.9864 | PR-AUC: 0.1893\n",
      "Epoch 078 | Loss: 0.9394 | ROC-AUC: 0.9864 | PR-AUC: 0.1894\n",
      "Epoch 079 | Loss: 0.9392 | ROC-AUC: 0.9865 | PR-AUC: 0.1895\n",
      "Epoch 080 | Loss: 0.9389 | ROC-AUC: 0.9866 | PR-AUC: 0.1895\n",
      "Epoch 081 | Loss: 0.9387 | ROC-AUC: 0.9866 | PR-AUC: 0.1895\n",
      "Epoch 082 | Loss: 0.9385 | ROC-AUC: 0.9865 | PR-AUC: 0.1895\n",
      "Epoch 083 | Loss: 0.9383 | ROC-AUC: 0.9865 | PR-AUC: 0.1896\n",
      "Epoch 084 | Loss: 0.9381 | ROC-AUC: 0.9865 | PR-AUC: 0.1898\n",
      "Epoch 085 | Loss: 0.9379 | ROC-AUC: 0.9866 | PR-AUC: 0.1900\n",
      "Epoch 086 | Loss: 0.9377 | ROC-AUC: 0.9865 | PR-AUC: 0.1900\n",
      "Epoch 087 | Loss: 0.9375 | ROC-AUC: 0.9866 | PR-AUC: 0.1902\n",
      "Epoch 088 | Loss: 0.9373 | ROC-AUC: 0.9867 | PR-AUC: 0.1903\n",
      "Epoch 089 | Loss: 0.9371 | ROC-AUC: 0.9867 | PR-AUC: 0.1904\n",
      "Epoch 090 | Loss: 0.9368 | ROC-AUC: 0.9867 | PR-AUC: 0.1904\n",
      "Epoch 091 | Loss: 0.9366 | ROC-AUC: 0.9866 | PR-AUC: 0.1904\n",
      "Epoch 092 | Loss: 0.9364 | ROC-AUC: 0.9867 | PR-AUC: 0.1905\n",
      "Epoch 093 | Loss: 0.9362 | ROC-AUC: 0.9867 | PR-AUC: 0.1905\n",
      "Epoch 094 | Loss: 0.9360 | ROC-AUC: 0.9867 | PR-AUC: 0.1905\n",
      "Epoch 095 | Loss: 0.9358 | ROC-AUC: 0.9867 | PR-AUC: 0.1906\n",
      "Epoch 096 | Loss: 0.9356 | ROC-AUC: 0.9868 | PR-AUC: 0.1907\n",
      "Epoch 097 | Loss: 0.9353 | ROC-AUC: 0.9866 | PR-AUC: 0.1907\n",
      "Epoch 098 | Loss: 0.9351 | ROC-AUC: 0.9867 | PR-AUC: 0.1907\n",
      "Epoch 099 | Loss: 0.9349 | ROC-AUC: 0.9867 | PR-AUC: 0.1908\n",
      "Epoch 100 | Loss: 0.9347 | ROC-AUC: 0.9867 | PR-AUC: 0.1910\n",
      "Epoch 101 | Loss: 0.9345 | ROC-AUC: 0.9867 | PR-AUC: 0.1911\n",
      "Epoch 102 | Loss: 0.9342 | ROC-AUC: 0.9867 | PR-AUC: 0.1911\n",
      "Epoch 103 | Loss: 0.9340 | ROC-AUC: 0.9867 | PR-AUC: 0.1911\n",
      "Epoch 104 | Loss: 0.9338 | ROC-AUC: 0.9868 | PR-AUC: 0.1912\n",
      "Epoch 105 | Loss: 0.9336 | ROC-AUC: 0.9867 | PR-AUC: 0.1913\n",
      "Epoch 106 | Loss: 0.9334 | ROC-AUC: 0.9868 | PR-AUC: 0.1914\n",
      "Epoch 107 | Loss: 0.9332 | ROC-AUC: 0.9869 | PR-AUC: 0.1915\n",
      "Epoch 108 | Loss: 0.9330 | ROC-AUC: 0.9869 | PR-AUC: 0.1915\n",
      "Epoch 109 | Loss: 0.9328 | ROC-AUC: 0.9868 | PR-AUC: 0.1916\n",
      "Epoch 110 | Loss: 0.9326 | ROC-AUC: 0.9868 | PR-AUC: 0.1917\n",
      "Epoch 111 | Loss: 0.9324 | ROC-AUC: 0.9868 | PR-AUC: 0.1918\n",
      "Epoch 112 | Loss: 0.9322 | ROC-AUC: 0.9868 | PR-AUC: 0.1919\n",
      "Epoch 113 | Loss: 0.9320 | ROC-AUC: 0.9869 | PR-AUC: 0.1920\n",
      "Epoch 114 | Loss: 0.9318 | ROC-AUC: 0.9869 | PR-AUC: 0.1921\n",
      "Epoch 115 | Loss: 0.9317 | ROC-AUC: 0.9868 | PR-AUC: 0.1922\n",
      "Epoch 116 | Loss: 0.9315 | ROC-AUC: 0.9868 | PR-AUC: 0.1923\n",
      "Epoch 117 | Loss: 0.9313 | ROC-AUC: 0.9869 | PR-AUC: 0.1925\n",
      "Epoch 118 | Loss: 0.9311 | ROC-AUC: 0.9870 | PR-AUC: 0.1927\n",
      "Epoch 119 | Loss: 0.9309 | ROC-AUC: 0.9870 | PR-AUC: 0.1929\n",
      "Epoch 120 | Loss: 0.9308 | ROC-AUC: 0.9869 | PR-AUC: 0.1929\n",
      "Epoch 121 | Loss: 0.9306 | ROC-AUC: 0.9870 | PR-AUC: 0.1931\n",
      "Epoch 122 | Loss: 0.9304 | ROC-AUC: 0.9871 | PR-AUC: 0.1932\n",
      "Epoch 123 | Loss: 0.9302 | ROC-AUC: 0.9870 | PR-AUC: 0.1933\n",
      "Epoch 124 | Loss: 0.9301 | ROC-AUC: 0.9871 | PR-AUC: 0.1934\n",
      "Epoch 125 | Loss: 0.9299 | ROC-AUC: 0.9870 | PR-AUC: 0.1934\n",
      "Epoch 126 | Loss: 0.9297 | ROC-AUC: 0.9870 | PR-AUC: 0.1935\n",
      "Epoch 127 | Loss: 0.9296 | ROC-AUC: 0.9871 | PR-AUC: 0.1937\n",
      "Epoch 128 | Loss: 0.9294 | ROC-AUC: 0.9871 | PR-AUC: 0.1939\n",
      "Epoch 129 | Loss: 0.9292 | ROC-AUC: 0.9871 | PR-AUC: 0.1939\n",
      "Epoch 130 | Loss: 0.9291 | ROC-AUC: 0.9870 | PR-AUC: 0.1939\n",
      "Epoch 131 | Loss: 0.9289 | ROC-AUC: 0.9870 | PR-AUC: 0.1941\n",
      "Epoch 132 | Loss: 0.9287 | ROC-AUC: 0.9871 | PR-AUC: 0.1943\n",
      "Epoch 133 | Loss: 0.9285 | ROC-AUC: 0.9871 | PR-AUC: 0.1943\n",
      "Epoch 134 | Loss: 0.9284 | ROC-AUC: 0.9871 | PR-AUC: 0.1942\n",
      "Epoch 135 | Loss: 0.9282 | ROC-AUC: 0.9871 | PR-AUC: 0.1943\n",
      "Epoch 136 | Loss: 0.9280 | ROC-AUC: 0.9872 | PR-AUC: 0.1946\n",
      "Epoch 137 | Loss: 0.9278 | ROC-AUC: 0.9873 | PR-AUC: 0.1947\n",
      "Epoch 138 | Loss: 0.9276 | ROC-AUC: 0.9872 | PR-AUC: 0.1946\n",
      "Epoch 139 | Loss: 0.9274 | ROC-AUC: 0.9872 | PR-AUC: 0.1947\n",
      "Epoch 140 | Loss: 0.9273 | ROC-AUC: 0.9872 | PR-AUC: 0.1948\n",
      "Epoch 141 | Loss: 0.9271 | ROC-AUC: 0.9872 | PR-AUC: 0.1949\n",
      "Epoch 142 | Loss: 0.9269 | ROC-AUC: 0.9873 | PR-AUC: 0.1949\n",
      "Epoch 143 | Loss: 0.9267 | ROC-AUC: 0.9872 | PR-AUC: 0.1949\n",
      "Epoch 144 | Loss: 0.9266 | ROC-AUC: 0.9873 | PR-AUC: 0.1950\n",
      "Epoch 145 | Loss: 0.9264 | ROC-AUC: 0.9873 | PR-AUC: 0.1951\n",
      "Epoch 146 | Loss: 0.9263 | ROC-AUC: 0.9873 | PR-AUC: 0.1952\n",
      "Epoch 147 | Loss: 0.9261 | ROC-AUC: 0.9873 | PR-AUC: 0.1952\n",
      "Epoch 148 | Loss: 0.9259 | ROC-AUC: 0.9873 | PR-AUC: 0.1953\n",
      "Epoch 149 | Loss: 0.9258 | ROC-AUC: 0.9872 | PR-AUC: 0.1954\n",
      "Epoch 150 | Loss: 0.9256 | ROC-AUC: 0.9873 | PR-AUC: 0.1955\n",
      "Epoch 151 | Loss: 0.9254 | ROC-AUC: 0.9874 | PR-AUC: 0.1957\n",
      "Epoch 152 | Loss: 0.9253 | ROC-AUC: 0.9874 | PR-AUC: 0.1958\n",
      "Epoch 153 | Loss: 0.9251 | ROC-AUC: 0.9874 | PR-AUC: 0.1959\n",
      "Epoch 154 | Loss: 0.9250 | ROC-AUC: 0.9874 | PR-AUC: 0.1960\n",
      "Epoch 155 | Loss: 0.9248 | ROC-AUC: 0.9873 | PR-AUC: 0.1960\n",
      "Epoch 156 | Loss: 0.9246 | ROC-AUC: 0.9874 | PR-AUC: 0.1962\n",
      "Epoch 157 | Loss: 0.9245 | ROC-AUC: 0.9874 | PR-AUC: 0.1963\n",
      "Epoch 158 | Loss: 0.9243 | ROC-AUC: 0.9875 | PR-AUC: 0.1964\n",
      "Epoch 159 | Loss: 0.9241 | ROC-AUC: 0.9874 | PR-AUC: 0.1964\n",
      "Epoch 160 | Loss: 0.9240 | ROC-AUC: 0.9876 | PR-AUC: 0.1966\n",
      "Epoch 161 | Loss: 0.9238 | ROC-AUC: 0.9876 | PR-AUC: 0.1967\n",
      "Epoch 162 | Loss: 0.9236 | ROC-AUC: 0.9876 | PR-AUC: 0.1967\n",
      "Epoch 163 | Loss: 0.9234 | ROC-AUC: 0.9876 | PR-AUC: 0.1967\n",
      "Epoch 164 | Loss: 0.9233 | ROC-AUC: 0.9875 | PR-AUC: 0.1967\n",
      "Epoch 165 | Loss: 0.9231 | ROC-AUC: 0.9876 | PR-AUC: 0.1968\n",
      "Epoch 166 | Loss: 0.9229 | ROC-AUC: 0.9877 | PR-AUC: 0.1968\n",
      "Epoch 167 | Loss: 0.9228 | ROC-AUC: 0.9877 | PR-AUC: 0.1968\n",
      "Epoch 168 | Loss: 0.9226 | ROC-AUC: 0.9877 | PR-AUC: 0.1969\n",
      "Epoch 169 | Loss: 0.9224 | ROC-AUC: 0.9877 | PR-AUC: 0.1970\n",
      "Epoch 170 | Loss: 0.9222 | ROC-AUC: 0.9877 | PR-AUC: 0.1970\n",
      "Epoch 171 | Loss: 0.9221 | ROC-AUC: 0.9877 | PR-AUC: 0.1972\n",
      "Epoch 172 | Loss: 0.9219 | ROC-AUC: 0.9877 | PR-AUC: 0.1972\n",
      "Epoch 173 | Loss: 0.9217 | ROC-AUC: 0.9877 | PR-AUC: 0.1973\n",
      "Epoch 174 | Loss: 0.9216 | ROC-AUC: 0.9877 | PR-AUC: 0.1973\n",
      "Epoch 175 | Loss: 0.9214 | ROC-AUC: 0.9877 | PR-AUC: 0.1973\n",
      "Epoch 176 | Loss: 0.9212 | ROC-AUC: 0.9878 | PR-AUC: 0.1974\n",
      "Epoch 177 | Loss: 0.9210 | ROC-AUC: 0.9878 | PR-AUC: 0.1974\n",
      "Epoch 178 | Loss: 0.9208 | ROC-AUC: 0.9878 | PR-AUC: 0.1974\n",
      "Epoch 179 | Loss: 0.9207 | ROC-AUC: 0.9878 | PR-AUC: 0.1974\n",
      "Epoch 180 | Loss: 0.9205 | ROC-AUC: 0.9879 | PR-AUC: 0.1975\n",
      "Epoch 181 | Loss: 0.9203 | ROC-AUC: 0.9879 | PR-AUC: 0.1975\n",
      "Epoch 182 | Loss: 0.9202 | ROC-AUC: 0.9879 | PR-AUC: 0.1975\n",
      "Epoch 183 | Loss: 0.9200 | ROC-AUC: 0.9879 | PR-AUC: 0.1975\n",
      "Epoch 184 | Loss: 0.9198 | ROC-AUC: 0.9879 | PR-AUC: 0.1977\n",
      "Epoch 185 | Loss: 0.9197 | ROC-AUC: 0.9879 | PR-AUC: 0.1977\n",
      "Epoch 186 | Loss: 0.9195 | ROC-AUC: 0.9879 | PR-AUC: 0.1978\n",
      "Epoch 187 | Loss: 0.9193 | ROC-AUC: 0.9879 | PR-AUC: 0.1979\n",
      "Epoch 188 | Loss: 0.9192 | ROC-AUC: 0.9879 | PR-AUC: 0.1979\n",
      "Epoch 189 | Loss: 0.9190 | ROC-AUC: 0.9880 | PR-AUC: 0.1979\n",
      "Epoch 190 | Loss: 0.9189 | ROC-AUC: 0.9879 | PR-AUC: 0.1979\n",
      "Epoch 191 | Loss: 0.9187 | ROC-AUC: 0.9879 | PR-AUC: 0.1980\n",
      "Epoch 192 | Loss: 0.9186 | ROC-AUC: 0.9880 | PR-AUC: 0.1981\n",
      "Epoch 193 | Loss: 0.9184 | ROC-AUC: 0.9879 | PR-AUC: 0.1981\n",
      "Epoch 194 | Loss: 0.9183 | ROC-AUC: 0.9880 | PR-AUC: 0.1981\n",
      "Epoch 195 | Loss: 0.9181 | ROC-AUC: 0.9879 | PR-AUC: 0.1981\n",
      "Epoch 196 | Loss: 0.9180 | ROC-AUC: 0.9880 | PR-AUC: 0.1983\n",
      "Epoch 197 | Loss: 0.9178 | ROC-AUC: 0.9880 | PR-AUC: 0.1985\n",
      "Epoch 198 | Loss: 0.9177 | ROC-AUC: 0.9881 | PR-AUC: 0.1987\n",
      "Epoch 199 | Loss: 0.9175 | ROC-AUC: 0.9881 | PR-AUC: 0.1986\n",
      "Epoch 200 | Loss: 0.9174 | ROC-AUC: 0.9881 | PR-AUC: 0.1987\n"
     ]
    }
   ],
   "source": [
    "epochs = 200\n",
    "for epoch in range(epochs):\n",
    "    model.train()\n",
    "    optimizer.zero_grad()\n",
    "    \n",
    "    A_pred, Z = model(X, norm_adj)\n",
    "    pred_edges = A_pred[triu_indices[0], triu_indices[1]]\n",
    "    loss = loss_fn(pred_edges, true_edges)\n",
    "\n",
    "    \n",
    "    # loss = criterion(pred_edges, true_edges)\n",
    "    loss.backward()\n",
    "    optimizer.step()\n",
    "    \n",
    "    # Evaluation metrics\n",
    "    with torch.no_grad():\n",
    "        pred_np = pred_edges.detach().cpu().numpy()\n",
    "        true_np = true_edges.cpu().numpy()\n",
    "        roc = roc_auc_score(true_np, pred_np)\n",
    "        pr = average_precision_score(true_np, pred_np)\n",
    "\n",
    "    print(f\"Epoch {epoch+1:03d} | Loss: {loss.item():.4f} | ROC-AUC: {roc:.4f} | PR-AUC: {pr:.4f}\")\n",
    "\n"
   ]
  },
  {
   "cell_type": "code",
   "execution_count": null,
   "id": "c18f2306-483f-4d38-b24e-d50fbb1f1f6d",
   "metadata": {},
   "outputs": [],
   "source": []
  },
  {
   "cell_type": "markdown",
   "id": "7e6573b5-22a8-4f21-998d-87cd5b11fa0d",
   "metadata": {},
   "source": [
    "# implementing deep GAE"
   ]
  },
  {
   "cell_type": "code",
   "execution_count": 90,
   "id": "ff61c9a4-ddff-4621-a7c2-9165e413dc9e",
   "metadata": {},
   "outputs": [],
   "source": [
    "import torch\n",
    "import torch.nn as nn\n",
    "import torch.nn.functional as F\n",
    "\n",
    "class GAE(nn.Module):\n",
    "    def __init__(self, in_dim, hidden_dim1, hidden_dim2, dropout=0.3):\n",
    "        super(GAE, self).__init__()\n",
    "        self.W1 = nn.Parameter(torch.empty(in_dim, hidden_dim1))\n",
    "        self.W2 = nn.Parameter(torch.empty(hidden_dim1, hidden_dim2))\n",
    "        \n",
    "        nn.init.xavier_uniform_(self.W1)\n",
    "        nn.init.xavier_uniform_(self.W2)\n",
    "\n",
    "        self.dropout = nn.Dropout(dropout)\n",
    "\n",
    "    def encode(self, X, norm_adj):\n",
    "        h1 = F.leaky_relu(norm_adj @ X @ self.W1, negative_slope=0.01)\n",
    "        h1 = self.dropout(h1)\n",
    "        h2 = F.leaky_relu(norm_adj @ h1 @ self.W2, negative_slope=0.01)\n",
    "        return h2  # final node embedding Z\n",
    "\n",
    "    def decode(self, Z):\n",
    "        return Z @ Z.T  # Inner-product decoder\n",
    "\n",
    "    def forward(self, X, norm_adj):\n",
    "        Z = self.encode(X, norm_adj)\n",
    "        A_pred = self.decode(Z)\n",
    "        return A_pred, Z\n"
   ]
  },
  {
   "cell_type": "code",
   "execution_count": 92,
   "id": "af8fdcf2-5492-4f34-86b1-ca5ab5e5dbc6",
   "metadata": {},
   "outputs": [],
   "source": [
    "model = GAE(in_dim=2048, hidden_dim1=512, hidden_dim2=128, dropout=0.3).to(device)\n",
    "optimizer = torch.optim.Adam(model.parameters(), lr=0.01)\n",
    "pos_weight = (A_label.numel() - A_label.sum()) / A_label.sum()\n",
    "loss_fn = nn.BCEWithLogitsLoss(pos_weight=pos_weight)"
   ]
  },
  {
   "cell_type": "code",
   "execution_count": 93,
   "id": "2c284915-b140-4062-bac8-82a9c2bb10bc",
   "metadata": {},
   "outputs": [],
   "source": [
    "triu_indices = torch.triu_indices(X.shape[0], X.shape[0], offset=1)\n",
    "true_edges = A_label[triu_indices[0], triu_indices[1]]"
   ]
  },
  {
   "cell_type": "code",
   "execution_count": 94,
   "id": "6b36272d-86fc-4d10-b87c-d2e2643bd78c",
   "metadata": {},
   "outputs": [
    {
     "name": "stdout",
     "output_type": "stream",
     "text": [
      "Epoch 001 | Loss: 1.2613 | ROC-AUC: 0.7227 | PR-AUC: 0.0969\n",
      "Epoch 002 | Loss: 1.2701 | ROC-AUC: 0.9063 | PR-AUC: 0.1608\n",
      "Epoch 003 | Loss: 1.1121 | ROC-AUC: 0.9693 | PR-AUC: 0.1769\n",
      "Epoch 004 | Loss: 1.8424 | ROC-AUC: 0.9725 | PR-AUC: 0.2163\n",
      "Epoch 005 | Loss: 1.2862 | ROC-AUC: 0.8210 | PR-AUC: 0.0512\n",
      "Epoch 006 | Loss: 1.2912 | ROC-AUC: 0.9024 | PR-AUC: 0.1483\n",
      "Epoch 007 | Loss: 1.2052 | ROC-AUC: 0.9571 | PR-AUC: 0.1200\n",
      "Epoch 008 | Loss: 1.1555 | ROC-AUC: 0.9694 | PR-AUC: 0.1365\n",
      "Epoch 009 | Loss: 1.2478 | ROC-AUC: 0.9628 | PR-AUC: 0.1970\n",
      "Epoch 010 | Loss: 1.0783 | ROC-AUC: 0.9737 | PR-AUC: 0.1808\n",
      "Epoch 011 | Loss: 1.1382 | ROC-AUC: 0.9794 | PR-AUC: 0.2112\n",
      "Epoch 012 | Loss: 1.0955 | ROC-AUC: 0.9816 | PR-AUC: 0.2112\n",
      "Epoch 013 | Loss: 1.0426 | ROC-AUC: 0.9813 | PR-AUC: 0.2123\n",
      "Epoch 014 | Loss: 1.0240 | ROC-AUC: 0.9864 | PR-AUC: 0.2066\n",
      "Epoch 015 | Loss: 1.0112 | ROC-AUC: 0.9864 | PR-AUC: 0.2285\n",
      "Epoch 016 | Loss: 1.0216 | ROC-AUC: 0.9874 | PR-AUC: 0.2553\n",
      "Epoch 017 | Loss: 1.0092 | ROC-AUC: 0.9902 | PR-AUC: 0.2796\n",
      "Epoch 018 | Loss: 0.9573 | ROC-AUC: 0.9901 | PR-AUC: 0.2520\n",
      "Epoch 019 | Loss: 1.1614 | ROC-AUC: 0.9807 | PR-AUC: 0.2052\n",
      "Epoch 020 | Loss: 0.9503 | ROC-AUC: 0.9894 | PR-AUC: 0.2558\n",
      "Epoch 021 | Loss: 1.0364 | ROC-AUC: 0.9901 | PR-AUC: 0.3136\n",
      "Epoch 022 | Loss: 0.9984 | ROC-AUC: 0.9910 | PR-AUC: 0.3234\n",
      "Epoch 023 | Loss: 0.9413 | ROC-AUC: 0.9890 | PR-AUC: 0.2923\n",
      "Epoch 024 | Loss: 0.9344 | ROC-AUC: 0.9853 | PR-AUC: 0.2637\n",
      "Epoch 025 | Loss: 0.9381 | ROC-AUC: 0.9860 | PR-AUC: 0.2443\n",
      "Epoch 026 | Loss: 0.9261 | ROC-AUC: 0.9873 | PR-AUC: 0.2643\n",
      "Epoch 027 | Loss: 0.9143 | ROC-AUC: 0.9909 | PR-AUC: 0.3056\n",
      "Epoch 028 | Loss: 0.9257 | ROC-AUC: 0.9922 | PR-AUC: 0.3418\n",
      "Epoch 029 | Loss: 0.9064 | ROC-AUC: 0.9907 | PR-AUC: 0.3143\n",
      "Epoch 030 | Loss: 0.9050 | ROC-AUC: 0.9914 | PR-AUC: 0.3056\n",
      "Epoch 031 | Loss: 0.9061 | ROC-AUC: 0.9908 | PR-AUC: 0.2859\n",
      "Epoch 032 | Loss: 0.9080 | ROC-AUC: 0.9902 | PR-AUC: 0.2848\n",
      "Epoch 033 | Loss: 0.9198 | ROC-AUC: 0.9923 | PR-AUC: 0.3238\n",
      "Epoch 034 | Loss: 0.8975 | ROC-AUC: 0.9914 | PR-AUC: 0.2937\n",
      "Epoch 035 | Loss: 0.8965 | ROC-AUC: 0.9911 | PR-AUC: 0.2809\n",
      "Epoch 036 | Loss: 0.9041 | ROC-AUC: 0.9902 | PR-AUC: 0.2756\n",
      "Epoch 037 | Loss: 0.8960 | ROC-AUC: 0.9911 | PR-AUC: 0.2931\n",
      "Epoch 038 | Loss: 0.8929 | ROC-AUC: 0.9919 | PR-AUC: 0.2880\n",
      "Epoch 039 | Loss: 0.9012 | ROC-AUC: 0.9921 | PR-AUC: 0.2926\n",
      "Epoch 040 | Loss: 0.8907 | ROC-AUC: 0.9920 | PR-AUC: 0.3015\n",
      "Epoch 041 | Loss: 0.8958 | ROC-AUC: 0.9911 | PR-AUC: 0.3011\n",
      "Epoch 042 | Loss: 0.8947 | ROC-AUC: 0.9914 | PR-AUC: 0.2981\n",
      "Epoch 043 | Loss: 0.8894 | ROC-AUC: 0.9917 | PR-AUC: 0.3022\n",
      "Epoch 044 | Loss: 0.8891 | ROC-AUC: 0.9922 | PR-AUC: 0.3069\n",
      "Epoch 045 | Loss: 0.8939 | ROC-AUC: 0.9922 | PR-AUC: 0.2992\n",
      "Epoch 046 | Loss: 0.8888 | ROC-AUC: 0.9923 | PR-AUC: 0.2987\n",
      "Epoch 047 | Loss: 0.8880 | ROC-AUC: 0.9921 | PR-AUC: 0.2897\n",
      "Epoch 048 | Loss: 0.8873 | ROC-AUC: 0.9919 | PR-AUC: 0.2837\n",
      "Epoch 049 | Loss: 0.8868 | ROC-AUC: 0.9920 | PR-AUC: 0.2763\n",
      "Epoch 050 | Loss: 0.8864 | ROC-AUC: 0.9921 | PR-AUC: 0.2786\n",
      "Epoch 051 | Loss: 0.8838 | ROC-AUC: 0.9923 | PR-AUC: 0.2833\n",
      "Epoch 052 | Loss: 0.8850 | ROC-AUC: 0.9924 | PR-AUC: 0.2864\n",
      "Epoch 053 | Loss: 0.8830 | ROC-AUC: 0.9921 | PR-AUC: 0.2701\n",
      "Epoch 054 | Loss: 0.8856 | ROC-AUC: 0.9918 | PR-AUC: 0.2720\n",
      "Epoch 055 | Loss: 0.8829 | ROC-AUC: 0.9921 | PR-AUC: 0.2682\n",
      "Epoch 056 | Loss: 0.8811 | ROC-AUC: 0.9925 | PR-AUC: 0.2887\n",
      "Epoch 057 | Loss: 0.8858 | ROC-AUC: 0.9924 | PR-AUC: 0.2744\n",
      "Epoch 058 | Loss: 0.8794 | ROC-AUC: 0.9922 | PR-AUC: 0.2824\n",
      "Epoch 059 | Loss: 0.8791 | ROC-AUC: 0.9921 | PR-AUC: 0.2799\n",
      "Epoch 060 | Loss: 0.8822 | ROC-AUC: 0.9919 | PR-AUC: 0.2717\n",
      "Epoch 061 | Loss: 0.8774 | ROC-AUC: 0.9921 | PR-AUC: 0.2779\n",
      "Epoch 062 | Loss: 0.8824 | ROC-AUC: 0.9925 | PR-AUC: 0.2767\n",
      "Epoch 063 | Loss: 0.8781 | ROC-AUC: 0.9923 | PR-AUC: 0.2722\n",
      "Epoch 064 | Loss: 0.8766 | ROC-AUC: 0.9922 | PR-AUC: 0.2795\n",
      "Epoch 065 | Loss: 0.8739 | ROC-AUC: 0.9920 | PR-AUC: 0.2630\n",
      "Epoch 066 | Loss: 0.8734 | ROC-AUC: 0.9921 | PR-AUC: 0.2720\n",
      "Epoch 067 | Loss: 0.8756 | ROC-AUC: 0.9922 | PR-AUC: 0.2768\n",
      "Epoch 068 | Loss: 0.8736 | ROC-AUC: 0.9923 | PR-AUC: 0.2617\n",
      "Epoch 069 | Loss: 0.8723 | ROC-AUC: 0.9924 | PR-AUC: 0.2709\n",
      "Epoch 070 | Loss: 0.8698 | ROC-AUC: 0.9922 | PR-AUC: 0.2710\n",
      "Epoch 071 | Loss: 0.8686 | ROC-AUC: 0.9923 | PR-AUC: 0.2735\n",
      "Epoch 072 | Loss: 0.8690 | ROC-AUC: 0.9919 | PR-AUC: 0.2670\n",
      "Epoch 073 | Loss: 0.8659 | ROC-AUC: 0.9919 | PR-AUC: 0.2564\n",
      "Epoch 074 | Loss: 0.8684 | ROC-AUC: 0.9928 | PR-AUC: 0.2685\n",
      "Epoch 075 | Loss: 0.8635 | ROC-AUC: 0.9921 | PR-AUC: 0.2470\n",
      "Epoch 076 | Loss: 0.8624 | ROC-AUC: 0.9920 | PR-AUC: 0.2588\n",
      "Epoch 077 | Loss: 0.8642 | ROC-AUC: 0.9916 | PR-AUC: 0.2509\n",
      "Epoch 078 | Loss: 0.8590 | ROC-AUC: 0.9920 | PR-AUC: 0.2523\n",
      "Epoch 079 | Loss: 0.8570 | ROC-AUC: 0.9924 | PR-AUC: 0.2615\n",
      "Epoch 080 | Loss: 0.8563 | ROC-AUC: 0.9919 | PR-AUC: 0.2463\n",
      "Epoch 081 | Loss: 0.8510 | ROC-AUC: 0.9919 | PR-AUC: 0.2403\n",
      "Epoch 082 | Loss: 0.8520 | ROC-AUC: 0.9919 | PR-AUC: 0.2467\n",
      "Epoch 083 | Loss: 0.8537 | ROC-AUC: 0.9927 | PR-AUC: 0.2416\n",
      "Epoch 084 | Loss: 0.8480 | ROC-AUC: 0.9917 | PR-AUC: 0.2278\n",
      "Epoch 085 | Loss: 0.8494 | ROC-AUC: 0.9910 | PR-AUC: 0.2304\n",
      "Epoch 086 | Loss: 0.8481 | ROC-AUC: 0.9915 | PR-AUC: 0.2362\n",
      "Epoch 087 | Loss: 0.8449 | ROC-AUC: 0.9909 | PR-AUC: 0.2129\n",
      "Epoch 088 | Loss: 0.8471 | ROC-AUC: 0.9913 | PR-AUC: 0.2324\n",
      "Epoch 089 | Loss: 0.8419 | ROC-AUC: 0.9920 | PR-AUC: 0.2295\n",
      "Epoch 090 | Loss: 0.8415 | ROC-AUC: 0.9921 | PR-AUC: 0.2461\n",
      "Epoch 091 | Loss: 0.8410 | ROC-AUC: 0.9914 | PR-AUC: 0.2266\n",
      "Epoch 092 | Loss: 0.8387 | ROC-AUC: 0.9904 | PR-AUC: 0.2106\n",
      "Epoch 093 | Loss: 0.8362 | ROC-AUC: 0.9917 | PR-AUC: 0.2257\n",
      "Epoch 094 | Loss: 0.8395 | ROC-AUC: 0.9927 | PR-AUC: 0.2486\n",
      "Epoch 095 | Loss: 0.8334 | ROC-AUC: 0.9912 | PR-AUC: 0.2391\n",
      "Epoch 096 | Loss: 0.8331 | ROC-AUC: 0.9923 | PR-AUC: 0.2541\n",
      "Epoch 097 | Loss: 0.8340 | ROC-AUC: 0.9897 | PR-AUC: 0.2301\n",
      "Epoch 098 | Loss: 0.8349 | ROC-AUC: 0.9914 | PR-AUC: 0.2457\n",
      "Epoch 099 | Loss: 0.8319 | ROC-AUC: 0.9907 | PR-AUC: 0.2141\n",
      "Epoch 100 | Loss: 0.8302 | ROC-AUC: 0.9921 | PR-AUC: 0.2371\n",
      "Epoch 101 | Loss: 0.8318 | ROC-AUC: 0.9928 | PR-AUC: 0.2540\n",
      "Epoch 102 | Loss: 0.8289 | ROC-AUC: 0.9906 | PR-AUC: 0.2210\n",
      "Epoch 103 | Loss: 0.8325 | ROC-AUC: 0.9894 | PR-AUC: 0.2097\n",
      "Epoch 104 | Loss: 0.8271 | ROC-AUC: 0.9924 | PR-AUC: 0.2546\n",
      "Epoch 105 | Loss: 0.8271 | ROC-AUC: 0.9919 | PR-AUC: 0.2387\n",
      "Epoch 106 | Loss: 0.8289 | ROC-AUC: 0.9922 | PR-AUC: 0.2325\n",
      "Epoch 107 | Loss: 0.8259 | ROC-AUC: 0.9919 | PR-AUC: 0.2246\n",
      "Epoch 108 | Loss: 0.8247 | ROC-AUC: 0.9916 | PR-AUC: 0.2341\n",
      "Epoch 109 | Loss: 0.8254 | ROC-AUC: 0.9904 | PR-AUC: 0.2352\n",
      "Epoch 110 | Loss: 0.8252 | ROC-AUC: 0.9913 | PR-AUC: 0.2323\n",
      "Epoch 111 | Loss: 0.8224 | ROC-AUC: 0.9916 | PR-AUC: 0.2461\n",
      "Epoch 112 | Loss: 0.8253 | ROC-AUC: 0.9925 | PR-AUC: 0.2388\n",
      "Epoch 113 | Loss: 0.8221 | ROC-AUC: 0.9914 | PR-AUC: 0.2419\n",
      "Epoch 114 | Loss: 0.8192 | ROC-AUC: 0.9918 | PR-AUC: 0.2376\n",
      "Epoch 115 | Loss: 0.8240 | ROC-AUC: 0.9918 | PR-AUC: 0.2406\n",
      "Epoch 116 | Loss: 0.8213 | ROC-AUC: 0.9894 | PR-AUC: 0.2037\n",
      "Epoch 117 | Loss: 0.8176 | ROC-AUC: 0.9921 | PR-AUC: 0.2362\n",
      "Epoch 118 | Loss: 0.8183 | ROC-AUC: 0.9913 | PR-AUC: 0.2322\n",
      "Epoch 119 | Loss: 0.8179 | ROC-AUC: 0.9922 | PR-AUC: 0.2443\n",
      "Epoch 120 | Loss: 0.8178 | ROC-AUC: 0.9921 | PR-AUC: 0.2427\n",
      "Epoch 121 | Loss: 0.8199 | ROC-AUC: 0.9900 | PR-AUC: 0.2181\n",
      "Epoch 122 | Loss: 0.8161 | ROC-AUC: 0.9923 | PR-AUC: 0.2552\n",
      "Epoch 123 | Loss: 0.8188 | ROC-AUC: 0.9916 | PR-AUC: 0.2497\n",
      "Epoch 124 | Loss: 0.8168 | ROC-AUC: 0.9920 | PR-AUC: 0.2293\n",
      "Epoch 125 | Loss: 0.8173 | ROC-AUC: 0.9901 | PR-AUC: 0.2039\n",
      "Epoch 126 | Loss: 0.8163 | ROC-AUC: 0.9922 | PR-AUC: 0.2464\n",
      "Epoch 127 | Loss: 0.8143 | ROC-AUC: 0.9929 | PR-AUC: 0.2721\n",
      "Epoch 128 | Loss: 0.8177 | ROC-AUC: 0.9915 | PR-AUC: 0.2635\n",
      "Epoch 129 | Loss: 0.8198 | ROC-AUC: 0.9913 | PR-AUC: 0.2499\n",
      "Epoch 130 | Loss: 0.8151 | ROC-AUC: 0.9918 | PR-AUC: 0.2435\n",
      "Epoch 131 | Loss: 0.8135 | ROC-AUC: 0.9917 | PR-AUC: 0.2409\n",
      "Epoch 132 | Loss: 0.8155 | ROC-AUC: 0.9921 | PR-AUC: 0.2417\n",
      "Epoch 133 | Loss: 0.8149 | ROC-AUC: 0.9920 | PR-AUC: 0.2471\n",
      "Epoch 134 | Loss: 0.8144 | ROC-AUC: 0.9925 | PR-AUC: 0.2491\n",
      "Epoch 135 | Loss: 0.8129 | ROC-AUC: 0.9916 | PR-AUC: 0.2386\n",
      "Epoch 136 | Loss: 0.8139 | ROC-AUC: 0.9913 | PR-AUC: 0.2407\n",
      "Epoch 137 | Loss: 0.8119 | ROC-AUC: 0.9915 | PR-AUC: 0.2453\n",
      "Epoch 138 | Loss: 0.8131 | ROC-AUC: 0.9921 | PR-AUC: 0.2507\n",
      "Epoch 139 | Loss: 0.8145 | ROC-AUC: 0.9922 | PR-AUC: 0.2561\n",
      "Epoch 140 | Loss: 0.8140 | ROC-AUC: 0.9917 | PR-AUC: 0.2239\n",
      "Epoch 141 | Loss: 0.8123 | ROC-AUC: 0.9912 | PR-AUC: 0.2295\n",
      "Epoch 142 | Loss: 0.8127 | ROC-AUC: 0.9919 | PR-AUC: 0.2488\n",
      "Epoch 143 | Loss: 0.8130 | ROC-AUC: 0.9918 | PR-AUC: 0.2579\n",
      "Epoch 144 | Loss: 0.8112 | ROC-AUC: 0.9914 | PR-AUC: 0.2526\n",
      "Epoch 145 | Loss: 0.8120 | ROC-AUC: 0.9916 | PR-AUC: 0.2461\n",
      "Epoch 146 | Loss: 0.8118 | ROC-AUC: 0.9926 | PR-AUC: 0.2601\n",
      "Epoch 147 | Loss: 0.8111 | ROC-AUC: 0.9929 | PR-AUC: 0.2615\n",
      "Epoch 148 | Loss: 0.8093 | ROC-AUC: 0.9916 | PR-AUC: 0.2380\n",
      "Epoch 149 | Loss: 0.8097 | ROC-AUC: 0.9914 | PR-AUC: 0.2436\n",
      "Epoch 150 | Loss: 0.8103 | ROC-AUC: 0.9924 | PR-AUC: 0.2658\n",
      "Epoch 151 | Loss: 0.8080 | ROC-AUC: 0.9914 | PR-AUC: 0.2462\n",
      "Epoch 152 | Loss: 0.8076 | ROC-AUC: 0.9923 | PR-AUC: 0.2493\n",
      "Epoch 153 | Loss: 0.8077 | ROC-AUC: 0.9925 | PR-AUC: 0.2524\n",
      "Epoch 154 | Loss: 0.8064 | ROC-AUC: 0.9927 | PR-AUC: 0.2553\n",
      "Epoch 155 | Loss: 0.8068 | ROC-AUC: 0.9921 | PR-AUC: 0.2377\n",
      "Epoch 156 | Loss: 0.8076 | ROC-AUC: 0.9918 | PR-AUC: 0.2319\n",
      "Epoch 157 | Loss: 0.8062 | ROC-AUC: 0.9918 | PR-AUC: 0.2337\n",
      "Epoch 158 | Loss: 0.8060 | ROC-AUC: 0.9917 | PR-AUC: 0.2405\n",
      "Epoch 159 | Loss: 0.8062 | ROC-AUC: 0.9928 | PR-AUC: 0.2734\n",
      "Epoch 160 | Loss: 0.8057 | ROC-AUC: 0.9916 | PR-AUC: 0.2430\n",
      "Epoch 161 | Loss: 0.8042 | ROC-AUC: 0.9921 | PR-AUC: 0.2530\n",
      "Epoch 162 | Loss: 0.8048 | ROC-AUC: 0.9923 | PR-AUC: 0.2572\n",
      "Epoch 163 | Loss: 0.8036 | ROC-AUC: 0.9923 | PR-AUC: 0.2505\n",
      "Epoch 164 | Loss: 0.8036 | ROC-AUC: 0.9917 | PR-AUC: 0.2333\n",
      "Epoch 165 | Loss: 0.8068 | ROC-AUC: 0.9919 | PR-AUC: 0.2362\n",
      "Epoch 166 | Loss: 0.8055 | ROC-AUC: 0.9925 | PR-AUC: 0.2671\n",
      "Epoch 167 | Loss: 0.8054 | ROC-AUC: 0.9920 | PR-AUC: 0.2539\n",
      "Epoch 168 | Loss: 0.8054 | ROC-AUC: 0.9907 | PR-AUC: 0.2228\n",
      "Epoch 169 | Loss: 0.8032 | ROC-AUC: 0.9923 | PR-AUC: 0.2603\n",
      "Epoch 170 | Loss: 0.8074 | ROC-AUC: 0.9936 | PR-AUC: 0.2992\n",
      "Epoch 171 | Loss: 0.8038 | ROC-AUC: 0.9925 | PR-AUC: 0.2734\n",
      "Epoch 172 | Loss: 0.8035 | ROC-AUC: 0.9920 | PR-AUC: 0.2543\n",
      "Epoch 173 | Loss: 0.8040 | ROC-AUC: 0.9910 | PR-AUC: 0.2376\n",
      "Epoch 174 | Loss: 0.8016 | ROC-AUC: 0.9931 | PR-AUC: 0.2808\n",
      "Epoch 175 | Loss: 0.8037 | ROC-AUC: 0.9927 | PR-AUC: 0.2679\n",
      "Epoch 176 | Loss: 0.8028 | ROC-AUC: 0.9921 | PR-AUC: 0.2383\n",
      "Epoch 177 | Loss: 0.8027 | ROC-AUC: 0.9910 | PR-AUC: 0.2280\n",
      "Epoch 178 | Loss: 0.8009 | ROC-AUC: 0.9927 | PR-AUC: 0.2642\n",
      "Epoch 179 | Loss: 0.8026 | ROC-AUC: 0.9926 | PR-AUC: 0.2687\n",
      "Epoch 180 | Loss: 0.8027 | ROC-AUC: 0.9924 | PR-AUC: 0.2528\n",
      "Epoch 181 | Loss: 0.8074 | ROC-AUC: 0.9927 | PR-AUC: 0.2689\n",
      "Epoch 182 | Loss: 0.8013 | ROC-AUC: 0.9923 | PR-AUC: 0.2505\n",
      "Epoch 183 | Loss: 0.8021 | ROC-AUC: 0.9922 | PR-AUC: 0.2515\n",
      "Epoch 184 | Loss: 0.8016 | ROC-AUC: 0.9923 | PR-AUC: 0.2745\n",
      "Epoch 185 | Loss: 0.8020 | ROC-AUC: 0.9921 | PR-AUC: 0.2590\n",
      "Epoch 186 | Loss: 0.8023 | ROC-AUC: 0.9918 | PR-AUC: 0.2575\n",
      "Epoch 187 | Loss: 0.8015 | ROC-AUC: 0.9920 | PR-AUC: 0.2474\n",
      "Epoch 188 | Loss: 0.8016 | ROC-AUC: 0.9927 | PR-AUC: 0.2704\n",
      "Epoch 189 | Loss: 0.8024 | ROC-AUC: 0.9919 | PR-AUC: 0.2388\n",
      "Epoch 190 | Loss: 0.8022 | ROC-AUC: 0.9928 | PR-AUC: 0.2658\n",
      "Epoch 191 | Loss: 0.8012 | ROC-AUC: 0.9927 | PR-AUC: 0.2652\n",
      "Epoch 192 | Loss: 0.8024 | ROC-AUC: 0.9921 | PR-AUC: 0.2442\n",
      "Epoch 193 | Loss: 0.8010 | ROC-AUC: 0.9922 | PR-AUC: 0.2533\n",
      "Epoch 194 | Loss: 0.8007 | ROC-AUC: 0.9928 | PR-AUC: 0.2667\n",
      "Epoch 195 | Loss: 0.8010 | ROC-AUC: 0.9928 | PR-AUC: 0.2590\n",
      "Epoch 196 | Loss: 0.8012 | ROC-AUC: 0.9924 | PR-AUC: 0.2515\n",
      "Epoch 197 | Loss: 0.8014 | ROC-AUC: 0.9929 | PR-AUC: 0.2662\n",
      "Epoch 198 | Loss: 0.8008 | ROC-AUC: 0.9921 | PR-AUC: 0.2428\n",
      "Epoch 199 | Loss: 0.8008 | ROC-AUC: 0.9919 | PR-AUC: 0.2376\n",
      "Epoch 200 | Loss: 0.8005 | ROC-AUC: 0.9926 | PR-AUC: 0.2765\n"
     ]
    }
   ],
   "source": [
    "epochs = 200\n",
    "for epoch in range(epochs):\n",
    "    model.train()\n",
    "    optimizer.zero_grad()\n",
    "    \n",
    "    A_pred, Z = model(X, norm_adj)\n",
    "    pred_edges = A_pred[triu_indices[0], triu_indices[1]]\n",
    "    loss = loss_fn(pred_edges, true_edges)\n",
    "\n",
    "    \n",
    "    # loss = criterion(pred_edges, true_edges)\n",
    "    loss.backward()\n",
    "    optimizer.step()\n",
    "    \n",
    "    # Evaluation metrics\n",
    "    with torch.no_grad():\n",
    "        pred_np = pred_edges.detach().cpu().numpy()\n",
    "        true_np = true_edges.cpu().numpy()\n",
    "        roc = roc_auc_score(true_np, pred_np)\n",
    "        pr = average_precision_score(true_np, pred_np)\n",
    "\n",
    "    print(f\"Epoch {epoch+1:03d} | Loss: {loss.item():.4f} | ROC-AUC: {roc:.4f} | PR-AUC: {pr:.4f}\")\n",
    "\n"
   ]
  },
  {
   "cell_type": "code",
   "execution_count": null,
   "id": "56348e3b-320a-4805-8c76-2cca9183c160",
   "metadata": {},
   "outputs": [],
   "source": []
  },
  {
   "cell_type": "code",
   "execution_count": null,
   "id": "d9f5f4c0-2ce7-4a98-9387-ac7a942f98e9",
   "metadata": {},
   "outputs": [],
   "source": []
  },
  {
   "cell_type": "code",
   "execution_count": null,
   "id": "91824400-5d8f-4e70-a285-ee3601087be4",
   "metadata": {},
   "outputs": [],
   "source": []
  },
  {
   "cell_type": "code",
   "execution_count": null,
   "id": "ccb82ed5-dccf-4b88-aa78-a1af67df3ca1",
   "metadata": {},
   "outputs": [],
   "source": []
  },
  {
   "cell_type": "code",
   "execution_count": null,
   "id": "557059f8-96e8-4376-bcc3-7fc5d4afba93",
   "metadata": {},
   "outputs": [],
   "source": []
  },
  {
   "cell_type": "code",
   "execution_count": null,
   "id": "a7438a83-e406-4aad-b576-10990f07d802",
   "metadata": {},
   "outputs": [],
   "source": []
  },
  {
   "cell_type": "code",
   "execution_count": null,
   "id": "53f5d32b-5d2e-448c-bd7f-f9de500dcdc3",
   "metadata": {},
   "outputs": [],
   "source": [
    "# After training\n",
    "model.eval()\n",
    "with torch.no_grad():\n",
    "    A_pred_final, Z_final = model(X, norm_adj)  # [4051×4051], [4051×128]\n",
    "    A_pred_np = A_pred_final.cpu().numpy()      # Final decoded matrix\n",
    "    Z_np = Z_final.cpu().numpy() "
   ]
  },
  {
   "cell_type": "code",
   "execution_count": null,
   "id": "839e82c3-4755-47f6-9177-feab0b30c0e4",
   "metadata": {},
   "outputs": [],
   "source": []
  }
 ],
 "metadata": {
  "kernelspec": {
   "display_name": "Python 3 (ipykernel)",
   "language": "python",
   "name": "python3"
  },
  "language_info": {
   "codemirror_mode": {
    "name": "ipython",
    "version": 3
   },
   "file_extension": ".py",
   "mimetype": "text/x-python",
   "name": "python",
   "nbconvert_exporter": "python",
   "pygments_lexer": "ipython3",
   "version": "3.13.3"
  }
 },
 "nbformat": 4,
 "nbformat_minor": 5
}
