{
 "cells": [
  {
   "cell_type": "code",
   "execution_count": 1,
   "id": "12c7a4ba-4057-455f-b974-4716f56361d6",
   "metadata": {},
   "outputs": [],
   "source": [
    "import pandas as pd\n",
    "import numpy as np\n",
    "from sklearn.metrics.pairwise import cosine_similarity"
   ]
  },
  {
   "cell_type": "code",
   "execution_count": 2,
   "id": "e68d3e6c-86dc-4d79-b211-e356b9a1e79a",
   "metadata": {},
   "outputs": [],
   "source": [
    "drug_interaction=pd.read_csv(\"drug_interaction_drugcomb.csv\",low_memory=False)\n",
    "drug_feature=pd.read_csv(\"drug_feature.csv\",index_col=0)\n",
    "cell_feature=pd.read_csv(\"final_cell_line_feature.csv\",index_col=0)"
   ]
  },
  {
   "cell_type": "code",
   "execution_count": 3,
   "id": "5f652fd8-f1ad-46d7-8a90-7c2b70610f92",
   "metadata": {},
   "outputs": [
    {
     "data": {
      "text/plain": [
       "(1048575, 18)"
      ]
     },
     "execution_count": 3,
     "metadata": {},
     "output_type": "execute_result"
    }
   ],
   "source": [
    "drug_interaction.shape"
   ]
  },
  {
   "cell_type": "code",
   "execution_count": 4,
   "id": "580887b6-039a-46cf-9455-f81ede6e813e",
   "metadata": {},
   "outputs": [
    {
     "data": {
      "text/html": [
       "<div>\n",
       "<style scoped>\n",
       "    .dataframe tbody tr th:only-of-type {\n",
       "        vertical-align: middle;\n",
       "    }\n",
       "\n",
       "    .dataframe tbody tr th {\n",
       "        vertical-align: top;\n",
       "    }\n",
       "\n",
       "    .dataframe thead th {\n",
       "        text-align: right;\n",
       "    }\n",
       "</style>\n",
       "<table border=\"1\" class=\"dataframe\">\n",
       "  <thead>\n",
       "    <tr style=\"text-align: right;\">\n",
       "      <th></th>\n",
       "      <th>block_id</th>\n",
       "      <th>drug_row</th>\n",
       "      <th>drug_col</th>\n",
       "      <th>cell_line_name</th>\n",
       "      <th>conc_r_unit</th>\n",
       "      <th>conc_c_unit</th>\n",
       "      <th>css</th>\n",
       "      <th>synergy_zip</th>\n",
       "      <th>synergy_bliss</th>\n",
       "      <th>synergy_loewe</th>\n",
       "      <th>synergy_hsa</th>\n",
       "      <th>ic50_row</th>\n",
       "      <th>ic50_col</th>\n",
       "      <th>ri_row</th>\n",
       "      <th>ri_col</th>\n",
       "      <th>css_row</th>\n",
       "      <th>css_col</th>\n",
       "      <th>S</th>\n",
       "    </tr>\n",
       "  </thead>\n",
       "  <tbody>\n",
       "    <tr>\n",
       "      <th>0</th>\n",
       "      <td>1</td>\n",
       "      <td>5-FU</td>\n",
       "      <td>ABT-888</td>\n",
       "      <td>A2058</td>\n",
       "      <td>uM</td>\n",
       "      <td>uM</td>\n",
       "      <td>30.869</td>\n",
       "      <td>3.865915</td>\n",
       "      <td>6.256584</td>\n",
       "      <td>-2.951386</td>\n",
       "      <td>5.536903</td>\n",
       "      <td>5.126836</td>\n",
       "      <td>3.267734</td>\n",
       "      <td>11.471</td>\n",
       "      <td>-0.441</td>\n",
       "      <td>22.545</td>\n",
       "      <td>39.193</td>\n",
       "      <td>19.839</td>\n",
       "    </tr>\n",
       "    <tr>\n",
       "      <th>1</th>\n",
       "      <td>2</td>\n",
       "      <td>5-FU</td>\n",
       "      <td>ABT-888</td>\n",
       "      <td>A2058</td>\n",
       "      <td>uM</td>\n",
       "      <td>uM</td>\n",
       "      <td>27.460</td>\n",
       "      <td>8.247403</td>\n",
       "      <td>12.333896</td>\n",
       "      <td>3.125927</td>\n",
       "      <td>11.614215</td>\n",
       "      <td>5.126836</td>\n",
       "      <td>3.267734</td>\n",
       "      <td>11.471</td>\n",
       "      <td>-0.441</td>\n",
       "      <td>24.135</td>\n",
       "      <td>30.785</td>\n",
       "      <td>16.430</td>\n",
       "    </tr>\n",
       "    <tr>\n",
       "      <th>2</th>\n",
       "      <td>3</td>\n",
       "      <td>5-FU</td>\n",
       "      <td>ABT-888</td>\n",
       "      <td>A2058</td>\n",
       "      <td>uM</td>\n",
       "      <td>uM</td>\n",
       "      <td>29.901</td>\n",
       "      <td>6.063440</td>\n",
       "      <td>11.660209</td>\n",
       "      <td>2.452239</td>\n",
       "      <td>10.940528</td>\n",
       "      <td>5.126836</td>\n",
       "      <td>3.267734</td>\n",
       "      <td>11.471</td>\n",
       "      <td>-0.441</td>\n",
       "      <td>25.561</td>\n",
       "      <td>34.241</td>\n",
       "      <td>18.871</td>\n",
       "    </tr>\n",
       "    <tr>\n",
       "      <th>3</th>\n",
       "      <td>4</td>\n",
       "      <td>5-FU</td>\n",
       "      <td>ABT-888</td>\n",
       "      <td>A2058</td>\n",
       "      <td>uM</td>\n",
       "      <td>uM</td>\n",
       "      <td>24.016</td>\n",
       "      <td>-4.280231</td>\n",
       "      <td>5.145209</td>\n",
       "      <td>-4.062761</td>\n",
       "      <td>4.425528</td>\n",
       "      <td>5.126836</td>\n",
       "      <td>3.267734</td>\n",
       "      <td>11.471</td>\n",
       "      <td>-0.441</td>\n",
       "      <td>16.661</td>\n",
       "      <td>31.371</td>\n",
       "      <td>12.986</td>\n",
       "    </tr>\n",
       "    <tr>\n",
       "      <th>4</th>\n",
       "      <td>5</td>\n",
       "      <td>5-FU</td>\n",
       "      <td>AZD1775</td>\n",
       "      <td>A2058</td>\n",
       "      <td>uM</td>\n",
       "      <td>uM</td>\n",
       "      <td>66.847</td>\n",
       "      <td>12.284698</td>\n",
       "      <td>15.765467</td>\n",
       "      <td>10.409407</td>\n",
       "      <td>18.656340</td>\n",
       "      <td>5.126836</td>\n",
       "      <td>0.266027</td>\n",
       "      <td>11.471</td>\n",
       "      <td>25.164</td>\n",
       "      <td>76.501</td>\n",
       "      <td>57.193</td>\n",
       "      <td>30.212</td>\n",
       "    </tr>\n",
       "  </tbody>\n",
       "</table>\n",
       "</div>"
      ],
      "text/plain": [
       "   block_id drug_row drug_col cell_line_name conc_r_unit conc_c_unit     css  \\\n",
       "0         1     5-FU  ABT-888          A2058          uM          uM  30.869   \n",
       "1         2     5-FU  ABT-888          A2058          uM          uM  27.460   \n",
       "2         3     5-FU  ABT-888          A2058          uM          uM  29.901   \n",
       "3         4     5-FU  ABT-888          A2058          uM          uM  24.016   \n",
       "4         5     5-FU  AZD1775          A2058          uM          uM  66.847   \n",
       "\n",
       "   synergy_zip  synergy_bliss  synergy_loewe  synergy_hsa  ic50_row  ic50_col  \\\n",
       "0     3.865915       6.256584      -2.951386     5.536903  5.126836  3.267734   \n",
       "1     8.247403      12.333896       3.125927    11.614215  5.126836  3.267734   \n",
       "2     6.063440      11.660209       2.452239    10.940528  5.126836  3.267734   \n",
       "3    -4.280231       5.145209      -4.062761     4.425528  5.126836  3.267734   \n",
       "4    12.284698      15.765467      10.409407    18.656340  5.126836  0.266027   \n",
       "\n",
       "   ri_row  ri_col  css_row  css_col       S  \n",
       "0  11.471  -0.441   22.545   39.193  19.839  \n",
       "1  11.471  -0.441   24.135   30.785  16.430  \n",
       "2  11.471  -0.441   25.561   34.241  18.871  \n",
       "3  11.471  -0.441   16.661   31.371  12.986  \n",
       "4  11.471  25.164   76.501   57.193  30.212  "
      ]
     },
     "execution_count": 4,
     "metadata": {},
     "output_type": "execute_result"
    }
   ],
   "source": [
    "drug_interaction.head()"
   ]
  },
  {
   "cell_type": "code",
   "execution_count": 5,
   "id": "0e4de8cd-7262-4425-a4c2-809203e43b9a",
   "metadata": {},
   "outputs": [],
   "source": [
    "drug_interaction.dropna(inplace=True)"
   ]
  },
  {
   "cell_type": "code",
   "execution_count": 6,
   "id": "a3e74392-f7df-47ba-9174-5c3dc61b7ac9",
   "metadata": {},
   "outputs": [
    {
     "data": {
      "text/plain": [
       "(466033, 18)"
      ]
     },
     "execution_count": 6,
     "metadata": {},
     "output_type": "execute_result"
    }
   ],
   "source": [
    "drug_interaction.shape"
   ]
  },
  {
   "cell_type": "code",
   "execution_count": 7,
   "id": "94759494-2d8b-490d-b9d5-bcbb735674c7",
   "metadata": {},
   "outputs": [],
   "source": [
    "drug_interaction['synergistic_status'] = drug_interaction['synergy_zip'].apply(lambda x: 1 if x > 0 else 0)"
   ]
  },
  {
   "cell_type": "code",
   "execution_count": 8,
   "id": "b3bc6af5-3d5e-44df-936d-ad5edd5365c7",
   "metadata": {},
   "outputs": [],
   "source": [
    "drug_interaction=drug_interaction[['drug_row','drug_col','cell_line_name','synergistic_status']]"
   ]
  },
  {
   "cell_type": "code",
   "execution_count": 9,
   "id": "27799bd2-d60f-4c62-9026-6521fa99613b",
   "metadata": {},
   "outputs": [
    {
     "data": {
      "text/html": [
       "<div>\n",
       "<style scoped>\n",
       "    .dataframe tbody tr th:only-of-type {\n",
       "        vertical-align: middle;\n",
       "    }\n",
       "\n",
       "    .dataframe tbody tr th {\n",
       "        vertical-align: top;\n",
       "    }\n",
       "\n",
       "    .dataframe thead th {\n",
       "        text-align: right;\n",
       "    }\n",
       "</style>\n",
       "<table border=\"1\" class=\"dataframe\">\n",
       "  <thead>\n",
       "    <tr style=\"text-align: right;\">\n",
       "      <th></th>\n",
       "      <th>drug_row</th>\n",
       "      <th>drug_col</th>\n",
       "      <th>cell_line_name</th>\n",
       "      <th>synergistic_status</th>\n",
       "    </tr>\n",
       "  </thead>\n",
       "  <tbody>\n",
       "    <tr>\n",
       "      <th>0</th>\n",
       "      <td>5-FU</td>\n",
       "      <td>ABT-888</td>\n",
       "      <td>A2058</td>\n",
       "      <td>1</td>\n",
       "    </tr>\n",
       "    <tr>\n",
       "      <th>1</th>\n",
       "      <td>5-FU</td>\n",
       "      <td>ABT-888</td>\n",
       "      <td>A2058</td>\n",
       "      <td>1</td>\n",
       "    </tr>\n",
       "    <tr>\n",
       "      <th>2</th>\n",
       "      <td>5-FU</td>\n",
       "      <td>ABT-888</td>\n",
       "      <td>A2058</td>\n",
       "      <td>1</td>\n",
       "    </tr>\n",
       "    <tr>\n",
       "      <th>3</th>\n",
       "      <td>5-FU</td>\n",
       "      <td>ABT-888</td>\n",
       "      <td>A2058</td>\n",
       "      <td>0</td>\n",
       "    </tr>\n",
       "    <tr>\n",
       "      <th>4</th>\n",
       "      <td>5-FU</td>\n",
       "      <td>AZD1775</td>\n",
       "      <td>A2058</td>\n",
       "      <td>1</td>\n",
       "    </tr>\n",
       "  </tbody>\n",
       "</table>\n",
       "</div>"
      ],
      "text/plain": [
       "  drug_row drug_col cell_line_name  synergistic_status\n",
       "0     5-FU  ABT-888          A2058                   1\n",
       "1     5-FU  ABT-888          A2058                   1\n",
       "2     5-FU  ABT-888          A2058                   1\n",
       "3     5-FU  ABT-888          A2058                   0\n",
       "4     5-FU  AZD1775          A2058                   1"
      ]
     },
     "execution_count": 9,
     "metadata": {},
     "output_type": "execute_result"
    }
   ],
   "source": [
    "drug_interaction.head()"
   ]
  },
  {
   "cell_type": "code",
   "execution_count": 10,
   "id": "c710118d-0448-46e6-8681-8f77cf7ee050",
   "metadata": {},
   "outputs": [
    {
     "data": {
      "text/plain": [
       "synergistic_status\n",
       "0    258510\n",
       "1    207523\n",
       "Name: count, dtype: int64"
      ]
     },
     "execution_count": 10,
     "metadata": {},
     "output_type": "execute_result"
    }
   ],
   "source": [
    "drug_interaction.synergistic_status.value_counts()"
   ]
  },
  {
   "cell_type": "code",
   "execution_count": 11,
   "id": "d045cb1b-8974-4247-bf4f-ff6c9d876377",
   "metadata": {},
   "outputs": [],
   "source": [
    "interaction_drug= set(drug_interaction['drug_row']).union(set(drug_interaction['drug_col']))"
   ]
  },
  {
   "cell_type": "code",
   "execution_count": 12,
   "id": "6134d266-0aaa-49cb-ae34-e0718da439ad",
   "metadata": {},
   "outputs": [
    {
     "data": {
      "text/plain": [
       "4150"
      ]
     },
     "execution_count": 12,
     "metadata": {},
     "output_type": "execute_result"
    }
   ],
   "source": [
    "len(interaction_drug)"
   ]
  },
  {
   "cell_type": "code",
   "execution_count": 13,
   "id": "906e4294-274e-436d-be6b-fef433bee90c",
   "metadata": {},
   "outputs": [
    {
     "data": {
      "text/html": [
       "<div>\n",
       "<style scoped>\n",
       "    .dataframe tbody tr th:only-of-type {\n",
       "        vertical-align: middle;\n",
       "    }\n",
       "\n",
       "    .dataframe tbody tr th {\n",
       "        vertical-align: top;\n",
       "    }\n",
       "\n",
       "    .dataframe thead th {\n",
       "        text-align: right;\n",
       "    }\n",
       "</style>\n",
       "<table border=\"1\" class=\"dataframe\">\n",
       "  <thead>\n",
       "    <tr style=\"text-align: right;\">\n",
       "      <th></th>\n",
       "      <th>drug</th>\n",
       "      <th>0</th>\n",
       "      <th>1</th>\n",
       "      <th>2</th>\n",
       "      <th>3</th>\n",
       "      <th>4</th>\n",
       "      <th>5</th>\n",
       "      <th>6</th>\n",
       "      <th>7</th>\n",
       "      <th>8</th>\n",
       "      <th>...</th>\n",
       "      <th>2038</th>\n",
       "      <th>2039</th>\n",
       "      <th>2040</th>\n",
       "      <th>2041</th>\n",
       "      <th>2042</th>\n",
       "      <th>2043</th>\n",
       "      <th>2044</th>\n",
       "      <th>2045</th>\n",
       "      <th>2046</th>\n",
       "      <th>2047</th>\n",
       "    </tr>\n",
       "  </thead>\n",
       "  <tbody>\n",
       "    <tr>\n",
       "      <th>0</th>\n",
       "      <td>5-FU</td>\n",
       "      <td>0</td>\n",
       "      <td>0</td>\n",
       "      <td>0</td>\n",
       "      <td>0</td>\n",
       "      <td>0</td>\n",
       "      <td>0</td>\n",
       "      <td>0</td>\n",
       "      <td>0</td>\n",
       "      <td>0</td>\n",
       "      <td>...</td>\n",
       "      <td>0</td>\n",
       "      <td>0</td>\n",
       "      <td>0</td>\n",
       "      <td>0</td>\n",
       "      <td>0</td>\n",
       "      <td>0</td>\n",
       "      <td>0</td>\n",
       "      <td>0</td>\n",
       "      <td>0</td>\n",
       "      <td>0</td>\n",
       "    </tr>\n",
       "    <tr>\n",
       "      <th>1</th>\n",
       "      <td>ABT-888</td>\n",
       "      <td>0</td>\n",
       "      <td>0</td>\n",
       "      <td>0</td>\n",
       "      <td>1</td>\n",
       "      <td>0</td>\n",
       "      <td>0</td>\n",
       "      <td>0</td>\n",
       "      <td>0</td>\n",
       "      <td>0</td>\n",
       "      <td>...</td>\n",
       "      <td>0</td>\n",
       "      <td>0</td>\n",
       "      <td>0</td>\n",
       "      <td>0</td>\n",
       "      <td>0</td>\n",
       "      <td>0</td>\n",
       "      <td>0</td>\n",
       "      <td>0</td>\n",
       "      <td>0</td>\n",
       "      <td>0</td>\n",
       "    </tr>\n",
       "    <tr>\n",
       "      <th>2</th>\n",
       "      <td>AZD1775</td>\n",
       "      <td>0</td>\n",
       "      <td>0</td>\n",
       "      <td>0</td>\n",
       "      <td>0</td>\n",
       "      <td>0</td>\n",
       "      <td>0</td>\n",
       "      <td>0</td>\n",
       "      <td>0</td>\n",
       "      <td>0</td>\n",
       "      <td>...</td>\n",
       "      <td>0</td>\n",
       "      <td>0</td>\n",
       "      <td>0</td>\n",
       "      <td>0</td>\n",
       "      <td>0</td>\n",
       "      <td>0</td>\n",
       "      <td>0</td>\n",
       "      <td>0</td>\n",
       "      <td>0</td>\n",
       "      <td>0</td>\n",
       "    </tr>\n",
       "    <tr>\n",
       "      <th>3</th>\n",
       "      <td>BEZ-235</td>\n",
       "      <td>0</td>\n",
       "      <td>0</td>\n",
       "      <td>0</td>\n",
       "      <td>0</td>\n",
       "      <td>0</td>\n",
       "      <td>0</td>\n",
       "      <td>0</td>\n",
       "      <td>0</td>\n",
       "      <td>0</td>\n",
       "      <td>...</td>\n",
       "      <td>0</td>\n",
       "      <td>0</td>\n",
       "      <td>0</td>\n",
       "      <td>0</td>\n",
       "      <td>0</td>\n",
       "      <td>0</td>\n",
       "      <td>0</td>\n",
       "      <td>0</td>\n",
       "      <td>0</td>\n",
       "      <td>0</td>\n",
       "    </tr>\n",
       "    <tr>\n",
       "      <th>4</th>\n",
       "      <td>BORTEZOMIB</td>\n",
       "      <td>0</td>\n",
       "      <td>1</td>\n",
       "      <td>0</td>\n",
       "      <td>0</td>\n",
       "      <td>0</td>\n",
       "      <td>0</td>\n",
       "      <td>0</td>\n",
       "      <td>0</td>\n",
       "      <td>0</td>\n",
       "      <td>...</td>\n",
       "      <td>0</td>\n",
       "      <td>0</td>\n",
       "      <td>0</td>\n",
       "      <td>0</td>\n",
       "      <td>0</td>\n",
       "      <td>0</td>\n",
       "      <td>0</td>\n",
       "      <td>0</td>\n",
       "      <td>0</td>\n",
       "      <td>0</td>\n",
       "    </tr>\n",
       "  </tbody>\n",
       "</table>\n",
       "<p>5 rows × 2049 columns</p>\n",
       "</div>"
      ],
      "text/plain": [
       "         drug  0  1  2  3  4  5  6  7  8  ...  2038  2039  2040  2041  2042  \\\n",
       "0        5-FU  0  0  0  0  0  0  0  0  0  ...     0     0     0     0     0   \n",
       "1     ABT-888  0  0  0  1  0  0  0  0  0  ...     0     0     0     0     0   \n",
       "2     AZD1775  0  0  0  0  0  0  0  0  0  ...     0     0     0     0     0   \n",
       "3     BEZ-235  0  0  0  0  0  0  0  0  0  ...     0     0     0     0     0   \n",
       "4  BORTEZOMIB  0  1  0  0  0  0  0  0  0  ...     0     0     0     0     0   \n",
       "\n",
       "   2043  2044  2045  2046  2047  \n",
       "0     0     0     0     0     0  \n",
       "1     0     0     0     0     0  \n",
       "2     0     0     0     0     0  \n",
       "3     0     0     0     0     0  \n",
       "4     0     0     0     0     0  \n",
       "\n",
       "[5 rows x 2049 columns]"
      ]
     },
     "execution_count": 13,
     "metadata": {},
     "output_type": "execute_result"
    }
   ],
   "source": [
    "drug_feature.head()"
   ]
  },
  {
   "cell_type": "code",
   "execution_count": 14,
   "id": "50d248d6-cf64-407a-8dcb-9124b71c6ae5",
   "metadata": {},
   "outputs": [],
   "source": [
    "all_drug_with_feature=set(drug_feature['drug'].unique())"
   ]
  },
  {
   "cell_type": "code",
   "execution_count": 15,
   "id": "92a62def-c25d-49e5-b6ad-f56a029d20f1",
   "metadata": {},
   "outputs": [
    {
     "data": {
      "text/plain": [
       "4051"
      ]
     },
     "execution_count": 15,
     "metadata": {},
     "output_type": "execute_result"
    }
   ],
   "source": [
    "len(all_drug_with_feature)"
   ]
  },
  {
   "cell_type": "markdown",
   "id": "0f2edb47-6b08-4186-a82f-b741fcbcbce0",
   "metadata": {},
   "source": [
    "##### if all interaction drug has feature or not"
   ]
  },
  {
   "cell_type": "code",
   "execution_count": 16,
   "id": "d25cdeaf-9805-441a-99db-aa2d33ac3567",
   "metadata": {},
   "outputs": [
    {
     "name": "stdout",
     "output_type": "stream",
     "text": [
      " Some interaction drugs are missing in the feature set.\n",
      "Missing drugs: {'AC1L34YQ', 'AC1OFCEV', 'ZINC17545571', 'Vincristine Sulfate, Apocynaceae sp.', \"Phloretin 2'-galactoside\", 'AC1O7GND', 'ERK 11e', \"3',4'-Diacetylafzelin\", 'ZINC84688828', 'ZINC97975747', 'AC1NUNML', 'Curcumin, Curcuma longa L.', 'AC1O7H3F', 'AC1O53DL', 'PIFITHRIN-A (PFTA)', 'GYNOSTEMMA EXTRACT', 'CTK8E8456', 'Provitamin A1', 'AC1Q4OOX', 'QCR-20', 'ZINC208012538', 'ZINC101426918', 'ZINC103939005', 'AK174336', 'ACMC-20mj2l', 'CTK8F0346', 'AC1LAYFC', 'MOLPORT-042-665-727', 'TIC10 isomer', 'ZINC43163828', 'KS-00000Y5E', 'ZINC28538988', 'Pd-1/pd-l1 inhibitor 1', 'AGN-PC-0MU5N5', 'ZINC38139483', 'DSSTox_CID_28582', 'AK198640', 'AK-77283', 'AK160201', 'AC1OFCD4', 'ZINC34894448', 'Bacitracin (Zinc)', 'ZINC208951860', 'AC1MWLHC', 'AC1Q29DP', 'AC1L2QK3', 'ZINC11616261', 'ZINC117147304', 'KS-00001D5I', 'ZINC242723022', 'AC1L9B2S', 'AC1O41R4', 'AC1OFCEP', 'ZINC208949883', 'AC1OFCJY', 'AC1LIMNP', 'ZINC3881972', '1beta-Methylimipenem', 'TETRAETHYLENEPENTAMINE 5HCL', 'AC1NPCOI', 'C10H10O4', 'ZINC100015731', 'ZINC139045355', 'ZINC18182079', 'ZINC101112865', 'AC1M4BZH', 'AC1L1DW2', '(6-)E-<U+200B>AMINOCAPROIC ACID', 'ZINC250325905', 'METHYL-HESPERIDIN', 'ZINC44963243', 'ZINC22059945', 'AC1OF340', 'AK176003', 'ZD7288 HYDRATE', 'ONO-4059 analog', 'AC1L21NN', 'DSSTox_CID_31408', 'AC1L1EUK', 'AK170455', 'AC1LU7HW', 'KGBPLKOPSFDBOX-UHFFFAOYSA-N', 'Ergosterine', 'ZINC11616871', 'ZINC3831133', 'PLURISIN #1 (NSC 14613)', 'AC1OF4NF', 'AC1L1KJK', 'Triciribinephosphate', '04/04/7218', 'AC1NRBJE', 'ZINC21999985', 'AC1OF33F', 'AC1L1IJY', 'AC1LAKOZ', 'ZINC896472', 'AC1L9B3J', 'KS-00001CUZ', 'AC1LCZJT'}\n"
     ]
    }
   ],
   "source": [
    "if interaction_drug.issubset(all_drug_with_feature):\n",
    "    print(\"All interaction drugs are present in the feature set.\")\n",
    "else:\n",
    "    print(\" Some interaction drugs are missing in the feature set.\")\n",
    "    missing = interaction_drug - all_drug_with_feature\n",
    "    print(\"Missing drugs:\", missing)\n"
   ]
  },
  {
   "cell_type": "code",
   "execution_count": 17,
   "id": "c66bb575-92d6-4408-bb2f-f53c49879140",
   "metadata": {},
   "outputs": [],
   "source": [
    "drug_interaction = drug_interaction[\n",
    "    ~drug_interaction['drug_row'].isin(missing) &\n",
    "    ~drug_interaction['drug_col'].isin(missing)\n",
    "].reset_index(drop=True)"
   ]
  },
  {
   "cell_type": "code",
   "execution_count": 18,
   "id": "7d023579-ef00-48f6-87b6-397db43e01e9",
   "metadata": {},
   "outputs": [
    {
     "data": {
      "text/plain": [
       "(464744, 4)"
      ]
     },
     "execution_count": 18,
     "metadata": {},
     "output_type": "execute_result"
    }
   ],
   "source": [
    "drug_interaction.shape"
   ]
  },
  {
   "cell_type": "code",
   "execution_count": 19,
   "id": "a9f6efa8-9bc0-4034-ba0e-3dcb58ae05bd",
   "metadata": {},
   "outputs": [
    {
     "name": "stdout",
     "output_type": "stream",
     "text": [
      "Number of unique drugs before: 4051\n",
      "Number of unique drugs after: 4051\n",
      "Drugs removed: 0\n",
      "Drugs removed list: set()\n"
     ]
    }
   ],
   "source": [
    "all_drugs_before = set(drug_interaction['drug_row']) | set(drug_interaction['drug_col'])\n",
    "all_drugs_after = set(drug_interaction['drug_row']) | set(drug_interaction['drug_col'])\n",
    "\n",
    "removed_drugs = all_drugs_before - all_drugs_after\n",
    "print(f\"Number of unique drugs before: {len(all_drugs_before)}\")\n",
    "print(f\"Number of unique drugs after: {len(all_drugs_after)}\")\n",
    "print(f\"Drugs removed: {len(removed_drugs)}\")\n",
    "print(f\"Drugs removed list: {removed_drugs}\")"
   ]
  },
  {
   "cell_type": "code",
   "execution_count": 20,
   "id": "9b6a64d3-15b2-4653-b1c0-2372d70f1e6f",
   "metadata": {},
   "outputs": [],
   "source": [
    "interaction_drug= set(drug_interaction['drug_row']).union(set(drug_interaction['drug_col']))"
   ]
  },
  {
   "cell_type": "code",
   "execution_count": 21,
   "id": "4e06aa63-5ab7-4bd0-8c02-461ffc69baf3",
   "metadata": {},
   "outputs": [],
   "source": [
    "interaction_drug_new= set(drug_interaction['drug_row']).union(set(drug_interaction['drug_col']))"
   ]
  },
  {
   "cell_type": "code",
   "execution_count": 22,
   "id": "df414fbc-af5f-4559-bae5-deb48194c42c",
   "metadata": {},
   "outputs": [
    {
     "data": {
      "text/plain": [
       "(4051, 4051)"
      ]
     },
     "execution_count": 22,
     "metadata": {},
     "output_type": "execute_result"
    }
   ],
   "source": [
    "len(interaction_drug),len(interaction_drug_new)"
   ]
  },
  {
   "cell_type": "code",
   "execution_count": 23,
   "id": "801e8f98-11ed-4aa0-832c-7c76cdb180c4",
   "metadata": {},
   "outputs": [
    {
     "data": {
      "text/plain": [
       "True"
      ]
     },
     "execution_count": 23,
     "metadata": {},
     "output_type": "execute_result"
    }
   ],
   "source": [
    "all_drug_with_feature==interaction_drug_new"
   ]
  },
  {
   "cell_type": "code",
   "execution_count": 24,
   "id": "136e265a-1f8e-4d04-adf3-a81f043d22bf",
   "metadata": {},
   "outputs": [],
   "source": [
    "drug_feature['drug_id'] = range(len(drug_feature))"
   ]
  },
  {
   "cell_type": "code",
   "execution_count": 25,
   "id": "7ba49dc2-6341-4cde-855e-ae82054ee4e5",
   "metadata": {},
   "outputs": [],
   "source": [
    "drug_to_id = dict(zip(drug_feature['drug'], drug_feature['drug_id']))"
   ]
  },
  {
   "cell_type": "code",
   "execution_count": 26,
   "id": "6b95d1be-4ad7-4a43-a111-d6afdad1746c",
   "metadata": {},
   "outputs": [],
   "source": [
    "drug_feature.drop(columns=['drug_id','drug'],inplace=True)"
   ]
  },
  {
   "cell_type": "code",
   "execution_count": 27,
   "id": "fe252837-bb43-43b9-a0e4-2998a3228ea4",
   "metadata": {},
   "outputs": [
    {
     "data": {
      "text/html": [
       "<div>\n",
       "<style scoped>\n",
       "    .dataframe tbody tr th:only-of-type {\n",
       "        vertical-align: middle;\n",
       "    }\n",
       "\n",
       "    .dataframe tbody tr th {\n",
       "        vertical-align: top;\n",
       "    }\n",
       "\n",
       "    .dataframe thead th {\n",
       "        text-align: right;\n",
       "    }\n",
       "</style>\n",
       "<table border=\"1\" class=\"dataframe\">\n",
       "  <thead>\n",
       "    <tr style=\"text-align: right;\">\n",
       "      <th></th>\n",
       "      <th>0</th>\n",
       "      <th>1</th>\n",
       "      <th>2</th>\n",
       "      <th>3</th>\n",
       "      <th>4</th>\n",
       "      <th>5</th>\n",
       "      <th>6</th>\n",
       "      <th>7</th>\n",
       "      <th>8</th>\n",
       "      <th>9</th>\n",
       "      <th>...</th>\n",
       "      <th>2038</th>\n",
       "      <th>2039</th>\n",
       "      <th>2040</th>\n",
       "      <th>2041</th>\n",
       "      <th>2042</th>\n",
       "      <th>2043</th>\n",
       "      <th>2044</th>\n",
       "      <th>2045</th>\n",
       "      <th>2046</th>\n",
       "      <th>2047</th>\n",
       "    </tr>\n",
       "  </thead>\n",
       "  <tbody>\n",
       "    <tr>\n",
       "      <th>0</th>\n",
       "      <td>0</td>\n",
       "      <td>0</td>\n",
       "      <td>0</td>\n",
       "      <td>0</td>\n",
       "      <td>0</td>\n",
       "      <td>0</td>\n",
       "      <td>0</td>\n",
       "      <td>0</td>\n",
       "      <td>0</td>\n",
       "      <td>0</td>\n",
       "      <td>...</td>\n",
       "      <td>0</td>\n",
       "      <td>0</td>\n",
       "      <td>0</td>\n",
       "      <td>0</td>\n",
       "      <td>0</td>\n",
       "      <td>0</td>\n",
       "      <td>0</td>\n",
       "      <td>0</td>\n",
       "      <td>0</td>\n",
       "      <td>0</td>\n",
       "    </tr>\n",
       "    <tr>\n",
       "      <th>1</th>\n",
       "      <td>0</td>\n",
       "      <td>0</td>\n",
       "      <td>0</td>\n",
       "      <td>1</td>\n",
       "      <td>0</td>\n",
       "      <td>0</td>\n",
       "      <td>0</td>\n",
       "      <td>0</td>\n",
       "      <td>0</td>\n",
       "      <td>0</td>\n",
       "      <td>...</td>\n",
       "      <td>0</td>\n",
       "      <td>0</td>\n",
       "      <td>0</td>\n",
       "      <td>0</td>\n",
       "      <td>0</td>\n",
       "      <td>0</td>\n",
       "      <td>0</td>\n",
       "      <td>0</td>\n",
       "      <td>0</td>\n",
       "      <td>0</td>\n",
       "    </tr>\n",
       "    <tr>\n",
       "      <th>2</th>\n",
       "      <td>0</td>\n",
       "      <td>0</td>\n",
       "      <td>0</td>\n",
       "      <td>0</td>\n",
       "      <td>0</td>\n",
       "      <td>0</td>\n",
       "      <td>0</td>\n",
       "      <td>0</td>\n",
       "      <td>0</td>\n",
       "      <td>0</td>\n",
       "      <td>...</td>\n",
       "      <td>0</td>\n",
       "      <td>0</td>\n",
       "      <td>0</td>\n",
       "      <td>0</td>\n",
       "      <td>0</td>\n",
       "      <td>0</td>\n",
       "      <td>0</td>\n",
       "      <td>0</td>\n",
       "      <td>0</td>\n",
       "      <td>0</td>\n",
       "    </tr>\n",
       "    <tr>\n",
       "      <th>3</th>\n",
       "      <td>0</td>\n",
       "      <td>0</td>\n",
       "      <td>0</td>\n",
       "      <td>0</td>\n",
       "      <td>0</td>\n",
       "      <td>0</td>\n",
       "      <td>0</td>\n",
       "      <td>0</td>\n",
       "      <td>0</td>\n",
       "      <td>0</td>\n",
       "      <td>...</td>\n",
       "      <td>0</td>\n",
       "      <td>0</td>\n",
       "      <td>0</td>\n",
       "      <td>0</td>\n",
       "      <td>0</td>\n",
       "      <td>0</td>\n",
       "      <td>0</td>\n",
       "      <td>0</td>\n",
       "      <td>0</td>\n",
       "      <td>0</td>\n",
       "    </tr>\n",
       "    <tr>\n",
       "      <th>4</th>\n",
       "      <td>0</td>\n",
       "      <td>1</td>\n",
       "      <td>0</td>\n",
       "      <td>0</td>\n",
       "      <td>0</td>\n",
       "      <td>0</td>\n",
       "      <td>0</td>\n",
       "      <td>0</td>\n",
       "      <td>0</td>\n",
       "      <td>0</td>\n",
       "      <td>...</td>\n",
       "      <td>0</td>\n",
       "      <td>0</td>\n",
       "      <td>0</td>\n",
       "      <td>0</td>\n",
       "      <td>0</td>\n",
       "      <td>0</td>\n",
       "      <td>0</td>\n",
       "      <td>0</td>\n",
       "      <td>0</td>\n",
       "      <td>0</td>\n",
       "    </tr>\n",
       "  </tbody>\n",
       "</table>\n",
       "<p>5 rows × 2048 columns</p>\n",
       "</div>"
      ],
      "text/plain": [
       "   0  1  2  3  4  5  6  7  8  9  ...  2038  2039  2040  2041  2042  2043  \\\n",
       "0  0  0  0  0  0  0  0  0  0  0  ...     0     0     0     0     0     0   \n",
       "1  0  0  0  1  0  0  0  0  0  0  ...     0     0     0     0     0     0   \n",
       "2  0  0  0  0  0  0  0  0  0  0  ...     0     0     0     0     0     0   \n",
       "3  0  0  0  0  0  0  0  0  0  0  ...     0     0     0     0     0     0   \n",
       "4  0  1  0  0  0  0  0  0  0  0  ...     0     0     0     0     0     0   \n",
       "\n",
       "   2044  2045  2046  2047  \n",
       "0     0     0     0     0  \n",
       "1     0     0     0     0  \n",
       "2     0     0     0     0  \n",
       "3     0     0     0     0  \n",
       "4     0     0     0     0  \n",
       "\n",
       "[5 rows x 2048 columns]"
      ]
     },
     "execution_count": 27,
     "metadata": {},
     "output_type": "execute_result"
    }
   ],
   "source": [
    "drug_feature.head()"
   ]
  },
  {
   "cell_type": "code",
   "execution_count": 28,
   "id": "05bbcb81-c98e-45e4-b8d2-e1b98c8a63b9",
   "metadata": {},
   "outputs": [
    {
     "data": {
      "text/plain": [
       "(4051, 2048)"
      ]
     },
     "execution_count": 28,
     "metadata": {},
     "output_type": "execute_result"
    }
   ],
   "source": [
    "drug_feature.shape"
   ]
  },
  {
   "cell_type": "code",
   "execution_count": 29,
   "id": "a85ea992-1129-4746-8c92-0d29ba347b9f",
   "metadata": {},
   "outputs": [],
   "source": [
    "drug_interaction['drug_row_id'] = drug_interaction['drug_row'].map(drug_to_id)\n",
    "drug_interaction['drug_col_id'] = drug_interaction['drug_col'].map(drug_to_id)"
   ]
  },
  {
   "cell_type": "code",
   "execution_count": 30,
   "id": "4f6534b8-5458-46fd-9e28-8d54bd1c8796",
   "metadata": {},
   "outputs": [],
   "source": [
    "drug_interaction = drug_interaction.drop(columns=['drug_row', 'drug_col'])"
   ]
  },
  {
   "cell_type": "code",
   "execution_count": 31,
   "id": "63b5b903-386f-47a6-8d8a-bd2844549dca",
   "metadata": {},
   "outputs": [],
   "source": [
    "cols = ['drug_row_id', 'drug_col_id'] + [col for col in drug_interaction.columns if col not in ['drug_row_id', 'drug_col_id']]\n",
    "drug_interaction = drug_interaction[cols]"
   ]
  },
  {
   "cell_type": "code",
   "execution_count": 32,
   "id": "29e9c950-7b79-4467-9e62-c7465558670e",
   "metadata": {},
   "outputs": [
    {
     "data": {
      "text/html": [
       "<div>\n",
       "<style scoped>\n",
       "    .dataframe tbody tr th:only-of-type {\n",
       "        vertical-align: middle;\n",
       "    }\n",
       "\n",
       "    .dataframe tbody tr th {\n",
       "        vertical-align: top;\n",
       "    }\n",
       "\n",
       "    .dataframe thead th {\n",
       "        text-align: right;\n",
       "    }\n",
       "</style>\n",
       "<table border=\"1\" class=\"dataframe\">\n",
       "  <thead>\n",
       "    <tr style=\"text-align: right;\">\n",
       "      <th></th>\n",
       "      <th>drug_row_id</th>\n",
       "      <th>drug_col_id</th>\n",
       "      <th>cell_line_name</th>\n",
       "      <th>synergistic_status</th>\n",
       "    </tr>\n",
       "  </thead>\n",
       "  <tbody>\n",
       "    <tr>\n",
       "      <th>0</th>\n",
       "      <td>0</td>\n",
       "      <td>1</td>\n",
       "      <td>A2058</td>\n",
       "      <td>1</td>\n",
       "    </tr>\n",
       "    <tr>\n",
       "      <th>1</th>\n",
       "      <td>0</td>\n",
       "      <td>1</td>\n",
       "      <td>A2058</td>\n",
       "      <td>1</td>\n",
       "    </tr>\n",
       "    <tr>\n",
       "      <th>2</th>\n",
       "      <td>0</td>\n",
       "      <td>1</td>\n",
       "      <td>A2058</td>\n",
       "      <td>1</td>\n",
       "    </tr>\n",
       "    <tr>\n",
       "      <th>3</th>\n",
       "      <td>0</td>\n",
       "      <td>1</td>\n",
       "      <td>A2058</td>\n",
       "      <td>0</td>\n",
       "    </tr>\n",
       "    <tr>\n",
       "      <th>4</th>\n",
       "      <td>0</td>\n",
       "      <td>2</td>\n",
       "      <td>A2058</td>\n",
       "      <td>1</td>\n",
       "    </tr>\n",
       "  </tbody>\n",
       "</table>\n",
       "</div>"
      ],
      "text/plain": [
       "   drug_row_id  drug_col_id cell_line_name  synergistic_status\n",
       "0            0            1          A2058                   1\n",
       "1            0            1          A2058                   1\n",
       "2            0            1          A2058                   1\n",
       "3            0            1          A2058                   0\n",
       "4            0            2          A2058                   1"
      ]
     },
     "execution_count": 32,
     "metadata": {},
     "output_type": "execute_result"
    }
   ],
   "source": [
    "drug_interaction.head()"
   ]
  },
  {
   "cell_type": "code",
   "execution_count": 33,
   "id": "c58cf1fc-f2f8-411a-995d-e371bf16a100",
   "metadata": {},
   "outputs": [
    {
     "data": {
      "text/html": [
       "<div>\n",
       "<style scoped>\n",
       "    .dataframe tbody tr th:only-of-type {\n",
       "        vertical-align: middle;\n",
       "    }\n",
       "\n",
       "    .dataframe tbody tr th {\n",
       "        vertical-align: top;\n",
       "    }\n",
       "\n",
       "    .dataframe thead th {\n",
       "        text-align: right;\n",
       "    }\n",
       "</style>\n",
       "<table border=\"1\" class=\"dataframe\">\n",
       "  <thead>\n",
       "    <tr style=\"text-align: right;\">\n",
       "      <th></th>\n",
       "      <th>0</th>\n",
       "      <th>1</th>\n",
       "      <th>2</th>\n",
       "      <th>3</th>\n",
       "      <th>4</th>\n",
       "      <th>5</th>\n",
       "      <th>6</th>\n",
       "      <th>7</th>\n",
       "      <th>8</th>\n",
       "      <th>9</th>\n",
       "      <th>...</th>\n",
       "      <th>2038</th>\n",
       "      <th>2039</th>\n",
       "      <th>2040</th>\n",
       "      <th>2041</th>\n",
       "      <th>2042</th>\n",
       "      <th>2043</th>\n",
       "      <th>2044</th>\n",
       "      <th>2045</th>\n",
       "      <th>2046</th>\n",
       "      <th>2047</th>\n",
       "    </tr>\n",
       "  </thead>\n",
       "  <tbody>\n",
       "    <tr>\n",
       "      <th>0</th>\n",
       "      <td>0</td>\n",
       "      <td>0</td>\n",
       "      <td>0</td>\n",
       "      <td>0</td>\n",
       "      <td>0</td>\n",
       "      <td>0</td>\n",
       "      <td>0</td>\n",
       "      <td>0</td>\n",
       "      <td>0</td>\n",
       "      <td>0</td>\n",
       "      <td>...</td>\n",
       "      <td>0</td>\n",
       "      <td>0</td>\n",
       "      <td>0</td>\n",
       "      <td>0</td>\n",
       "      <td>0</td>\n",
       "      <td>0</td>\n",
       "      <td>0</td>\n",
       "      <td>0</td>\n",
       "      <td>0</td>\n",
       "      <td>0</td>\n",
       "    </tr>\n",
       "    <tr>\n",
       "      <th>1</th>\n",
       "      <td>0</td>\n",
       "      <td>0</td>\n",
       "      <td>0</td>\n",
       "      <td>1</td>\n",
       "      <td>0</td>\n",
       "      <td>0</td>\n",
       "      <td>0</td>\n",
       "      <td>0</td>\n",
       "      <td>0</td>\n",
       "      <td>0</td>\n",
       "      <td>...</td>\n",
       "      <td>0</td>\n",
       "      <td>0</td>\n",
       "      <td>0</td>\n",
       "      <td>0</td>\n",
       "      <td>0</td>\n",
       "      <td>0</td>\n",
       "      <td>0</td>\n",
       "      <td>0</td>\n",
       "      <td>0</td>\n",
       "      <td>0</td>\n",
       "    </tr>\n",
       "    <tr>\n",
       "      <th>2</th>\n",
       "      <td>0</td>\n",
       "      <td>0</td>\n",
       "      <td>0</td>\n",
       "      <td>0</td>\n",
       "      <td>0</td>\n",
       "      <td>0</td>\n",
       "      <td>0</td>\n",
       "      <td>0</td>\n",
       "      <td>0</td>\n",
       "      <td>0</td>\n",
       "      <td>...</td>\n",
       "      <td>0</td>\n",
       "      <td>0</td>\n",
       "      <td>0</td>\n",
       "      <td>0</td>\n",
       "      <td>0</td>\n",
       "      <td>0</td>\n",
       "      <td>0</td>\n",
       "      <td>0</td>\n",
       "      <td>0</td>\n",
       "      <td>0</td>\n",
       "    </tr>\n",
       "    <tr>\n",
       "      <th>3</th>\n",
       "      <td>0</td>\n",
       "      <td>0</td>\n",
       "      <td>0</td>\n",
       "      <td>0</td>\n",
       "      <td>0</td>\n",
       "      <td>0</td>\n",
       "      <td>0</td>\n",
       "      <td>0</td>\n",
       "      <td>0</td>\n",
       "      <td>0</td>\n",
       "      <td>...</td>\n",
       "      <td>0</td>\n",
       "      <td>0</td>\n",
       "      <td>0</td>\n",
       "      <td>0</td>\n",
       "      <td>0</td>\n",
       "      <td>0</td>\n",
       "      <td>0</td>\n",
       "      <td>0</td>\n",
       "      <td>0</td>\n",
       "      <td>0</td>\n",
       "    </tr>\n",
       "    <tr>\n",
       "      <th>4</th>\n",
       "      <td>0</td>\n",
       "      <td>1</td>\n",
       "      <td>0</td>\n",
       "      <td>0</td>\n",
       "      <td>0</td>\n",
       "      <td>0</td>\n",
       "      <td>0</td>\n",
       "      <td>0</td>\n",
       "      <td>0</td>\n",
       "      <td>0</td>\n",
       "      <td>...</td>\n",
       "      <td>0</td>\n",
       "      <td>0</td>\n",
       "      <td>0</td>\n",
       "      <td>0</td>\n",
       "      <td>0</td>\n",
       "      <td>0</td>\n",
       "      <td>0</td>\n",
       "      <td>0</td>\n",
       "      <td>0</td>\n",
       "      <td>0</td>\n",
       "    </tr>\n",
       "  </tbody>\n",
       "</table>\n",
       "<p>5 rows × 2048 columns</p>\n",
       "</div>"
      ],
      "text/plain": [
       "   0  1  2  3  4  5  6  7  8  9  ...  2038  2039  2040  2041  2042  2043  \\\n",
       "0  0  0  0  0  0  0  0  0  0  0  ...     0     0     0     0     0     0   \n",
       "1  0  0  0  1  0  0  0  0  0  0  ...     0     0     0     0     0     0   \n",
       "2  0  0  0  0  0  0  0  0  0  0  ...     0     0     0     0     0     0   \n",
       "3  0  0  0  0  0  0  0  0  0  0  ...     0     0     0     0     0     0   \n",
       "4  0  1  0  0  0  0  0  0  0  0  ...     0     0     0     0     0     0   \n",
       "\n",
       "   2044  2045  2046  2047  \n",
       "0     0     0     0     0  \n",
       "1     0     0     0     0  \n",
       "2     0     0     0     0  \n",
       "3     0     0     0     0  \n",
       "4     0     0     0     0  \n",
       "\n",
       "[5 rows x 2048 columns]"
      ]
     },
     "execution_count": 33,
     "metadata": {},
     "output_type": "execute_result"
    }
   ],
   "source": [
    "drug_feature.head()"
   ]
  },
  {
   "cell_type": "code",
   "execution_count": 34,
   "id": "0fd19542-2a96-402d-a577-607eee58a88a",
   "metadata": {},
   "outputs": [],
   "source": [
    "cos_sim_matrix = cosine_similarity(drug_feature)"
   ]
  },
  {
   "cell_type": "code",
   "execution_count": 35,
   "id": "4fba54fd-284f-43da-aba7-428120b16207",
   "metadata": {},
   "outputs": [
    {
     "data": {
      "text/plain": [
       "array([[1.        , 0.17699808, 0.11211037, ..., 0.11646819, 0.09727208,\n",
       "        0.14808722],\n",
       "       [0.17699808, 1.        , 0.2073627 , ..., 0.28200837, 0.22898571,\n",
       "        0.21912525],\n",
       "       [0.11211037, 0.2073627 , 1.        , ..., 0.17366199, 0.20719896,\n",
       "        0.34698416],\n",
       "       ...,\n",
       "       [0.11646819, 0.28200837, 0.17366199, ..., 1.        , 0.21525296,\n",
       "        0.27526932],\n",
       "       [0.09727208, 0.22898571, 0.20719896, ..., 0.21525296, 1.        ,\n",
       "        0.26000576],\n",
       "       [0.14808722, 0.21912525, 0.34698416, ..., 0.27526932, 0.26000576,\n",
       "        1.        ]], shape=(4051, 4051))"
      ]
     },
     "execution_count": 35,
     "metadata": {},
     "output_type": "execute_result"
    }
   ],
   "source": [
    "cos_sim_matrix"
   ]
  },
  {
   "cell_type": "code",
   "execution_count": 36,
   "id": "e2186a46-b8f7-4b9f-9913-7a4263fa6a98",
   "metadata": {},
   "outputs": [
    {
     "data": {
      "text/plain": [
       "(4051, 4051)"
      ]
     },
     "execution_count": 36,
     "metadata": {},
     "output_type": "execute_result"
    }
   ],
   "source": [
    "cos_sim_matrix.shape"
   ]
  },
  {
   "cell_type": "code",
   "execution_count": 37,
   "id": "f280cb30-26ee-40aa-8ce7-2ec87fb0560d",
   "metadata": {},
   "outputs": [],
   "source": [
    "interaction_drug= set(drug_interaction['drug_row_id']).union(set(drug_interaction['drug_col_id']))"
   ]
  },
  {
   "cell_type": "code",
   "execution_count": 38,
   "id": "7b1d76f3-ba23-4984-aeb8-99121d566572",
   "metadata": {},
   "outputs": [
    {
     "data": {
      "text/plain": [
       "4051"
      ]
     },
     "execution_count": 38,
     "metadata": {},
     "output_type": "execute_result"
    }
   ],
   "source": [
    "len(interaction_drug)"
   ]
  },
  {
   "cell_type": "code",
   "execution_count": 39,
   "id": "66d79f89-58e6-42c1-ae9b-a9686dd55105",
   "metadata": {},
   "outputs": [
    {
     "data": {
      "text/plain": [
       "(4051, 2048)"
      ]
     },
     "execution_count": 39,
     "metadata": {},
     "output_type": "execute_result"
    }
   ],
   "source": [
    "drug_feature.shape"
   ]
  },
  {
   "cell_type": "code",
   "execution_count": 42,
   "id": "3117e32f-4958-415a-9fef-af6bcb51b518",
   "metadata": {},
   "outputs": [],
   "source": [
    "df_synergy = drug_interaction[drug_interaction['synergistic_status'] == 1]\n"
   ]
  },
  {
   "cell_type": "code",
   "execution_count": 43,
   "id": "aaac6bc3-bd9a-44e6-9b9d-8db77709b155",
   "metadata": {},
   "outputs": [
    {
     "data": {
      "text/html": [
       "<div>\n",
       "<style scoped>\n",
       "    .dataframe tbody tr th:only-of-type {\n",
       "        vertical-align: middle;\n",
       "    }\n",
       "\n",
       "    .dataframe tbody tr th {\n",
       "        vertical-align: top;\n",
       "    }\n",
       "\n",
       "    .dataframe thead th {\n",
       "        text-align: right;\n",
       "    }\n",
       "</style>\n",
       "<table border=\"1\" class=\"dataframe\">\n",
       "  <thead>\n",
       "    <tr style=\"text-align: right;\">\n",
       "      <th></th>\n",
       "      <th>drug_row_id</th>\n",
       "      <th>drug_col_id</th>\n",
       "      <th>cell_line_name</th>\n",
       "      <th>synergistic_status</th>\n",
       "    </tr>\n",
       "  </thead>\n",
       "  <tbody>\n",
       "    <tr>\n",
       "      <th>0</th>\n",
       "      <td>0</td>\n",
       "      <td>1</td>\n",
       "      <td>A2058</td>\n",
       "      <td>1</td>\n",
       "    </tr>\n",
       "    <tr>\n",
       "      <th>1</th>\n",
       "      <td>0</td>\n",
       "      <td>1</td>\n",
       "      <td>A2058</td>\n",
       "      <td>1</td>\n",
       "    </tr>\n",
       "    <tr>\n",
       "      <th>2</th>\n",
       "      <td>0</td>\n",
       "      <td>1</td>\n",
       "      <td>A2058</td>\n",
       "      <td>1</td>\n",
       "    </tr>\n",
       "    <tr>\n",
       "      <th>4</th>\n",
       "      <td>0</td>\n",
       "      <td>2</td>\n",
       "      <td>A2058</td>\n",
       "      <td>1</td>\n",
       "    </tr>\n",
       "    <tr>\n",
       "      <th>5</th>\n",
       "      <td>0</td>\n",
       "      <td>2</td>\n",
       "      <td>A2058</td>\n",
       "      <td>1</td>\n",
       "    </tr>\n",
       "    <tr>\n",
       "      <th>...</th>\n",
       "      <td>...</td>\n",
       "      <td>...</td>\n",
       "      <td>...</td>\n",
       "      <td>...</td>\n",
       "    </tr>\n",
       "    <tr>\n",
       "      <th>464739</th>\n",
       "      <td>4046</td>\n",
       "      <td>1823</td>\n",
       "      <td>KB-ChR-8-5-11</td>\n",
       "      <td>1</td>\n",
       "    </tr>\n",
       "    <tr>\n",
       "      <th>464740</th>\n",
       "      <td>4047</td>\n",
       "      <td>1823</td>\n",
       "      <td>KB-ChR-8-5-11</td>\n",
       "      <td>1</td>\n",
       "    </tr>\n",
       "    <tr>\n",
       "      <th>464741</th>\n",
       "      <td>4048</td>\n",
       "      <td>1823</td>\n",
       "      <td>KB-ChR-8-5-11</td>\n",
       "      <td>1</td>\n",
       "    </tr>\n",
       "    <tr>\n",
       "      <th>464742</th>\n",
       "      <td>4049</td>\n",
       "      <td>1823</td>\n",
       "      <td>KB-ChR-8-5-11</td>\n",
       "      <td>1</td>\n",
       "    </tr>\n",
       "    <tr>\n",
       "      <th>464743</th>\n",
       "      <td>4050</td>\n",
       "      <td>1823</td>\n",
       "      <td>KB-ChR-8-5-11</td>\n",
       "      <td>1</td>\n",
       "    </tr>\n",
       "  </tbody>\n",
       "</table>\n",
       "<p>206499 rows × 4 columns</p>\n",
       "</div>"
      ],
      "text/plain": [
       "        drug_row_id  drug_col_id cell_line_name  synergistic_status\n",
       "0                 0            1          A2058                   1\n",
       "1                 0            1          A2058                   1\n",
       "2                 0            1          A2058                   1\n",
       "4                 0            2          A2058                   1\n",
       "5                 0            2          A2058                   1\n",
       "...             ...          ...            ...                 ...\n",
       "464739         4046         1823  KB-ChR-8-5-11                   1\n",
       "464740         4047         1823  KB-ChR-8-5-11                   1\n",
       "464741         4048         1823  KB-ChR-8-5-11                   1\n",
       "464742         4049         1823  KB-ChR-8-5-11                   1\n",
       "464743         4050         1823  KB-ChR-8-5-11                   1\n",
       "\n",
       "[206499 rows x 4 columns]"
      ]
     },
     "execution_count": 43,
     "metadata": {},
     "output_type": "execute_result"
    }
   ],
   "source": [
    "df_synergy"
   ]
  },
  {
   "cell_type": "code",
   "execution_count": 45,
   "id": "3852f4d0-281e-4146-9a46-f4a43bb3afb2",
   "metadata": {},
   "outputs": [],
   "source": [
    "num_drugs = max(drug_interaction['drug_row_id'].max(), drug_interaction['drug_col_id'].max()) + 1\n"
   ]
  },
  {
   "cell_type": "code",
   "execution_count": 46,
   "id": "8c20fae5-8811-4bb1-b6fa-f9580295ba82",
   "metadata": {},
   "outputs": [
    {
     "data": {
      "text/plain": [
       "np.int64(4051)"
      ]
     },
     "execution_count": 46,
     "metadata": {},
     "output_type": "execute_result"
    }
   ],
   "source": [
    "num_drugs"
   ]
  },
  {
   "cell_type": "code",
   "execution_count": 47,
   "id": "6641f638-e463-41e6-8b30-041c621b3487",
   "metadata": {},
   "outputs": [],
   "source": [
    "adj_matrix = np.zeros((num_drugs, num_drugs))\n"
   ]
  },
  {
   "cell_type": "code",
   "execution_count": 48,
   "id": "c040cef2-801a-47a1-b43b-27c521ad901f",
   "metadata": {},
   "outputs": [
    {
     "data": {
      "text/plain": [
       "array([[0., 0., 0., ..., 0., 0., 0.],\n",
       "       [0., 0., 0., ..., 0., 0., 0.],\n",
       "       [0., 0., 0., ..., 0., 0., 0.],\n",
       "       ...,\n",
       "       [0., 0., 0., ..., 0., 0., 0.],\n",
       "       [0., 0., 0., ..., 0., 0., 0.],\n",
       "       [0., 0., 0., ..., 0., 0., 0.]], shape=(4051, 4051))"
      ]
     },
     "execution_count": 48,
     "metadata": {},
     "output_type": "execute_result"
    }
   ],
   "source": [
    "adj_matrix"
   ]
  },
  {
   "cell_type": "code",
   "execution_count": 49,
   "id": "6391ab24-4ecf-43e8-9057-03490e13594f",
   "metadata": {},
   "outputs": [],
   "source": [
    "for _, row in df_synergy.iterrows():\n",
    "    i = int(row['drug_row_id'])\n",
    "    j = int(row['drug_col_id'])\n",
    "    adj_matrix[i, j] = 1\n",
    "    adj_matrix[j, i] = 1  "
   ]
  },
  {
   "cell_type": "code",
   "execution_count": 50,
   "id": "fbd1defd-794f-4da0-a7a7-b4263b8371a8",
   "metadata": {},
   "outputs": [],
   "source": [
    "np.fill_diagonal(adj_matrix, 0)"
   ]
  },
  {
   "cell_type": "code",
   "execution_count": 53,
   "id": "ccc41794-321b-4ac0-8f43-d27c20207f86",
   "metadata": {},
   "outputs": [
    {
     "data": {
      "text/plain": [
       "(4051, 4051)"
      ]
     },
     "execution_count": 53,
     "metadata": {},
     "output_type": "execute_result"
    }
   ],
   "source": [
    "adj_matrix.shape"
   ]
  },
  {
   "cell_type": "code",
   "execution_count": 54,
   "id": "376d87f0-604e-43f1-85ed-33ce62d701fa",
   "metadata": {},
   "outputs": [
    {
     "data": {
      "text/plain": [
       "array([[0., 1., 1., ..., 0., 0., 0.],\n",
       "       [1., 0., 1., ..., 0., 0., 0.],\n",
       "       [1., 1., 0., ..., 0., 0., 0.],\n",
       "       ...,\n",
       "       [0., 0., 0., ..., 0., 0., 0.],\n",
       "       [0., 0., 0., ..., 0., 0., 0.],\n",
       "       [0., 0., 0., ..., 0., 0., 0.]], shape=(4051, 4051))"
      ]
     },
     "execution_count": 54,
     "metadata": {},
     "output_type": "execute_result"
    }
   ],
   "source": [
    "adj_matrix"
   ]
  },
  {
   "cell_type": "code",
   "execution_count": null,
   "id": "0248d609-7ead-4c33-bfe4-62a0cfa7d7ad",
   "metadata": {},
   "outputs": [],
   "source": [
    "drug"
   ]
  },
  {
   "cell_type": "code",
   "execution_count": null,
   "id": "c2f8f9ae-a584-4fbb-a054-8cd756af895d",
   "metadata": {},
   "outputs": [],
   "source": []
  },
  {
   "cell_type": "code",
   "execution_count": null,
   "id": "e2287b60-f05b-4677-9a20-e005d78941fd",
   "metadata": {},
   "outputs": [],
   "source": []
  },
  {
   "cell_type": "code",
   "execution_count": null,
   "id": "ac102418-2e29-493c-82f6-4ee22f20c494",
   "metadata": {},
   "outputs": [],
   "source": []
  },
  {
   "cell_type": "code",
   "execution_count": null,
   "id": "1541d82f-5a50-4e3a-a93d-3c095c715112",
   "metadata": {},
   "outputs": [],
   "source": []
  },
  {
   "cell_type": "code",
   "execution_count": null,
   "id": "42005920-1840-4f0d-b214-dd461f64483c",
   "metadata": {},
   "outputs": [],
   "source": []
  },
  {
   "cell_type": "code",
   "execution_count": null,
   "id": "69a51c34-5333-427b-ac19-22bd32c15c54",
   "metadata": {},
   "outputs": [],
   "source": []
  }
 ],
 "metadata": {
  "kernelspec": {
   "display_name": "Python 3 (ipykernel)",
   "language": "python",
   "name": "python3"
  },
  "language_info": {
   "codemirror_mode": {
    "name": "ipython",
    "version": 3
   },
   "file_extension": ".py",
   "mimetype": "text/x-python",
   "name": "python",
   "nbconvert_exporter": "python",
   "pygments_lexer": "ipython3",
   "version": "3.13.3"
  }
 },
 "nbformat": 4,
 "nbformat_minor": 5
}
